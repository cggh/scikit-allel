{
 "cells": [
  {
   "cell_type": "code",
   "execution_count": 1,
   "metadata": {
    "collapsed": false
   },
   "outputs": [
    {
     "name": "stdout",
     "output_type": "stream",
     "text": [
      "allel 0.22.0.dev0\n"
     ]
    }
   ],
   "source": [
    "import sys\n",
    "sys.path.insert(0, '../..')\n",
    "import allel; print('allel', allel.__version__)\n",
    "import h5py\n",
    "import os\n",
    "import numpy as np\n",
    "import matplotlib as mpl\n",
    "import matplotlib.pyplot as plt\n",
    "%matplotlib inline"
   ]
  },
  {
   "cell_type": "code",
   "execution_count": 2,
   "metadata": {
    "collapsed": true
   },
   "outputs": [],
   "source": [
    "callset_dir = '/kwiat/2/coluzzi/ag1000g/data/phase1/release/AR3/variation/crosses/ar3/hdf5/'"
   ]
  },
  {
   "cell_type": "code",
   "execution_count": 3,
   "metadata": {
    "collapsed": false
   },
   "outputs": [
    {
     "name": "stdout",
     "output_type": "stream",
     "text": [
      "total 29G\r\n",
      "-r--r--r-- 1 aliman aliman 7.5G Apr 23  2015 ag1000g.crosses.phase1.ar3sites.2L.h5\r\n",
      "-r--r--r-- 1 aliman aliman   81 Jul 15  2015 ag1000g.crosses.phase1.ar3sites.2L.h5.md5\r\n",
      "-r--r--r-- 1 aliman aliman 8.6G Apr 23  2015 ag1000g.crosses.phase1.ar3sites.2R.h5\r\n",
      "-r--r--r-- 1 aliman aliman   81 Jul 15  2015 ag1000g.crosses.phase1.ar3sites.2R.h5.md5\r\n",
      "-r--r--r-- 1 aliman aliman 4.0G Apr 23  2015 ag1000g.crosses.phase1.ar3sites.pass.2L.h5\r\n",
      "-r--r--r-- 1 aliman aliman   86 Jul 15  2015 ag1000g.crosses.phase1.ar3sites.pass.2L.h5.md5\r\n",
      "-r--r--r-- 1 aliman aliman 5.4G Apr 23  2015 ag1000g.crosses.phase1.ar3sites.pass.2R.h5\r\n",
      "-r--r--r-- 1 aliman aliman   86 Jul 15  2015 ag1000g.crosses.phase1.ar3sites.pass.2R.h5.md5\r\n",
      "-r--r--r-- 1 aliman aliman 3.7G Apr 23  2015 ag1000g.crosses.phase1.ar3sites.pass.3L.h5\r\n",
      "-r--r--r-- 1 aliman aliman   86 Jul 15  2015 ag1000g.crosses.phase1.ar3sites.pass.3L.h5.md5\r\n"
     ]
    }
   ],
   "source": [
    "!ls -lh {callset_dir}"
   ]
  },
  {
   "cell_type": "code",
   "execution_count": 4,
   "metadata": {
    "collapsed": false
   },
   "outputs": [
    {
     "data": {
      "text/plain": [
       "<HDF5 file \"ag1000g.crosses.phase1.ar3sites.pass.2L.h5\" (mode r)>"
      ]
     },
     "execution_count": 4,
     "metadata": {},
     "output_type": "execute_result"
    }
   ],
   "source": [
    "chrom = '2L'\n",
    "callset = h5py.File(\n",
    "    os.path.join(callset_dir, 'ag1000g.crosses.phase1.ar3sites.pass.2L.h5'),\n",
    "    mode='r'\n",
    ")\n",
    "callset"
   ]
  },
  {
   "cell_type": "code",
   "execution_count": 5,
   "metadata": {
    "collapsed": false
   },
   "outputs": [
    {
     "data": {
      "text/plain": [
       "[b'AD0231-C',\n",
       " b'AD0232-C',\n",
       " b'AD0234-C',\n",
       " b'AD0235-C',\n",
       " b'AD0236-C',\n",
       " b'AD0237-C',\n",
       " b'AD0238-C',\n",
       " b'AD0239-C',\n",
       " b'AD0240-C',\n",
       " b'AD0241-C']"
      ]
     },
     "execution_count": 5,
     "metadata": {},
     "output_type": "execute_result"
    }
   ],
   "source": [
    "samples = list(callset['2L']['samples'][:])\n",
    "samples[:10]"
   ]
  },
  {
   "cell_type": "code",
   "execution_count": 6,
   "metadata": {
    "collapsed": false
   },
   "outputs": [
    {
     "data": {
      "text/plain": [
       "[b'AD0231-C',\n",
       " b'AD0232-C',\n",
       " b'AD0234-C',\n",
       " b'AD0235-C',\n",
       " b'AD0236-C',\n",
       " b'AD0237-C',\n",
       " b'AD0238-C',\n",
       " b'AD0239-C',\n",
       " b'AD0240-C',\n",
       " b'AD0241-C',\n",
       " b'AD0242-C',\n",
       " b'AD0243-C',\n",
       " b'AD0244-C',\n",
       " b'AD0245-C',\n",
       " b'AD0246-C',\n",
       " b'AD0247-C',\n",
       " b'AD0248-C',\n",
       " b'AD0249-C',\n",
       " b'AD0250-C',\n",
       " b'AD0251-C',\n",
       " b'AD0252-C',\n",
       " b'AD0253-C']"
      ]
     },
     "execution_count": 6,
     "metadata": {},
     "output_type": "execute_result"
    }
   ],
   "source": [
    "samples_29_2 = samples[:22]\n",
    "samples_29_2"
   ]
  },
  {
   "cell_type": "code",
   "execution_count": 7,
   "metadata": {
    "collapsed": false
   },
   "outputs": [
    {
     "data": {
      "text/html": [
       "<table class='petl'>\n",
       "<caption>GenotypeChunkedArray((10377280, 80, 2), int8, chunks=(6553, 10, 2))<br/>  nbytes: 1.5G; cbytes: 40.7M; cratio: 38.9;<br/>  compression: gzip; compression_opts: 1;<br/>  data: h5py._hl.dataset.Dataset</caption>\n",
       "<thead>\n",
       "<tr>\n",
       "<th></th>\n",
       "<th>0</th>\n",
       "<th>1</th>\n",
       "<th>2</th>\n",
       "<th>3</th>\n",
       "<th>4</th>\n",
       "<th>...</th>\n",
       "<th>75</th>\n",
       "<th>76</th>\n",
       "<th>77</th>\n",
       "<th>78</th>\n",
       "<th>79</th>\n",
       "</tr>\n",
       "</thead>\n",
       "<tbody>\n",
       "<tr>\n",
       "<td style='font-weight: bold'>0</td>\n",
       "<td>0/0</td>\n",
       "<td>0/0</td>\n",
       "<td>0/0</td>\n",
       "<td>0/0</td>\n",
       "<td>0/0</td>\n",
       "<td>...</td>\n",
       "<td>0/0</td>\n",
       "<td>0/0</td>\n",
       "<td>0/0</td>\n",
       "<td>0/0</td>\n",
       "<td>0/0</td>\n",
       "</tr>\n",
       "<tr>\n",
       "<td style='font-weight: bold'>1</td>\n",
       "<td>0/0</td>\n",
       "<td>0/0</td>\n",
       "<td>0/0</td>\n",
       "<td>0/0</td>\n",
       "<td>0/0</td>\n",
       "<td>...</td>\n",
       "<td>0/0</td>\n",
       "<td>0/0</td>\n",
       "<td>0/0</td>\n",
       "<td>0/0</td>\n",
       "<td>0/0</td>\n",
       "</tr>\n",
       "<tr>\n",
       "<td style='font-weight: bold'>2</td>\n",
       "<td>0/0</td>\n",
       "<td>0/0</td>\n",
       "<td>0/0</td>\n",
       "<td>0/0</td>\n",
       "<td>0/0</td>\n",
       "<td>...</td>\n",
       "<td>0/0</td>\n",
       "<td>0/0</td>\n",
       "<td>0/0</td>\n",
       "<td>0/0</td>\n",
       "<td>0/0</td>\n",
       "</tr>\n",
       "<tr>\n",
       "<td style='font-weight: bold'>3</td>\n",
       "<td>0/0</td>\n",
       "<td>0/0</td>\n",
       "<td>0/0</td>\n",
       "<td>0/0</td>\n",
       "<td>0/0</td>\n",
       "<td>...</td>\n",
       "<td>0/0</td>\n",
       "<td>0/0</td>\n",
       "<td>0/0</td>\n",
       "<td>0/0</td>\n",
       "<td>0/0</td>\n",
       "</tr>\n",
       "<tr>\n",
       "<td style='font-weight: bold'>4</td>\n",
       "<td>1/1</td>\n",
       "<td>0/0</td>\n",
       "<td>0/1</td>\n",
       "<td>0/1</td>\n",
       "<td>0/1</td>\n",
       "<td>...</td>\n",
       "<td>0/1</td>\n",
       "<td>0/1</td>\n",
       "<td>0/1</td>\n",
       "<td>0/1</td>\n",
       "<td>0/0</td>\n",
       "</tr>\n",
       "</tbody>\n",
       "</table>\n",
       "<p><strong>...</strong></p>"
      ],
      "text/plain": [
       "GenotypeChunkedArray((10377280, 80, 2), int8, chunks=(6553, 10, 2))\n",
       "  nbytes: 1.5G; cbytes: 40.7M; cratio: 38.9;\n",
       "  compression: gzip; compression_opts: 1;\n",
       "  data: h5py._hl.dataset.Dataset"
      ]
     },
     "execution_count": 7,
     "metadata": {},
     "output_type": "execute_result"
    }
   ],
   "source": [
    "genotype = allel.GenotypeChunkedArray(callset['2L']['calldata']['genotype'])\n",
    "genotype"
   ]
  },
  {
   "cell_type": "code",
   "execution_count": 8,
   "metadata": {
    "collapsed": false
   },
   "outputs": [
    {
     "data": {
      "text/html": [
       "<table class='petl'>\n",
       "<caption>GenotypeChunkedArray((10377280, 22, 2), int8, chunks=(10135, 22, 2))<br/>  nbytes: 435.4M; cbytes: 13.1M; cratio: 33.1;<br/>  compression: blosc; compression_opts: {'clevel': 5, 'shuffle': 1, 'cname': 'lz4'};<br/>  data: zarr.core.Array</caption>\n",
       "<thead>\n",
       "<tr>\n",
       "<th></th>\n",
       "<th>0</th>\n",
       "<th>1</th>\n",
       "<th>2</th>\n",
       "<th>3</th>\n",
       "<th>4</th>\n",
       "<th>...</th>\n",
       "<th>17</th>\n",
       "<th>18</th>\n",
       "<th>19</th>\n",
       "<th>20</th>\n",
       "<th>21</th>\n",
       "</tr>\n",
       "</thead>\n",
       "<tbody>\n",
       "<tr>\n",
       "<td style='font-weight: bold'>0</td>\n",
       "<td>0/0</td>\n",
       "<td>0/0</td>\n",
       "<td>0/0</td>\n",
       "<td>0/0</td>\n",
       "<td>0/0</td>\n",
       "<td>...</td>\n",
       "<td>0/0</td>\n",
       "<td>0/0</td>\n",
       "<td>0/0</td>\n",
       "<td>0/0</td>\n",
       "<td>0/0</td>\n",
       "</tr>\n",
       "<tr>\n",
       "<td style='font-weight: bold'>1</td>\n",
       "<td>0/0</td>\n",
       "<td>0/0</td>\n",
       "<td>0/0</td>\n",
       "<td>0/0</td>\n",
       "<td>0/0</td>\n",
       "<td>...</td>\n",
       "<td>0/0</td>\n",
       "<td>0/0</td>\n",
       "<td>0/0</td>\n",
       "<td>0/0</td>\n",
       "<td>0/0</td>\n",
       "</tr>\n",
       "<tr>\n",
       "<td style='font-weight: bold'>2</td>\n",
       "<td>0/0</td>\n",
       "<td>0/0</td>\n",
       "<td>0/0</td>\n",
       "<td>0/0</td>\n",
       "<td>0/0</td>\n",
       "<td>...</td>\n",
       "<td>0/0</td>\n",
       "<td>0/0</td>\n",
       "<td>0/0</td>\n",
       "<td>0/0</td>\n",
       "<td>0/0</td>\n",
       "</tr>\n",
       "<tr>\n",
       "<td style='font-weight: bold'>3</td>\n",
       "<td>0/0</td>\n",
       "<td>0/0</td>\n",
       "<td>0/0</td>\n",
       "<td>0/0</td>\n",
       "<td>0/0</td>\n",
       "<td>...</td>\n",
       "<td>0/0</td>\n",
       "<td>0/0</td>\n",
       "<td>0/0</td>\n",
       "<td>0/0</td>\n",
       "<td>0/0</td>\n",
       "</tr>\n",
       "<tr>\n",
       "<td style='font-weight: bold'>4</td>\n",
       "<td>1/1</td>\n",
       "<td>0/0</td>\n",
       "<td>0/1</td>\n",
       "<td>0/1</td>\n",
       "<td>0/1</td>\n",
       "<td>...</td>\n",
       "<td>0/1</td>\n",
       "<td>0/1</td>\n",
       "<td>0/1</td>\n",
       "<td>0/1</td>\n",
       "<td>0/1</td>\n",
       "</tr>\n",
       "</tbody>\n",
       "</table>\n",
       "<p><strong>...</strong></p>"
      ],
      "text/plain": [
       "GenotypeChunkedArray((10377280, 22, 2), int8, chunks=(10135, 22, 2))\n",
       "  nbytes: 435.4M; cbytes: 13.1M; cratio: 33.1;\n",
       "  compression: blosc; compression_opts: {'clevel': 5, 'shuffle': 1, 'cname': 'lz4'};\n",
       "  data: zarr.core.Array"
      ]
     },
     "execution_count": 8,
     "metadata": {},
     "output_type": "execute_result"
    }
   ],
   "source": [
    "# take samples from a single cross\n",
    "samples_cross = [samples.index(s) for s in samples_29_2]\n",
    "genotype_cross = genotype.take(samples_cross, axis=1)\n",
    "genotype_cross"
   ]
  },
  {
   "cell_type": "markdown",
   "metadata": {},
   "source": [
    "## New workflow"
   ]
  },
  {
   "cell_type": "code",
   "execution_count": 10,
   "metadata": {
    "collapsed": false
   },
   "outputs": [
    {
     "data": {
      "text/html": [
       "<table class='petl'>\n",
       "<caption>AlleleCountsArray((10377280, 4), dtype=int32)</caption>\n",
       "<thead>\n",
       "<tr>\n",
       "<th></th>\n",
       "<th>0</th>\n",
       "<th>1</th>\n",
       "<th>2</th>\n",
       "<th>3</th>\n",
       "</tr>\n",
       "</thead>\n",
       "<tbody>\n",
       "<tr>\n",
       "<td style='font-weight: bold'>0</td>\n",
       "<td>44</td>\n",
       "<td>0</td>\n",
       "<td>0</td>\n",
       "<td>0</td>\n",
       "</tr>\n",
       "<tr>\n",
       "<td style='font-weight: bold'>1</td>\n",
       "<td>44</td>\n",
       "<td>0</td>\n",
       "<td>0</td>\n",
       "<td>0</td>\n",
       "</tr>\n",
       "<tr>\n",
       "<td style='font-weight: bold'>2</td>\n",
       "<td>44</td>\n",
       "<td>0</td>\n",
       "<td>0</td>\n",
       "<td>0</td>\n",
       "</tr>\n",
       "<tr>\n",
       "<td style='font-weight: bold'>3</td>\n",
       "<td>44</td>\n",
       "<td>0</td>\n",
       "<td>0</td>\n",
       "<td>0</td>\n",
       "</tr>\n",
       "<tr>\n",
       "<td style='font-weight: bold'>4</td>\n",
       "<td>22</td>\n",
       "<td>22</td>\n",
       "<td>0</td>\n",
       "<td>0</td>\n",
       "</tr>\n",
       "</tbody>\n",
       "</table>\n",
       "<p><strong>...</strong></p>"
      ],
      "text/plain": [
       "AlleleCountsArray((10377280, 4), dtype=int32)\n",
       "[[44  0  0  0]\n",
       " [44  0  0  0]\n",
       " [44  0  0  0]\n",
       " ..., \n",
       " [44  0  0  0]\n",
       " [44  0  0  0]\n",
       " [44  0  0  0]]"
      ]
     },
     "execution_count": 10,
     "metadata": {},
     "output_type": "execute_result"
    }
   ],
   "source": [
    "ac_cross = genotype_cross.count_alleles()[:]\n",
    "ac_cross"
   ]
  },
  {
   "cell_type": "code",
   "execution_count": 11,
   "metadata": {
    "collapsed": false
   },
   "outputs": [
    {
     "data": {
      "text/html": [
       "<table class='petl'>\n",
       "<caption>GenotypeChunkedArray((675172, 22, 2), int8, chunks=(5275, 22, 2))<br/>  nbytes: 28.3M; cbytes: 8.0M; cratio: 3.5;<br/>  compression: blosc; compression_opts: {'clevel': 5, 'shuffle': 1, 'cname': 'lz4'};<br/>  data: zarr.core.Array</caption>\n",
       "<thead>\n",
       "<tr>\n",
       "<th></th>\n",
       "<th>0</th>\n",
       "<th>1</th>\n",
       "<th>2</th>\n",
       "<th>3</th>\n",
       "<th>4</th>\n",
       "<th>...</th>\n",
       "<th>17</th>\n",
       "<th>18</th>\n",
       "<th>19</th>\n",
       "<th>20</th>\n",
       "<th>21</th>\n",
       "</tr>\n",
       "</thead>\n",
       "<tbody>\n",
       "<tr>\n",
       "<td style='font-weight: bold'>0</td>\n",
       "<td>1/1</td>\n",
       "<td>0/0</td>\n",
       "<td>0/1</td>\n",
       "<td>0/1</td>\n",
       "<td>0/1</td>\n",
       "<td>...</td>\n",
       "<td>0/1</td>\n",
       "<td>0/1</td>\n",
       "<td>0/1</td>\n",
       "<td>0/1</td>\n",
       "<td>0/1</td>\n",
       "</tr>\n",
       "<tr>\n",
       "<td style='font-weight: bold'>1</td>\n",
       "<td>1/1</td>\n",
       "<td>0/0</td>\n",
       "<td>0/1</td>\n",
       "<td>0/1</td>\n",
       "<td>0/1</td>\n",
       "<td>...</td>\n",
       "<td>0/1</td>\n",
       "<td>0/1</td>\n",
       "<td>0/1</td>\n",
       "<td>0/1</td>\n",
       "<td>0/1</td>\n",
       "</tr>\n",
       "<tr>\n",
       "<td style='font-weight: bold'>2</td>\n",
       "<td>0/1</td>\n",
       "<td>0/0</td>\n",
       "<td>0/0</td>\n",
       "<td>0/1</td>\n",
       "<td>0/1</td>\n",
       "<td>...</td>\n",
       "<td>0/1</td>\n",
       "<td>0/0</td>\n",
       "<td>0/1</td>\n",
       "<td>0/1</td>\n",
       "<td>0/0</td>\n",
       "</tr>\n",
       "<tr>\n",
       "<td style='font-weight: bold'>3</td>\n",
       "<td>1/1</td>\n",
       "<td>0/0</td>\n",
       "<td>0/0</td>\n",
       "<td>0/1</td>\n",
       "<td>0/1</td>\n",
       "<td>...</td>\n",
       "<td>0/1</td>\n",
       "<td>0/0</td>\n",
       "<td>0/1</td>\n",
       "<td>0/1</td>\n",
       "<td>0/0</td>\n",
       "</tr>\n",
       "<tr>\n",
       "<td style='font-weight: bold'>4</td>\n",
       "<td>0/1</td>\n",
       "<td>0/0</td>\n",
       "<td>0/0</td>\n",
       "<td>0/1</td>\n",
       "<td>0/1</td>\n",
       "<td>...</td>\n",
       "<td>0/1</td>\n",
       "<td>0/0</td>\n",
       "<td>0/1</td>\n",
       "<td>0/1</td>\n",
       "<td>0/0</td>\n",
       "</tr>\n",
       "</tbody>\n",
       "</table>\n",
       "<p><strong>...</strong></p>"
      ],
      "text/plain": [
       "GenotypeChunkedArray((675172, 22, 2), int8, chunks=(5275, 22, 2))\n",
       "  nbytes: 28.3M; cbytes: 8.0M; cratio: 3.5;\n",
       "  compression: blosc; compression_opts: {'clevel': 5, 'shuffle': 1, 'cname': 'lz4'};\n",
       "  data: zarr.core.Array"
      ]
     },
     "execution_count": 11,
     "metadata": {},
     "output_type": "execute_result"
    }
   ],
   "source": [
    "genotype_cross_seg = genotype_cross.compress(ac_cross.is_segregating(), axis=0)\n",
    "genotype_cross_seg"
   ]
  },
  {
   "cell_type": "code",
   "execution_count": 12,
   "metadata": {
    "collapsed": false
   },
   "outputs": [
    {
     "data": {
      "text/html": [
       "<table class='petl'>\n",
       "<caption>GenotypeArray((675172, 22, 2), dtype=int8)</caption>\n",
       "<thead>\n",
       "<tr>\n",
       "<th></th>\n",
       "<th>0</th>\n",
       "<th>1</th>\n",
       "<th>2</th>\n",
       "<th>3</th>\n",
       "<th>4</th>\n",
       "<th>...</th>\n",
       "<th>17</th>\n",
       "<th>18</th>\n",
       "<th>19</th>\n",
       "<th>20</th>\n",
       "<th>21</th>\n",
       "</tr>\n",
       "</thead>\n",
       "<tbody>\n",
       "<tr>\n",
       "<td style='font-weight: bold'>0</td>\n",
       "<td>1/1</td>\n",
       "<td>0/0</td>\n",
       "<td>1/0</td>\n",
       "<td>1/0</td>\n",
       "<td>1/0</td>\n",
       "<td>...</td>\n",
       "<td>1/0</td>\n",
       "<td>1/0</td>\n",
       "<td>1/0</td>\n",
       "<td>1/0</td>\n",
       "<td>1/0</td>\n",
       "</tr>\n",
       "<tr>\n",
       "<td style='font-weight: bold'>1</td>\n",
       "<td>1/1</td>\n",
       "<td>0/0</td>\n",
       "<td>1/0</td>\n",
       "<td>1/0</td>\n",
       "<td>1/0</td>\n",
       "<td>...</td>\n",
       "<td>1/0</td>\n",
       "<td>1/0</td>\n",
       "<td>1/0</td>\n",
       "<td>1/0</td>\n",
       "<td>1/0</td>\n",
       "</tr>\n",
       "<tr>\n",
       "<td style='font-weight: bold'>2</td>\n",
       "<td>0/1</td>\n",
       "<td>0/0</td>\n",
       "<td>0/0</td>\n",
       "<td>1/0</td>\n",
       "<td>1/0</td>\n",
       "<td>...</td>\n",
       "<td>1/0</td>\n",
       "<td>0/0</td>\n",
       "<td>1/0</td>\n",
       "<td>1/0</td>\n",
       "<td>0/0</td>\n",
       "</tr>\n",
       "<tr>\n",
       "<td style='font-weight: bold'>3</td>\n",
       "<td>1/1</td>\n",
       "<td>0/0</td>\n",
       "<td>0/0</td>\n",
       "<td>1/0</td>\n",
       "<td>1/0</td>\n",
       "<td>...</td>\n",
       "<td>1/0</td>\n",
       "<td>0/0</td>\n",
       "<td>1/0</td>\n",
       "<td>1/0</td>\n",
       "<td>0/0</td>\n",
       "</tr>\n",
       "<tr>\n",
       "<td style='font-weight: bold'>4</td>\n",
       "<td>0/1</td>\n",
       "<td>0/0</td>\n",
       "<td>0/0</td>\n",
       "<td>1/0</td>\n",
       "<td>1/0</td>\n",
       "<td>...</td>\n",
       "<td>1/0</td>\n",
       "<td>0/0</td>\n",
       "<td>1/0</td>\n",
       "<td>1/0</td>\n",
       "<td>0/0</td>\n",
       "</tr>\n",
       "</tbody>\n",
       "</table>\n",
       "<p><strong>...</strong></p>"
      ],
      "text/plain": [
       "GenotypeArray((675172, 22, 2), dtype=int8)\n",
       "[[[1 1]  [0 0]  [1 0]  ...  [1 0]  [1 0]  [1 0]]\n",
       " [[1 1]  [0 0]  [1 0]  ...  [1 0]  [1 0]  [1 0]]\n",
       " [[0 1]  [0 0]  [0 0]  ...  [1 0]  [1 0]  [0 0]]\n",
       " ..., \n",
       " [[0 1]  [0 0]  [1 0]  ...  [0 0]  [1 0]  [0 0]]\n",
       " [[0 1]  [0 0]  [1 0]  ...  [0 0]  [1 0]  [0 0]]\n",
       " [[0 1]  [0 0]  [1 0]  ...  [0 0]  [1 0]  [0 0]]]"
      ]
     },
     "execution_count": 12,
     "metadata": {},
     "output_type": "execute_result"
    }
   ],
   "source": [
    "genotype_phased, is_phased = allel.stats.phase_by_transmission(genotype_cross_seg, window_size=100)\n",
    "genotype_phased"
   ]
  },
  {
   "cell_type": "code",
   "execution_count": 13,
   "metadata": {
    "collapsed": false
   },
   "outputs": [
    {
     "data": {
      "text/plain": [
       "array([[ True,  True,  True, ...,  True,  True,  True],\n",
       "       [ True,  True,  True, ...,  True,  True,  True],\n",
       "       [ True,  True,  True, ...,  True,  True,  True],\n",
       "       ..., \n",
       "       [ True,  True,  True, ...,  True,  True,  True],\n",
       "       [ True,  True,  True, ...,  True,  True,  True],\n",
       "       [ True,  True,  True, ...,  True,  True,  True]], dtype=bool)"
      ]
     },
     "execution_count": 13,
     "metadata": {},
     "output_type": "execute_result"
    }
   ],
   "source": [
    "is_phased"
   ]
  },
  {
   "cell_type": "code",
   "execution_count": 14,
   "metadata": {
    "collapsed": false
   },
   "outputs": [
    {
     "data": {
      "text/plain": [
       "(14106128, 14853784)"
      ]
     },
     "execution_count": 14,
     "metadata": {},
     "output_type": "execute_result"
    }
   ],
   "source": [
    "# check how many genotypes got phased\n",
    "np.count_nonzero(is_phased), is_phased.size"
   ]
  },
  {
   "cell_type": "code",
   "execution_count": 15,
   "metadata": {
    "collapsed": true
   },
   "outputs": [],
   "source": [
    "def plot_inheritance(g, is_phased, parent):\n",
    "\n",
    "    # paint inheritance\n",
    "    inh = allel.stats.paint_transmission(\n",
    "        g[:, parent], \n",
    "        np.column_stack([\n",
    "            g[:, parent],  # include parent\n",
    "            g[:, 2:, parent]\n",
    "        ])\n",
    "    )\n",
    "\n",
    "    # fix where phase is unknown\n",
    "    inh[:, 0:2][~is_phased[:, parent]] = 0\n",
    "    inh[:, 2:][~is_phased[:, 2:]] = 0\n",
    "\n",
    "    # take a look...\n",
    "    fig, ax = plt.subplots(figsize=(10, 6))\n",
    "    ax.pcolormesh(inh.T, \n",
    "                  cmap=mpl.colors.ListedColormap(['gray', 'r', 'b', 'orange', 'g', 'k', 'w', 'w']),\n",
    "                  vmin=0, vmax=7)\n",
    "    ax.set_yticks(np.arange(inh.shape[1])+.5)\n",
    "    ax.set_yticklabels(np.arange(inh.shape[1]))\n",
    "    ax.autoscale(axis='both', tight=True)    \n",
    "\n",
    "    "
   ]
  },
  {
   "cell_type": "code",
   "execution_count": 16,
   "metadata": {
    "collapsed": false
   },
   "outputs": [
    {
     "data": {
      "text/plain": [
       "array([[False, False],\n",
       "       [False, False],\n",
       "       [ True, False],\n",
       "       ..., \n",
       "       [ True, False],\n",
       "       [ True, False],\n",
       "       [ True, False]], dtype=bool)"
      ]
     },
     "execution_count": 16,
     "metadata": {},
     "output_type": "execute_result"
    }
   ],
   "source": [
    "parent_is_het = genotype_cross_seg[:, :2].is_het()\n",
    "parent_is_het"
   ]
  },
  {
   "cell_type": "code",
   "execution_count": 17,
   "metadata": {
    "collapsed": false
   },
   "outputs": [
    {
     "data": {
      "image/png": "[encoded data removed]",
      "text/plain": [
       "<matplotlib.figure.Figure at 0x7fc6fc626470>"
      ]
     },
     "metadata": {},
     "output_type": "display_data"
    }
   ],
   "source": [
    "plot_inheritance(genotype_phased[::100], is_phased[::100], parent=0)"
   ]
  },
  {
   "cell_type": "code",
   "execution_count": 18,
   "metadata": {
    "collapsed": false
   },
   "outputs": [
    {
     "data": {
      "image/png": "[encoded data removed]",
      "text/plain": [
       "<matplotlib.figure.Figure at 0x7fc6fc0df208>"
      ]
     },
     "metadata": {},
     "output_type": "display_data"
    }
   ],
   "source": [
    "flt = parent_is_het[:, 0]\n",
    "plot_inheritance(genotype_phased[flt][::100], is_phased[flt][::100], parent=0)"
   ]
  },
  {
   "cell_type": "code",
   "execution_count": 19,
   "metadata": {
    "collapsed": false
   },
   "outputs": [
    {
     "data": {
      "image/png": "[encoded data removed]",
      "text/plain": [
       "<matplotlib.figure.Figure at 0x7fc6fc08e550>"
      ]
     },
     "metadata": {},
     "output_type": "display_data"
    }
   ],
   "source": [
    "flt = parent_is_het[:, 0] & ~parent_is_het[:, 1]\n",
    "plot_inheritance(genotype_phased[flt][::100], is_phased[flt][::100], parent=0)"
   ]
  },
  {
   "cell_type": "code",
   "execution_count": 20,
   "metadata": {
    "collapsed": false
   },
   "outputs": [
    {
     "data": {
      "image/png": "[encoded data removed]",
      "text/plain": [
       "<matplotlib.figure.Figure at 0x7fc6e6fa3ba8>"
      ]
     },
     "metadata": {},
     "output_type": "display_data"
    }
   ],
   "source": [
    "flt = parent_is_het[:, 0] & ~parent_is_het[:, 1]\n",
    "plot_inheritance(genotype_phased[flt][100000:100500], is_phased[flt][100000:100500], parent=0)"
   ]
  },
  {
   "cell_type": "code",
   "execution_count": 21,
   "metadata": {
    "collapsed": false
   },
   "outputs": [
    {
     "data": {
      "image/png": "[encoded data removed]",
      "text/plain": [
       "<matplotlib.figure.Figure at 0x7fc6fc057208>"
      ]
     },
     "metadata": {},
     "output_type": "display_data"
    }
   ],
   "source": [
    "plot_inheritance(genotype_phased[::100], is_phased[::100], parent=1)"
   ]
  },
  {
   "cell_type": "code",
   "execution_count": 22,
   "metadata": {
    "collapsed": false
   },
   "outputs": [
    {
     "data": {
      "image/png": "[encoded data removed]",
      "text/plain": [
       "<matplotlib.figure.Figure at 0x7fc6e6ea7048>"
      ]
     },
     "metadata": {},
     "output_type": "display_data"
    }
   ],
   "source": [
    "flt = parent_is_het[:, 1]\n",
    "plot_inheritance(genotype_phased[flt][::100], is_phased[flt][::100], parent=1)"
   ]
  },
  {
   "cell_type": "code",
   "execution_count": 23,
   "metadata": {
    "collapsed": false
   },
   "outputs": [
    {
     "data": {
      "image/png": "[encoded data removed]",
      "text/plain": [
       "<matplotlib.figure.Figure at 0x7fc6e6e9aac8>"
      ]
     },
     "metadata": {},
     "output_type": "display_data"
    }
   ],
   "source": [
    "flt = parent_is_het[:, 1] & ~parent_is_het[:, 0]\n",
    "plot_inheritance(genotype_phased[flt][::100], is_phased[flt][::100], parent=1)"
   ]
  },
  {
   "cell_type": "markdown",
   "metadata": {},
   "source": [
    "## Legacy workflow"
   ]
  },
  {
   "cell_type": "code",
   "execution_count": 24,
   "metadata": {
    "collapsed": false
   },
   "outputs": [
    {
     "data": {
      "text/html": [
       "<table class='petl'>\n",
       "<caption>GenotypeArray((10377280, 2, 2), dtype=int8)</caption>\n",
       "<thead>\n",
       "<tr>\n",
       "<th></th>\n",
       "<th>0</th>\n",
       "<th>1</th>\n",
       "</tr>\n",
       "</thead>\n",
       "<tbody>\n",
       "<tr>\n",
       "<td style='font-weight: bold'>0</td>\n",
       "<td>0/0</td>\n",
       "<td>0/0</td>\n",
       "</tr>\n",
       "<tr>\n",
       "<td style='font-weight: bold'>1</td>\n",
       "<td>0/0</td>\n",
       "<td>0/0</td>\n",
       "</tr>\n",
       "<tr>\n",
       "<td style='font-weight: bold'>2</td>\n",
       "<td>0/0</td>\n",
       "<td>0/0</td>\n",
       "</tr>\n",
       "<tr>\n",
       "<td style='font-weight: bold'>3</td>\n",
       "<td>0/0</td>\n",
       "<td>0/0</td>\n",
       "</tr>\n",
       "<tr>\n",
       "<td style='font-weight: bold'>4</td>\n",
       "<td>1/1</td>\n",
       "<td>0/0</td>\n",
       "</tr>\n",
       "</tbody>\n",
       "</table>\n",
       "<p><strong>...</strong></p>"
      ],
      "text/plain": [
       "GenotypeArray((10377280, 2, 2), dtype=int8)\n",
       "[[[0 0]  [0 0]]\n",
       " [[0 0]  [0 0]]\n",
       " [[0 0]  [0 0]]\n",
       " ..., \n",
       " [[0 0]  [0 0]]\n",
       " [[0 0]  [0 0]]\n",
       " [[0 0]  [0 0]]]"
      ]
     },
     "execution_count": 24,
     "metadata": {},
     "output_type": "execute_result"
    }
   ],
   "source": [
    "# take only the parental genotypes\n",
    "genotype_cross_parents = genotype_cross.take([0, 1], axis=1)[:]\n",
    "genotype_cross_parents"
   ]
  },
  {
   "cell_type": "code",
   "execution_count": 25,
   "metadata": {
    "collapsed": false
   },
   "outputs": [
    {
     "data": {
      "text/plain": [
       "array([[False, False],\n",
       "       [False, False],\n",
       "       [False, False],\n",
       "       ..., \n",
       "       [False, False],\n",
       "       [False, False],\n",
       "       [False, False]], dtype=bool)"
      ]
     },
     "execution_count": 25,
     "metadata": {},
     "output_type": "execute_result"
    }
   ],
   "source": [
    "# find heterozygous genotypes in the parents\n",
    "is_het_parents = genotype_cross_parents.is_het()\n",
    "is_het_parents"
   ]
  },
  {
   "cell_type": "code",
   "execution_count": 26,
   "metadata": {
    "collapsed": false
   },
   "outputs": [
    {
     "data": {
      "text/html": [
       "<table class='petl'>\n",
       "<caption>GenotypeArray((220784, 22, 2), dtype=int8)</caption>\n",
       "<thead>\n",
       "<tr>\n",
       "<th></th>\n",
       "<th>0</th>\n",
       "<th>1</th>\n",
       "<th>2</th>\n",
       "<th>3</th>\n",
       "<th>4</th>\n",
       "<th>...</th>\n",
       "<th>17</th>\n",
       "<th>18</th>\n",
       "<th>19</th>\n",
       "<th>20</th>\n",
       "<th>21</th>\n",
       "</tr>\n",
       "</thead>\n",
       "<tbody>\n",
       "<tr>\n",
       "<td style='font-weight: bold'>0</td>\n",
       "<td>0/1</td>\n",
       "<td>0/0</td>\n",
       "<td>0/0</td>\n",
       "<td>0/1</td>\n",
       "<td>0/1</td>\n",
       "<td>...</td>\n",
       "<td>0/1</td>\n",
       "<td>0/0</td>\n",
       "<td>0/1</td>\n",
       "<td>0/1</td>\n",
       "<td>0/0</td>\n",
       "</tr>\n",
       "<tr>\n",
       "<td style='font-weight: bold'>1</td>\n",
       "<td>0/1</td>\n",
       "<td>0/0</td>\n",
       "<td>0/0</td>\n",
       "<td>0/1</td>\n",
       "<td>0/1</td>\n",
       "<td>...</td>\n",
       "<td>0/1</td>\n",
       "<td>0/0</td>\n",
       "<td>0/1</td>\n",
       "<td>0/1</td>\n",
       "<td>0/0</td>\n",
       "</tr>\n",
       "<tr>\n",
       "<td style='font-weight: bold'>2</td>\n",
       "<td>0/1</td>\n",
       "<td>0/0</td>\n",
       "<td>0/1</td>\n",
       "<td>0/0</td>\n",
       "<td>0/0</td>\n",
       "<td>...</td>\n",
       "<td>0/0</td>\n",
       "<td>0/1</td>\n",
       "<td>0/0</td>\n",
       "<td>0/0</td>\n",
       "<td>0/1</td>\n",
       "</tr>\n",
       "<tr>\n",
       "<td style='font-weight: bold'>3</td>\n",
       "<td>0/1</td>\n",
       "<td>0/0</td>\n",
       "<td>0/0</td>\n",
       "<td>0/1</td>\n",
       "<td>0/1</td>\n",
       "<td>...</td>\n",
       "<td>0/1</td>\n",
       "<td>0/0</td>\n",
       "<td>0/1</td>\n",
       "<td>0/1</td>\n",
       "<td>0/0</td>\n",
       "</tr>\n",
       "<tr>\n",
       "<td style='font-weight: bold'>4</td>\n",
       "<td>0/1</td>\n",
       "<td>0/0</td>\n",
       "<td>0/0</td>\n",
       "<td>0/1</td>\n",
       "<td>0/1</td>\n",
       "<td>...</td>\n",
       "<td>0/1</td>\n",
       "<td>0/0</td>\n",
       "<td>0/1</td>\n",
       "<td>0/1</td>\n",
       "<td>0/0</td>\n",
       "</tr>\n",
       "</tbody>\n",
       "</table>\n",
       "<p><strong>...</strong></p>"
      ],
      "text/plain": [
       "GenotypeArray((220784, 22, 2), dtype=int8)\n",
       "[[[0 1]  [0 0]  [0 0]  ...  [0 1]  [0 1]  [0 0]]\n",
       " [[0 1]  [0 0]  [0 0]  ...  [0 1]  [0 1]  [0 0]]\n",
       " [[0 1]  [0 0]  [0 1]  ...  [0 0]  [0 0]  [0 1]]\n",
       " ..., \n",
       " [[0 1]  [0 0]  [0 1]  ...  [0 0]  [0 1]  [0 0]]\n",
       " [[0 1]  [0 0]  [0 1]  ...  [0 0]  [0 1]  [0 0]]\n",
       " [[0 1]  [0 0]  [0 1]  ...  [0 0]  [0 1]  [0 0]]]"
      ]
     },
     "execution_count": 26,
     "metadata": {},
     "output_type": "execute_result"
    }
   ],
   "source": [
    "# select variants where maternal genotype is het\n",
    "g_mat_het = genotype_cross.compress(is_het_parents[:, 0] & ~is_het_parents[:, 1])[:]\n",
    "g_mat_het"
   ]
  },
  {
   "cell_type": "code",
   "execution_count": 27,
   "metadata": {
    "collapsed": false
   },
   "outputs": [
    {
     "name": "stdout",
     "output_type": "stream",
     "text": [
      "CPU times: user 48 ms, sys: 0 ns, total: 48 ms\n",
      "Wall time: 44.8 ms\n"
     ]
    }
   ],
   "source": [
    "%time _ = allel.stats.phase_progeny_by_transmission(g_mat_het)"
   ]
  },
  {
   "cell_type": "code",
   "execution_count": 28,
   "metadata": {
    "collapsed": false
   },
   "outputs": [
    {
     "data": {
      "text/html": [
       "<table class='petl'>\n",
       "<caption>GenotypeArray((220784, 22, 2), dtype=int8)</caption>\n",
       "<thead>\n",
       "<tr>\n",
       "<th></th>\n",
       "<th>0</th>\n",
       "<th>1</th>\n",
       "<th>2</th>\n",
       "<th>3</th>\n",
       "<th>4</th>\n",
       "<th>...</th>\n",
       "<th>17</th>\n",
       "<th>18</th>\n",
       "<th>19</th>\n",
       "<th>20</th>\n",
       "<th>21</th>\n",
       "</tr>\n",
       "</thead>\n",
       "<tbody>\n",
       "<tr>\n",
       "<td style='font-weight: bold'>0</td>\n",
       "<td>0/1</td>\n",
       "<td>0/0</td>\n",
       "<td>0/0</td>\n",
       "<td>1/0</td>\n",
       "<td>1/0</td>\n",
       "<td>...</td>\n",
       "<td>1/0</td>\n",
       "<td>0/0</td>\n",
       "<td>1/0</td>\n",
       "<td>1/0</td>\n",
       "<td>0/0</td>\n",
       "</tr>\n",
       "<tr>\n",
       "<td style='font-weight: bold'>1</td>\n",
       "<td>0/1</td>\n",
       "<td>0/0</td>\n",
       "<td>0/0</td>\n",
       "<td>1/0</td>\n",
       "<td>1/0</td>\n",
       "<td>...</td>\n",
       "<td>1/0</td>\n",
       "<td>0/0</td>\n",
       "<td>1/0</td>\n",
       "<td>1/0</td>\n",
       "<td>0/0</td>\n",
       "</tr>\n",
       "<tr>\n",
       "<td style='font-weight: bold'>2</td>\n",
       "<td>0/1</td>\n",
       "<td>0/0</td>\n",
       "<td>1/0</td>\n",
       "<td>0/0</td>\n",
       "<td>0/0</td>\n",
       "<td>...</td>\n",
       "<td>0/0</td>\n",
       "<td>1/0</td>\n",
       "<td>0/0</td>\n",
       "<td>0/0</td>\n",
       "<td>1/0</td>\n",
       "</tr>\n",
       "<tr>\n",
       "<td style='font-weight: bold'>3</td>\n",
       "<td>0/1</td>\n",
       "<td>0/0</td>\n",
       "<td>0/0</td>\n",
       "<td>1/0</td>\n",
       "<td>1/0</td>\n",
       "<td>...</td>\n",
       "<td>1/0</td>\n",
       "<td>0/0</td>\n",
       "<td>1/0</td>\n",
       "<td>1/0</td>\n",
       "<td>0/0</td>\n",
       "</tr>\n",
       "<tr>\n",
       "<td style='font-weight: bold'>4</td>\n",
       "<td>0/1</td>\n",
       "<td>0/0</td>\n",
       "<td>0/0</td>\n",
       "<td>1/0</td>\n",
       "<td>1/0</td>\n",
       "<td>...</td>\n",
       "<td>1/0</td>\n",
       "<td>0/0</td>\n",
       "<td>1/0</td>\n",
       "<td>1/0</td>\n",
       "<td>0/0</td>\n",
       "</tr>\n",
       "</tbody>\n",
       "</table>\n",
       "<p><strong>...</strong></p>"
      ],
      "text/plain": [
       "GenotypeArray((220784, 22, 2), dtype=int8)\n",
       "[[[0 1]  [0 0]  [0 0]  ...  [1 0]  [1 0]  [0 0]]\n",
       " [[0 1]  [0 0]  [0 0]  ...  [1 0]  [1 0]  [0 0]]\n",
       " [[0 1]  [0 0]  [1 0]  ...  [0 0]  [0 0]  [1 0]]\n",
       " ..., \n",
       " [[0 1]  [0 0]  [1 0]  ...  [0 0]  [1 0]  [0 0]]\n",
       " [[0 1]  [0 0]  [1 0]  ...  [0 0]  [1 0]  [0 0]]\n",
       " [[0 1]  [0 0]  [1 0]  ...  [0 0]  [1 0]  [0 0]]]"
      ]
     },
     "execution_count": 28,
     "metadata": {},
     "output_type": "execute_result"
    }
   ],
   "source": [
    "# step 1 - phase progeny by transmission\n",
    "g_mat_het_phased, is_phased_mat = allel.stats.phase_progeny_by_transmission(g_mat_het)\n",
    "g_mat_het_phased"
   ]
  },
  {
   "cell_type": "code",
   "execution_count": 29,
   "metadata": {
    "collapsed": false
   },
   "outputs": [
    {
     "name": "stdout",
     "output_type": "stream",
     "text": [
      "CPU times: user 164 ms, sys: 0 ns, total: 164 ms\n",
      "Wall time: 161 ms\n"
     ]
    }
   ],
   "source": [
    "%%time\n",
    "_ = allel.stats.phase_parents_by_transmission(\n",
    "    g_mat_het_phased,\n",
    "    is_phased_mat,\n",
    "    window_size=10,\n",
    ")"
   ]
  },
  {
   "cell_type": "code",
   "execution_count": 30,
   "metadata": {
    "collapsed": false
   },
   "outputs": [],
   "source": [
    "# step 2 - phase mother by transmission\n",
    "g_mat_het_phased_parent, is_phased_parent_mat = allel.stats.phase_parents_by_transmission(\n",
    "    g_mat_het_phased,\n",
    "    is_phased_mat,\n",
    "    window_size=10,\n",
    ")"
   ]
  },
  {
   "cell_type": "code",
   "execution_count": 31,
   "metadata": {
    "collapsed": false
   },
   "outputs": [
    {
     "data": {
      "text/html": [
       "<table class='petl'>\n",
       "<caption>GenotypeArray((220784, 22, 2), dtype=int8)</caption>\n",
       "<thead>\n",
       "<tr>\n",
       "<th></th>\n",
       "<th>0</th>\n",
       "<th>1</th>\n",
       "<th>2</th>\n",
       "<th>3</th>\n",
       "<th>4</th>\n",
       "<th>...</th>\n",
       "<th>17</th>\n",
       "<th>18</th>\n",
       "<th>19</th>\n",
       "<th>20</th>\n",
       "<th>21</th>\n",
       "</tr>\n",
       "</thead>\n",
       "<tbody>\n",
       "<tr>\n",
       "<td style='font-weight: bold'>0</td>\n",
       "<td>0/1</td>\n",
       "<td>0/0</td>\n",
       "<td>0/0</td>\n",
       "<td>1/0</td>\n",
       "<td>1/0</td>\n",
       "<td>...</td>\n",
       "<td>1/0</td>\n",
       "<td>0/0</td>\n",
       "<td>1/0</td>\n",
       "<td>1/0</td>\n",
       "<td>0/0</td>\n",
       "</tr>\n",
       "<tr>\n",
       "<td style='font-weight: bold'>1</td>\n",
       "<td>0/1</td>\n",
       "<td>0/0</td>\n",
       "<td>0/0</td>\n",
       "<td>1/0</td>\n",
       "<td>1/0</td>\n",
       "<td>...</td>\n",
       "<td>1/0</td>\n",
       "<td>0/0</td>\n",
       "<td>1/0</td>\n",
       "<td>1/0</td>\n",
       "<td>0/0</td>\n",
       "</tr>\n",
       "<tr>\n",
       "<td style='font-weight: bold'>2</td>\n",
       "<td>1/0</td>\n",
       "<td>0/0</td>\n",
       "<td>1/0</td>\n",
       "<td>0/0</td>\n",
       "<td>0/0</td>\n",
       "<td>...</td>\n",
       "<td>0/0</td>\n",
       "<td>1/0</td>\n",
       "<td>0/0</td>\n",
       "<td>0/0</td>\n",
       "<td>1/0</td>\n",
       "</tr>\n",
       "<tr>\n",
       "<td style='font-weight: bold'>3</td>\n",
       "<td>0/1</td>\n",
       "<td>0/0</td>\n",
       "<td>0/0</td>\n",
       "<td>1/0</td>\n",
       "<td>1/0</td>\n",
       "<td>...</td>\n",
       "<td>1/0</td>\n",
       "<td>0/0</td>\n",
       "<td>1/0</td>\n",
       "<td>1/0</td>\n",
       "<td>0/0</td>\n",
       "</tr>\n",
       "<tr>\n",
       "<td style='font-weight: bold'>4</td>\n",
       "<td>0/1</td>\n",
       "<td>0/0</td>\n",
       "<td>0/0</td>\n",
       "<td>1/0</td>\n",
       "<td>1/0</td>\n",
       "<td>...</td>\n",
       "<td>1/0</td>\n",
       "<td>0/0</td>\n",
       "<td>1/0</td>\n",
       "<td>1/0</td>\n",
       "<td>0/0</td>\n",
       "</tr>\n",
       "</tbody>\n",
       "</table>\n",
       "<p><strong>...</strong></p>"
      ],
      "text/plain": [
       "GenotypeArray((220784, 22, 2), dtype=int8)\n",
       "[[[0 1]  [0 0]  [0 0]  ...  [1 0]  [1 0]  [0 0]]\n",
       " [[0 1]  [0 0]  [0 0]  ...  [1 0]  [1 0]  [0 0]]\n",
       " [[1 0]  [0 0]  [1 0]  ...  [0 0]  [0 0]  [1 0]]\n",
       " ..., \n",
       " [[0 1]  [0 0]  [1 0]  ...  [0 0]  [1 0]  [0 0]]\n",
       " [[0 1]  [0 0]  [1 0]  ...  [0 0]  [1 0]  [0 0]]\n",
       " [[0 1]  [0 0]  [1 0]  ...  [0 0]  [1 0]  [0 0]]]"
      ]
     },
     "execution_count": 31,
     "metadata": {},
     "output_type": "execute_result"
    }
   ],
   "source": [
    "g_mat_het_phased_parent"
   ]
  },
  {
   "cell_type": "code",
   "execution_count": 32,
   "metadata": {
    "collapsed": false
   },
   "outputs": [
    {
     "data": {
      "text/plain": [
       "array([[1, 2, 1, ..., 2, 2, 1],\n",
       "       [1, 2, 1, ..., 2, 2, 1],\n",
       "       [1, 2, 1, ..., 2, 2, 1],\n",
       "       ..., \n",
       "       [1, 2, 2, ..., 1, 2, 1],\n",
       "       [1, 2, 2, ..., 1, 2, 1],\n",
       "       [1, 2, 2, ..., 1, 2, 1]], dtype=uint8)"
      ]
     },
     "execution_count": 32,
     "metadata": {},
     "output_type": "execute_result"
    }
   ],
   "source": [
    "inh_mat = allel.stats.paint_transmission(\n",
    "    g_mat_het_phased_parent[:, 0], \n",
    "    np.column_stack([\n",
    "        g_mat_het_phased_parent[:, 0],  # include parent\n",
    "        g_mat_het_phased_parent[:, 2:, 0]\n",
    "    ])\n",
    ")\n",
    "# fix where phase is unknown\n",
    "inh_mat[~is_phased_parent_mat[:, 0]] = 0\n",
    "inh_mat[~is_phased_parent_mat] = 0\n",
    "inh_mat"
   ]
  },
  {
   "cell_type": "code",
   "execution_count": 33,
   "metadata": {
    "collapsed": false
   },
   "outputs": [
    {
     "data": {
      "text/plain": [
       "(4849164, 4857248)"
      ]
     },
     "execution_count": 33,
     "metadata": {},
     "output_type": "execute_result"
    }
   ],
   "source": [
    "# check how many genotypes got phased\n",
    "np.count_nonzero(is_phased_parent_mat), is_phased_parent_mat.size"
   ]
  },
  {
   "cell_type": "code",
   "execution_count": 34,
   "metadata": {
    "collapsed": false
   },
   "outputs": [
    {
     "data": {
      "text/plain": [
       "0"
      ]
     },
     "execution_count": 34,
     "metadata": {},
     "output_type": "execute_result"
    }
   ],
   "source": [
    "np.min(inh_mat)"
   ]
  },
  {
   "cell_type": "code",
   "execution_count": 35,
   "metadata": {
    "collapsed": false
   },
   "outputs": [
    {
     "data": {
      "text/plain": [
       "2"
      ]
     },
     "execution_count": 35,
     "metadata": {},
     "output_type": "execute_result"
    }
   ],
   "source": [
    "np.max(inh_mat)"
   ]
  },
  {
   "cell_type": "code",
   "execution_count": 36,
   "metadata": {
    "collapsed": false
   },
   "outputs": [
    {
     "data": {
      "image/png": "[encoded data removed]",
      "text/plain": [
       "<matplotlib.figure.Figure at 0x7fc6fc17f198>"
      ]
     },
     "metadata": {},
     "output_type": "display_data"
    }
   ],
   "source": [
    "# take a look...\n",
    "fig, ax = plt.subplots(figsize=(10, 6))\n",
    "ax.pcolormesh(inh_mat[::100].T, cmap=mpl.colors.ListedColormap(['w', 'r', 'b']))\n",
    "ax.autoscale(axis='both', tight=True)"
   ]
  },
  {
   "cell_type": "code",
   "execution_count": 37,
   "metadata": {
    "collapsed": false
   },
   "outputs": [
    {
     "data": {
      "image/png": "[encoded data removed]",
      "text/plain": [
       "<matplotlib.figure.Figure at 0x7fc6fc195208>"
      ]
     },
     "metadata": {},
     "output_type": "display_data"
    }
   ],
   "source": [
    "# take a look...\n",
    "fig, ax = plt.subplots(figsize=(10, 6))\n",
    "ax.pcolormesh(inh_mat[103010:103100].T, \n",
    "              cmap=mpl.colors.ListedColormap(['w', 'r', 'b']),\n",
    "              vmin=0, vmax=2)\n",
    "ax.set_yticks(np.arange(inh_mat.shape[1])+.5)\n",
    "ax.set_yticklabels(np.arange(inh_mat.shape[1]))\n",
    "ax.autoscale(axis='both', tight=True)"
   ]
  },
  {
   "cell_type": "code",
   "execution_count": 38,
   "metadata": {
    "collapsed": false
   },
   "outputs": [
    {
     "data": {
      "text/html": [
       "<table class='petl'>\n",
       "<caption>GenotypeArray((90, 22, 2), dtype=int8)</caption>\n",
       "<thead>\n",
       "<tr>\n",
       "<th></th>\n",
       "<th>0</th>\n",
       "<th>1</th>\n",
       "<th>2</th>\n",
       "<th>3</th>\n",
       "<th>4</th>\n",
       "<th>...</th>\n",
       "<th>17</th>\n",
       "<th>18</th>\n",
       "<th>19</th>\n",
       "<th>20</th>\n",
       "<th>21</th>\n",
       "</tr>\n",
       "</thead>\n",
       "<tbody>\n",
       "<tr>\n",
       "<td style='font-weight: bold'>0</td>\n",
       "<td>1/0</td>\n",
       "<td>0/0</td>\n",
       "<td>0/0</td>\n",
       "<td>0/0</td>\n",
       "<td>1/0</td>\n",
       "<td>...</td>\n",
       "<td>0/0</td>\n",
       "<td>1/0</td>\n",
       "<td>0/0</td>\n",
       "<td>0/0</td>\n",
       "<td>1/0</td>\n",
       "</tr>\n",
       "<tr>\n",
       "<td style='font-weight: bold'>1</td>\n",
       "<td>2/0</td>\n",
       "<td>0/0</td>\n",
       "<td>0/0</td>\n",
       "<td>0/0</td>\n",
       "<td>2/0</td>\n",
       "<td>...</td>\n",
       "<td>0/0</td>\n",
       "<td>2/0</td>\n",
       "<td>0/0</td>\n",
       "<td>0/0</td>\n",
       "<td>2/0</td>\n",
       "</tr>\n",
       "<tr>\n",
       "<td style='font-weight: bold'>2</td>\n",
       "<td>1/0</td>\n",
       "<td>0/0</td>\n",
       "<td>0/0</td>\n",
       "<td>0/0</td>\n",
       "<td>1/0</td>\n",
       "<td>...</td>\n",
       "<td>0/0</td>\n",
       "<td>1/0</td>\n",
       "<td>0/0</td>\n",
       "<td>0/0</td>\n",
       "<td>1/0</td>\n",
       "</tr>\n",
       "<tr>\n",
       "<td style='font-weight: bold'>3</td>\n",
       "<td>1/0</td>\n",
       "<td>0/0</td>\n",
       "<td>0/0</td>\n",
       "<td>0/0</td>\n",
       "<td>0/0</td>\n",
       "<td>...</td>\n",
       "<td>0/0</td>\n",
       "<td>0/0</td>\n",
       "<td>0/0</td>\n",
       "<td>0/0</td>\n",
       "<td>0/0</td>\n",
       "</tr>\n",
       "<tr>\n",
       "<td style='font-weight: bold'>4</td>\n",
       "<td>1/0</td>\n",
       "<td>0/0</td>\n",
       "<td>0/0</td>\n",
       "<td>0/0</td>\n",
       "<td>1/0</td>\n",
       "<td>...</td>\n",
       "<td>0/0</td>\n",
       "<td>1/0</td>\n",
       "<td>0/0</td>\n",
       "<td>0/0</td>\n",
       "<td>1/0</td>\n",
       "</tr>\n",
       "</tbody>\n",
       "</table>\n",
       "<p><strong>...</strong></p>"
      ],
      "text/plain": [
       "GenotypeArray((90, 22, 2), dtype=int8)\n",
       "[[[1 0]  [0 0]  [0 0]  ...  [0 0]  [0 0]  [1 0]]\n",
       " [[2 0]  [0 0]  [0 0]  ...  [0 0]  [0 0]  [2 0]]\n",
       " [[1 0]  [0 0]  [0 0]  ...  [0 0]  [0 0]  [1 0]]\n",
       " ..., \n",
       " [[0 1]  [0 0]  [1 0]  ...  [1 0]  [1 0]  [0 0]]\n",
       " [[0 1]  [0 0]  [1 0]  ...  [1 0]  [1 0]  [0 0]]\n",
       " [[0 1]  [0 0]  [1 0]  ...  [1 0]  [1 0]  [0 0]]]"
      ]
     },
     "execution_count": 38,
     "metadata": {},
     "output_type": "execute_result"
    }
   ],
   "source": [
    "g_mat_het_phased_parent[103010:103100]"
   ]
  },
  {
   "cell_type": "code",
   "execution_count": null,
   "metadata": {
    "collapsed": true
   },
   "outputs": [],
   "source": []
  }
 ],
 "metadata": {
  "kernelspec": {
   "display_name": "Python 3",
   "language": "python",
   "name": "python3"
  },
  "language_info": {
   "codemirror_mode": {
    "name": "ipython",
    "version": 3
   },
   "file_extension": ".py",
   "mimetype": "text/x-python",
   "name": "python",
   "nbconvert_exporter": "python",
   "pygments_lexer": "ipython3",
   "version": "3.5.2"
  }
 },
 "nbformat": 4,
 "nbformat_minor": 1
}
