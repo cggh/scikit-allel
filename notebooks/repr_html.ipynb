{
 "cells": [
  {
   "cell_type": "code",
   "execution_count": 1,
   "metadata": {
    "collapsed": false
   },
   "outputs": [
    {
     "data": {
      "text/plain": [
       "'0.22.0.dev0'"
      ]
     },
     "execution_count": 1,
     "metadata": {},
     "output_type": "execute_result"
    }
   ],
   "source": [
    "import sys\n",
    "sys.path.insert(0, '../')\n",
    "import numpy as np\n",
    "%reload_ext autoreload\n",
    "%autoreload 1\n",
    "%aimport allel\n",
    "%aimport allel.model.ndarray\n",
    "%aimport allel.model.chunked\n",
    "%aimport allel.model.dask\n",
    "allel.__version__"
   ]
  },
  {
   "cell_type": "markdown",
   "metadata": {},
   "source": [
    "## GenotypeVector"
   ]
  },
  {
   "cell_type": "code",
   "execution_count": 2,
   "metadata": {
    "collapsed": false
   },
   "outputs": [
    {
     "data": {
      "text/html": [
       "&lt;GenotypeVector shape=(40, 2) dtype=int64><table><tr><th style=\"text-align: center\">0</th><th style=\"text-align: center\">1</th><th style=\"text-align: center\">2</th><th style=\"text-align: center\">3</th><th style=\"text-align: center\">4</th><th style=\"text-align: center\"> ... </th><th style=\"text-align: center\">35</th><th style=\"text-align: center\">36</th><th style=\"text-align: center\">37</th><th style=\"text-align: center\">38</th><th style=\"text-align: center\">39</th></tr><tr><td style=\"text-align: center\">0|1</td><td style=\"text-align: center\">./.</td><td style=\"text-align: center\">0|1</td><td style=\"text-align: center\">./.</td><td style=\"text-align: center\">0|1</td><td style=\"text-align: center\"> ... </td><td style=\"text-align: center\">./.</td><td style=\"text-align: center\">0|1</td><td style=\"text-align: center\">./.</td><td style=\"text-align: center\">0|1</td><td style=\"text-align: center\">./.</td></tr></table>"
      ],
      "text/plain": [
       "<GenotypeVector shape=(40, 2) dtype=int64>\n",
       "0|1 ./. 0|1 ./. 0|1  ...  ./. 0|1 ./. 0|1 ./."
      ]
     },
     "execution_count": 2,
     "metadata": {},
     "output_type": "execute_result"
    }
   ],
   "source": [
    "g = allel.GenotypeVector([[0, 1], [-1, -1]]*20)\n",
    "g.is_phased = np.array([True, False]*20, dtype=bool)\n",
    "g"
   ]
  },
  {
   "cell_type": "code",
   "execution_count": 3,
   "metadata": {
    "collapsed": false
   },
   "outputs": [
    {
     "data": {
      "text/html": [
       "&lt;GenotypeVector shape=(40, 2) dtype=int64><table><tr><th style=\"text-align: center\">0</th><th style=\"text-align: center\">1</th><th style=\"text-align: center\">2</th><th style=\"text-align: center\">3</th><th style=\"text-align: center\">4</th><th style=\"text-align: center\">5</th><th style=\"text-align: center\">6</th><th style=\"text-align: center\">7</th><th style=\"text-align: center\">8</th><th style=\"text-align: center\">9</th><th style=\"text-align: center\"> ... </th><th style=\"text-align: center\">30</th><th style=\"text-align: center\">31</th><th style=\"text-align: center\">32</th><th style=\"text-align: center\">33</th><th style=\"text-align: center\">34</th><th style=\"text-align: center\">35</th><th style=\"text-align: center\">36</th><th style=\"text-align: center\">37</th><th style=\"text-align: center\">38</th><th style=\"text-align: center\">39</th></tr><tr><td style=\"text-align: center\">0|1</td><td style=\"text-align: center\">./.</td><td style=\"text-align: center\">0|1</td><td style=\"text-align: center\">./.</td><td style=\"text-align: center\">0|1</td><td style=\"text-align: center\">./.</td><td style=\"text-align: center\">0|1</td><td style=\"text-align: center\">./.</td><td style=\"text-align: center\">0|1</td><td style=\"text-align: center\">./.</td><td style=\"text-align: center\"> ... </td><td style=\"text-align: center\">0|1</td><td style=\"text-align: center\">./.</td><td style=\"text-align: center\">0|1</td><td style=\"text-align: center\">./.</td><td style=\"text-align: center\">0|1</td><td style=\"text-align: center\">./.</td><td style=\"text-align: center\">0|1</td><td style=\"text-align: center\">./.</td><td style=\"text-align: center\">0|1</td><td style=\"text-align: center\">./.</td></tr></table>"
      ]
     },
     "metadata": {},
     "output_type": "display_data"
    }
   ],
   "source": [
    "g.display(30, 10)"
   ]
  },
  {
   "cell_type": "code",
   "execution_count": 4,
   "metadata": {
    "collapsed": false
   },
   "outputs": [
    {
     "data": {
      "text/html": [
       "&lt;GenotypeVector shape=(40, 2) dtype=int64><table><tr><th style=\"text-align: center\">0</th><th style=\"text-align: center\">1</th><th style=\"text-align: center\">2</th><th style=\"text-align: center\">3</th><th style=\"text-align: center\">4</th><th style=\"text-align: center\">5</th><th style=\"text-align: center\">6</th><th style=\"text-align: center\">7</th><th style=\"text-align: center\">8</th><th style=\"text-align: center\">9</th><th style=\"text-align: center\">10</th><th style=\"text-align: center\">11</th><th style=\"text-align: center\">12</th><th style=\"text-align: center\">13</th><th style=\"text-align: center\">14</th><th style=\"text-align: center\">15</th><th style=\"text-align: center\">16</th><th style=\"text-align: center\">17</th><th style=\"text-align: center\">18</th><th style=\"text-align: center\">19</th><th style=\"text-align: center\">20</th><th style=\"text-align: center\">21</th><th style=\"text-align: center\">22</th><th style=\"text-align: center\">23</th><th style=\"text-align: center\">24</th><th style=\"text-align: center\">25</th><th style=\"text-align: center\">26</th><th style=\"text-align: center\">27</th><th style=\"text-align: center\">28</th><th style=\"text-align: center\">29</th><th style=\"text-align: center\">30</th><th style=\"text-align: center\">31</th><th style=\"text-align: center\">32</th><th style=\"text-align: center\">33</th><th style=\"text-align: center\">34</th><th style=\"text-align: center\">35</th><th style=\"text-align: center\">36</th><th style=\"text-align: center\">37</th><th style=\"text-align: center\">38</th><th style=\"text-align: center\">39</th></tr><tr><td style=\"text-align: center\">0|1</td><td style=\"text-align: center\">./.</td><td style=\"text-align: center\">0|1</td><td style=\"text-align: center\">./.</td><td style=\"text-align: center\">0|1</td><td style=\"text-align: center\">./.</td><td style=\"text-align: center\">0|1</td><td style=\"text-align: center\">./.</td><td style=\"text-align: center\">0|1</td><td style=\"text-align: center\">./.</td><td style=\"text-align: center\">0|1</td><td style=\"text-align: center\">./.</td><td style=\"text-align: center\">0|1</td><td style=\"text-align: center\">./.</td><td style=\"text-align: center\">0|1</td><td style=\"text-align: center\">./.</td><td style=\"text-align: center\">0|1</td><td style=\"text-align: center\">./.</td><td style=\"text-align: center\">0|1</td><td style=\"text-align: center\">./.</td><td style=\"text-align: center\">0|1</td><td style=\"text-align: center\">./.</td><td style=\"text-align: center\">0|1</td><td style=\"text-align: center\">./.</td><td style=\"text-align: center\">0|1</td><td style=\"text-align: center\">./.</td><td style=\"text-align: center\">0|1</td><td style=\"text-align: center\">./.</td><td style=\"text-align: center\">0|1</td><td style=\"text-align: center\">./.</td><td style=\"text-align: center\">0|1</td><td style=\"text-align: center\">./.</td><td style=\"text-align: center\">0|1</td><td style=\"text-align: center\">./.</td><td style=\"text-align: center\">0|1</td><td style=\"text-align: center\">./.</td><td style=\"text-align: center\">0|1</td><td style=\"text-align: center\">./.</td><td style=\"text-align: center\">0|1</td><td style=\"text-align: center\">./.</td></tr></table>"
      ]
     },
     "metadata": {},
     "output_type": "display_data"
    }
   ],
   "source": [
    "g.displayall()"
   ]
  },
  {
   "cell_type": "code",
   "execution_count": 5,
   "metadata": {
    "collapsed": false
   },
   "outputs": [
    {
     "name": "stdout",
     "output_type": "stream",
     "text": [
      "<GenotypeVector shape=(40, 2) dtype=int64>\n",
      "0|1 ./. 0|1 ./. 0|1  ...  ./. 0|1 ./. 0|1 ./.\n"
     ]
    }
   ],
   "source": [
    "print(repr(g))"
   ]
  },
  {
   "cell_type": "code",
   "execution_count": 6,
   "metadata": {
    "collapsed": false
   },
   "outputs": [
    {
     "name": "stdout",
     "output_type": "stream",
     "text": [
      "0|1 ./. 0|1 ./. 0|1  ...  ./. 0|1 ./. 0|1 ./.\n"
     ]
    }
   ],
   "source": [
    "print(g)"
   ]
  },
  {
   "cell_type": "code",
   "execution_count": 7,
   "metadata": {
    "collapsed": false
   },
   "outputs": [
    {
     "name": "stdout",
     "output_type": "stream",
     "text": [
      "0|1 ./. 0|1 ./. 0|1 ./. 0|1 ./. 0|1 ./. 0|1 ./. 0|1 ./. 0|1 ./. 0|1 ./. 0|1 ./. 0|1 ./. 0|1 ./. 0|1 ./. 0|1 ./. 0|1 ./. 0|1 ./. 0|1 ./. 0|1 ./. 0|1 ./. 0|1 ./.\n"
     ]
    }
   ],
   "source": [
    "print(g.to_str(40))"
   ]
  },
  {
   "cell_type": "code",
   "execution_count": 8,
   "metadata": {
    "collapsed": false
   },
   "outputs": [
    {
     "data": {
      "text/html": [
       "&lt;GenotypeVector shape=(80, 2) dtype=int64><table><tr><th style=\"text-align: center\">0</th><th style=\"text-align: center\">1</th><th style=\"text-align: center\">2</th><th style=\"text-align: center\">3</th><th style=\"text-align: center\">4</th><th style=\"text-align: center\"> ... </th><th style=\"text-align: center\">75</th><th style=\"text-align: center\">76</th><th style=\"text-align: center\">77</th><th style=\"text-align: center\">78</th><th style=\"text-align: center\">79</th></tr><tr><td style=\"text-align: center\">0|1</td><td style=\"text-align: center\">./.</td><td style=\"text-align: center\">0|1</td><td style=\"text-align: center\">./.</td><td style=\"text-align: center\">0|1</td><td style=\"text-align: center\"> ... </td><td style=\"text-align: center\">./.</td><td style=\"text-align: center\">0|1</td><td style=\"text-align: center\">./.</td><td style=\"text-align: center\">0|1</td><td style=\"text-align: center\">./.</td></tr></table>"
      ],
      "text/plain": [
       "<GenotypeVector shape=(80, 2) dtype=int64>\n",
       "0|1 ./. 0|1 ./. 0|1  ...  ./. 0|1 ./. 0|1 ./."
      ]
     },
     "execution_count": 8,
     "metadata": {},
     "output_type": "execute_result"
    }
   ],
   "source": [
    "g.concatenate(g)"
   ]
  },
  {
   "cell_type": "code",
   "execution_count": 9,
   "metadata": {
    "collapsed": false
   },
   "outputs": [
    {
     "data": {
      "text/plain": [
       "array([[ 0,  1,  0,  1],\n",
       "       [-1, -1, -1, -1],\n",
       "       [ 0,  1,  0,  1],\n",
       "       [-1, -1, -1, -1],\n",
       "       [ 0,  1,  0,  1],\n",
       "       [-1, -1, -1, -1],\n",
       "       [ 0,  1,  0,  1],\n",
       "       [-1, -1, -1, -1],\n",
       "       [ 0,  1,  0,  1],\n",
       "       [-1, -1, -1, -1],\n",
       "       [ 0,  1,  0,  1],\n",
       "       [-1, -1, -1, -1],\n",
       "       [ 0,  1,  0,  1],\n",
       "       [-1, -1, -1, -1],\n",
       "       [ 0,  1,  0,  1],\n",
       "       [-1, -1, -1, -1],\n",
       "       [ 0,  1,  0,  1],\n",
       "       [-1, -1, -1, -1],\n",
       "       [ 0,  1,  0,  1],\n",
       "       [-1, -1, -1, -1],\n",
       "       [ 0,  1,  0,  1],\n",
       "       [-1, -1, -1, -1],\n",
       "       [ 0,  1,  0,  1],\n",
       "       [-1, -1, -1, -1],\n",
       "       [ 0,  1,  0,  1],\n",
       "       [-1, -1, -1, -1],\n",
       "       [ 0,  1,  0,  1],\n",
       "       [-1, -1, -1, -1],\n",
       "       [ 0,  1,  0,  1],\n",
       "       [-1, -1, -1, -1],\n",
       "       [ 0,  1,  0,  1],\n",
       "       [-1, -1, -1, -1],\n",
       "       [ 0,  1,  0,  1],\n",
       "       [-1, -1, -1, -1],\n",
       "       [ 0,  1,  0,  1],\n",
       "       [-1, -1, -1, -1],\n",
       "       [ 0,  1,  0,  1],\n",
       "       [-1, -1, -1, -1],\n",
       "       [ 0,  1,  0,  1],\n",
       "       [-1, -1, -1, -1]])"
      ]
     },
     "execution_count": 9,
     "metadata": {},
     "output_type": "execute_result"
    }
   ],
   "source": [
    "g.concatenate(g, axis=1)"
   ]
  },
  {
   "cell_type": "markdown",
   "metadata": {},
   "source": [
    "## GenotypeArray"
   ]
  },
  {
   "cell_type": "code",
   "execution_count": 10,
   "metadata": {
    "collapsed": false
   },
   "outputs": [],
   "source": [
    "g = allel.GenotypeArray([[[0, 1], [-1, -1]]*20]*20)\n",
    "g.is_phased = np.array([[True, False, False, False]*10]*20, dtype=bool)\n",
    "g.mask = np.array([[1, 0, 0, 0, 0]*8]*20, dtype=bool)"
   ]
  },
  {
   "cell_type": "code",
   "execution_count": 11,
   "metadata": {
    "collapsed": false
   },
   "outputs": [
    {
     "name": "stdout",
     "output_type": "stream",
     "text": [
      ".|. ./. 0/1 ./. 0|1  ...  ./. 0|1 ./. 0/1 ./.\n",
      ".|. ./. 0/1 ./. 0|1  ...  ./. 0|1 ./. 0/1 ./.\n",
      ".|. ./. 0/1 ./. 0|1  ...  ./. 0|1 ./. 0/1 ./.\n",
      " ... \n",
      ".|. ./. 0/1 ./. 0|1  ...  ./. 0|1 ./. 0/1 ./.\n",
      ".|. ./. 0/1 ./. 0|1  ...  ./. 0|1 ./. 0/1 ./.\n",
      ".|. ./. 0/1 ./. 0|1  ...  ./. 0|1 ./. 0/1 ./.\n",
      "\n"
     ]
    }
   ],
   "source": [
    "print(g)"
   ]
  },
  {
   "cell_type": "code",
   "execution_count": 12,
   "metadata": {
    "collapsed": false
   },
   "outputs": [
    {
     "name": "stdout",
     "output_type": "stream",
     "text": [
      "<GenotypeArray shape=(20, 40, 2) dtype=int64>\n",
      ".|. ./. 0/1 ./. 0|1  ...  ./. 0|1 ./. 0/1 ./.\n",
      ".|. ./. 0/1 ./. 0|1  ...  ./. 0|1 ./. 0/1 ./.\n",
      ".|. ./. 0/1 ./. 0|1  ...  ./. 0|1 ./. 0/1 ./.\n",
      " ... \n",
      ".|. ./. 0/1 ./. 0|1  ...  ./. 0|1 ./. 0/1 ./.\n",
      ".|. ./. 0/1 ./. 0|1  ...  ./. 0|1 ./. 0/1 ./.\n",
      ".|. ./. 0/1 ./. 0|1  ...  ./. 0|1 ./. 0/1 ./.\n",
      "\n"
     ]
    }
   ],
   "source": [
    "print(repr(g))"
   ]
  },
  {
   "cell_type": "code",
   "execution_count": 13,
   "metadata": {
    "collapsed": false
   },
   "outputs": [
    {
     "data": {
      "text/html": [
       "&lt;GenotypeArray shape=(20, 40, 2) dtype=int64><table><tr><th></th><th style=\"text-align: center\">0</th><th style=\"text-align: center\">1</th><th style=\"text-align: center\">2</th><th style=\"text-align: center\">3</th><th style=\"text-align: center\">4</th><th style=\"text-align: center\"> ... </th><th style=\"text-align: center\">35</th><th style=\"text-align: center\">36</th><th style=\"text-align: center\">37</th><th style=\"text-align: center\">38</th><th style=\"text-align: center\">39</th></tr><tr><th style=\"text-align: center\">0</th><td style=\"text-align: center\">.|.</td><td style=\"text-align: center\">./.</td><td style=\"text-align: center\">0/1</td><td style=\"text-align: center\">./.</td><td style=\"text-align: center\">0|1</td><td style=\"text-align: center\"> ... </td><td style=\"text-align: center\">./.</td><td style=\"text-align: center\">0|1</td><td style=\"text-align: center\">./.</td><td style=\"text-align: center\">0/1</td><td style=\"text-align: center\">./.</td></tr><tr><th style=\"text-align: center\">1</th><td style=\"text-align: center\">.|.</td><td style=\"text-align: center\">./.</td><td style=\"text-align: center\">0/1</td><td style=\"text-align: center\">./.</td><td style=\"text-align: center\">0|1</td><td style=\"text-align: center\"> ... </td><td style=\"text-align: center\">./.</td><td style=\"text-align: center\">0|1</td><td style=\"text-align: center\">./.</td><td style=\"text-align: center\">0/1</td><td style=\"text-align: center\">./.</td></tr><tr><th style=\"text-align: center\">2</th><td style=\"text-align: center\">.|.</td><td style=\"text-align: center\">./.</td><td style=\"text-align: center\">0/1</td><td style=\"text-align: center\">./.</td><td style=\"text-align: center\">0|1</td><td style=\"text-align: center\"> ... </td><td style=\"text-align: center\">./.</td><td style=\"text-align: center\">0|1</td><td style=\"text-align: center\">./.</td><td style=\"text-align: center\">0/1</td><td style=\"text-align: center\">./.</td></tr><tr><th style=\"text-align: center\">...</th><td style=\"text-align: center\" colspan=12>...</td></tr><tr><th style=\"text-align: center\">17</th><td style=\"text-align: center\">.|.</td><td style=\"text-align: center\">./.</td><td style=\"text-align: center\">0/1</td><td style=\"text-align: center\">./.</td><td style=\"text-align: center\">0|1</td><td style=\"text-align: center\"> ... </td><td style=\"text-align: center\">./.</td><td style=\"text-align: center\">0|1</td><td style=\"text-align: center\">./.</td><td style=\"text-align: center\">0/1</td><td style=\"text-align: center\">./.</td></tr><tr><th style=\"text-align: center\">18</th><td style=\"text-align: center\">.|.</td><td style=\"text-align: center\">./.</td><td style=\"text-align: center\">0/1</td><td style=\"text-align: center\">./.</td><td style=\"text-align: center\">0|1</td><td style=\"text-align: center\"> ... </td><td style=\"text-align: center\">./.</td><td style=\"text-align: center\">0|1</td><td style=\"text-align: center\">./.</td><td style=\"text-align: center\">0/1</td><td style=\"text-align: center\">./.</td></tr><tr><th style=\"text-align: center\">19</th><td style=\"text-align: center\">.|.</td><td style=\"text-align: center\">./.</td><td style=\"text-align: center\">0/1</td><td style=\"text-align: center\">./.</td><td style=\"text-align: center\">0|1</td><td style=\"text-align: center\"> ... </td><td style=\"text-align: center\">./.</td><td style=\"text-align: center\">0|1</td><td style=\"text-align: center\">./.</td><td style=\"text-align: center\">0/1</td><td style=\"text-align: center\">./.</td></tr></table>"
      ],
      "text/plain": [
       "<GenotypeArray shape=(20, 40, 2) dtype=int64>\n",
       ".|. ./. 0/1 ./. 0|1  ...  ./. 0|1 ./. 0/1 ./.\n",
       ".|. ./. 0/1 ./. 0|1  ...  ./. 0|1 ./. 0/1 ./.\n",
       ".|. ./. 0/1 ./. 0|1  ...  ./. 0|1 ./. 0/1 ./.\n",
       " ... \n",
       ".|. ./. 0/1 ./. 0|1  ...  ./. 0|1 ./. 0/1 ./.\n",
       ".|. ./. 0/1 ./. 0|1  ...  ./. 0|1 ./. 0/1 ./.\n",
       ".|. ./. 0/1 ./. 0|1  ...  ./. 0|1 ./. 0/1 ./."
      ]
     },
     "execution_count": 13,
     "metadata": {},
     "output_type": "execute_result"
    }
   ],
   "source": [
    "g"
   ]
  },
  {
   "cell_type": "code",
   "execution_count": 14,
   "metadata": {
    "collapsed": false
   },
   "outputs": [
    {
     "data": {
      "text/html": [
       "&lt;GenotypeArray shape=(20, 40, 2) dtype=int64><table><tr><th></th><th style=\"text-align: center\">0</th><th style=\"text-align: center\">1</th><th style=\"text-align: center\">2</th><th style=\"text-align: center\">3</th><th style=\"text-align: center\">4</th><th style=\"text-align: center\">5</th><th style=\"text-align: center\">6</th><th style=\"text-align: center\">7</th><th style=\"text-align: center\">8</th><th style=\"text-align: center\">9</th><th style=\"text-align: center\"> ... </th><th style=\"text-align: center\">30</th><th style=\"text-align: center\">31</th><th style=\"text-align: center\">32</th><th style=\"text-align: center\">33</th><th style=\"text-align: center\">34</th><th style=\"text-align: center\">35</th><th style=\"text-align: center\">36</th><th style=\"text-align: center\">37</th><th style=\"text-align: center\">38</th><th style=\"text-align: center\">39</th></tr><tr><th style=\"text-align: center\">0</th><td style=\"text-align: center\">.|.</td><td style=\"text-align: center\">./.</td><td style=\"text-align: center\">0/1</td><td style=\"text-align: center\">./.</td><td style=\"text-align: center\">0|1</td><td style=\"text-align: center\">./.</td><td style=\"text-align: center\">0/1</td><td style=\"text-align: center\">./.</td><td style=\"text-align: center\">0|1</td><td style=\"text-align: center\">./.</td><td style=\"text-align: center\"> ... </td><td style=\"text-align: center\">./.</td><td style=\"text-align: center\">./.</td><td style=\"text-align: center\">0|1</td><td style=\"text-align: center\">./.</td><td style=\"text-align: center\">0/1</td><td style=\"text-align: center\">./.</td><td style=\"text-align: center\">0|1</td><td style=\"text-align: center\">./.</td><td style=\"text-align: center\">0/1</td><td style=\"text-align: center\">./.</td></tr><tr><th style=\"text-align: center\">1</th><td style=\"text-align: center\">.|.</td><td style=\"text-align: center\">./.</td><td style=\"text-align: center\">0/1</td><td style=\"text-align: center\">./.</td><td style=\"text-align: center\">0|1</td><td style=\"text-align: center\">./.</td><td style=\"text-align: center\">0/1</td><td style=\"text-align: center\">./.</td><td style=\"text-align: center\">0|1</td><td style=\"text-align: center\">./.</td><td style=\"text-align: center\"> ... </td><td style=\"text-align: center\">./.</td><td style=\"text-align: center\">./.</td><td style=\"text-align: center\">0|1</td><td style=\"text-align: center\">./.</td><td style=\"text-align: center\">0/1</td><td style=\"text-align: center\">./.</td><td style=\"text-align: center\">0|1</td><td style=\"text-align: center\">./.</td><td style=\"text-align: center\">0/1</td><td style=\"text-align: center\">./.</td></tr><tr><th style=\"text-align: center\">2</th><td style=\"text-align: center\">.|.</td><td style=\"text-align: center\">./.</td><td style=\"text-align: center\">0/1</td><td style=\"text-align: center\">./.</td><td style=\"text-align: center\">0|1</td><td style=\"text-align: center\">./.</td><td style=\"text-align: center\">0/1</td><td style=\"text-align: center\">./.</td><td style=\"text-align: center\">0|1</td><td style=\"text-align: center\">./.</td><td style=\"text-align: center\"> ... </td><td style=\"text-align: center\">./.</td><td style=\"text-align: center\">./.</td><td style=\"text-align: center\">0|1</td><td style=\"text-align: center\">./.</td><td style=\"text-align: center\">0/1</td><td style=\"text-align: center\">./.</td><td style=\"text-align: center\">0|1</td><td style=\"text-align: center\">./.</td><td style=\"text-align: center\">0/1</td><td style=\"text-align: center\">./.</td></tr><tr><th style=\"text-align: center\">3</th><td style=\"text-align: center\">.|.</td><td style=\"text-align: center\">./.</td><td style=\"text-align: center\">0/1</td><td style=\"text-align: center\">./.</td><td style=\"text-align: center\">0|1</td><td style=\"text-align: center\">./.</td><td style=\"text-align: center\">0/1</td><td style=\"text-align: center\">./.</td><td style=\"text-align: center\">0|1</td><td style=\"text-align: center\">./.</td><td style=\"text-align: center\"> ... </td><td style=\"text-align: center\">./.</td><td style=\"text-align: center\">./.</td><td style=\"text-align: center\">0|1</td><td style=\"text-align: center\">./.</td><td style=\"text-align: center\">0/1</td><td style=\"text-align: center\">./.</td><td style=\"text-align: center\">0|1</td><td style=\"text-align: center\">./.</td><td style=\"text-align: center\">0/1</td><td style=\"text-align: center\">./.</td></tr><tr><th style=\"text-align: center\">4</th><td style=\"text-align: center\">.|.</td><td style=\"text-align: center\">./.</td><td style=\"text-align: center\">0/1</td><td style=\"text-align: center\">./.</td><td style=\"text-align: center\">0|1</td><td style=\"text-align: center\">./.</td><td style=\"text-align: center\">0/1</td><td style=\"text-align: center\">./.</td><td style=\"text-align: center\">0|1</td><td style=\"text-align: center\">./.</td><td style=\"text-align: center\"> ... </td><td style=\"text-align: center\">./.</td><td style=\"text-align: center\">./.</td><td style=\"text-align: center\">0|1</td><td style=\"text-align: center\">./.</td><td style=\"text-align: center\">0/1</td><td style=\"text-align: center\">./.</td><td style=\"text-align: center\">0|1</td><td style=\"text-align: center\">./.</td><td style=\"text-align: center\">0/1</td><td style=\"text-align: center\">./.</td></tr><tr><th style=\"text-align: center\">...</th><td style=\"text-align: center\" colspan=22>...</td></tr><tr><th style=\"text-align: center\">15</th><td style=\"text-align: center\">.|.</td><td style=\"text-align: center\">./.</td><td style=\"text-align: center\">0/1</td><td style=\"text-align: center\">./.</td><td style=\"text-align: center\">0|1</td><td style=\"text-align: center\">./.</td><td style=\"text-align: center\">0/1</td><td style=\"text-align: center\">./.</td><td style=\"text-align: center\">0|1</td><td style=\"text-align: center\">./.</td><td style=\"text-align: center\"> ... </td><td style=\"text-align: center\">./.</td><td style=\"text-align: center\">./.</td><td style=\"text-align: center\">0|1</td><td style=\"text-align: center\">./.</td><td style=\"text-align: center\">0/1</td><td style=\"text-align: center\">./.</td><td style=\"text-align: center\">0|1</td><td style=\"text-align: center\">./.</td><td style=\"text-align: center\">0/1</td><td style=\"text-align: center\">./.</td></tr><tr><th style=\"text-align: center\">16</th><td style=\"text-align: center\">.|.</td><td style=\"text-align: center\">./.</td><td style=\"text-align: center\">0/1</td><td style=\"text-align: center\">./.</td><td style=\"text-align: center\">0|1</td><td style=\"text-align: center\">./.</td><td style=\"text-align: center\">0/1</td><td style=\"text-align: center\">./.</td><td style=\"text-align: center\">0|1</td><td style=\"text-align: center\">./.</td><td style=\"text-align: center\"> ... </td><td style=\"text-align: center\">./.</td><td style=\"text-align: center\">./.</td><td style=\"text-align: center\">0|1</td><td style=\"text-align: center\">./.</td><td style=\"text-align: center\">0/1</td><td style=\"text-align: center\">./.</td><td style=\"text-align: center\">0|1</td><td style=\"text-align: center\">./.</td><td style=\"text-align: center\">0/1</td><td style=\"text-align: center\">./.</td></tr><tr><th style=\"text-align: center\">17</th><td style=\"text-align: center\">.|.</td><td style=\"text-align: center\">./.</td><td style=\"text-align: center\">0/1</td><td style=\"text-align: center\">./.</td><td style=\"text-align: center\">0|1</td><td style=\"text-align: center\">./.</td><td style=\"text-align: center\">0/1</td><td style=\"text-align: center\">./.</td><td style=\"text-align: center\">0|1</td><td style=\"text-align: center\">./.</td><td style=\"text-align: center\"> ... </td><td style=\"text-align: center\">./.</td><td style=\"text-align: center\">./.</td><td style=\"text-align: center\">0|1</td><td style=\"text-align: center\">./.</td><td style=\"text-align: center\">0/1</td><td style=\"text-align: center\">./.</td><td style=\"text-align: center\">0|1</td><td style=\"text-align: center\">./.</td><td style=\"text-align: center\">0/1</td><td style=\"text-align: center\">./.</td></tr><tr><th style=\"text-align: center\">18</th><td style=\"text-align: center\">.|.</td><td style=\"text-align: center\">./.</td><td style=\"text-align: center\">0/1</td><td style=\"text-align: center\">./.</td><td style=\"text-align: center\">0|1</td><td style=\"text-align: center\">./.</td><td style=\"text-align: center\">0/1</td><td style=\"text-align: center\">./.</td><td style=\"text-align: center\">0|1</td><td style=\"text-align: center\">./.</td><td style=\"text-align: center\"> ... </td><td style=\"text-align: center\">./.</td><td style=\"text-align: center\">./.</td><td style=\"text-align: center\">0|1</td><td style=\"text-align: center\">./.</td><td style=\"text-align: center\">0/1</td><td style=\"text-align: center\">./.</td><td style=\"text-align: center\">0|1</td><td style=\"text-align: center\">./.</td><td style=\"text-align: center\">0/1</td><td style=\"text-align: center\">./.</td></tr><tr><th style=\"text-align: center\">19</th><td style=\"text-align: center\">.|.</td><td style=\"text-align: center\">./.</td><td style=\"text-align: center\">0/1</td><td style=\"text-align: center\">./.</td><td style=\"text-align: center\">0|1</td><td style=\"text-align: center\">./.</td><td style=\"text-align: center\">0/1</td><td style=\"text-align: center\">./.</td><td style=\"text-align: center\">0|1</td><td style=\"text-align: center\">./.</td><td style=\"text-align: center\"> ... </td><td style=\"text-align: center\">./.</td><td style=\"text-align: center\">./.</td><td style=\"text-align: center\">0|1</td><td style=\"text-align: center\">./.</td><td style=\"text-align: center\">0/1</td><td style=\"text-align: center\">./.</td><td style=\"text-align: center\">0|1</td><td style=\"text-align: center\">./.</td><td style=\"text-align: center\">0/1</td><td style=\"text-align: center\">./.</td></tr></table>"
      ]
     },
     "metadata": {},
     "output_type": "display_data"
    }
   ],
   "source": [
    "g.display(row_threshold=10, row_edgeitems=5, col_threshold=20, col_edgeitems=10)"
   ]
  },
  {
   "cell_type": "code",
   "execution_count": 15,
   "metadata": {
    "collapsed": false
   },
   "outputs": [
    {
     "data": {
      "text/html": [
       "&lt;GenotypeArray shape=(20, 40, 2) dtype=int64><table><tr><th></th><th style=\"text-align: center\">0</th><th style=\"text-align: center\">1</th><th style=\"text-align: center\">2</th><th style=\"text-align: center\">3</th><th style=\"text-align: center\">4</th><th style=\"text-align: center\">5</th><th style=\"text-align: center\">6</th><th style=\"text-align: center\">7</th><th style=\"text-align: center\">8</th><th style=\"text-align: center\">9</th><th style=\"text-align: center\">10</th><th style=\"text-align: center\">11</th><th style=\"text-align: center\">12</th><th style=\"text-align: center\">13</th><th style=\"text-align: center\">14</th><th style=\"text-align: center\">15</th><th style=\"text-align: center\">16</th><th style=\"text-align: center\">17</th><th style=\"text-align: center\">18</th><th style=\"text-align: center\">19</th><th style=\"text-align: center\">20</th><th style=\"text-align: center\">21</th><th style=\"text-align: center\">22</th><th style=\"text-align: center\">23</th><th style=\"text-align: center\">24</th><th style=\"text-align: center\">25</th><th style=\"text-align: center\">26</th><th style=\"text-align: center\">27</th><th style=\"text-align: center\">28</th><th style=\"text-align: center\">29</th><th style=\"text-align: center\">30</th><th style=\"text-align: center\">31</th><th style=\"text-align: center\">32</th><th style=\"text-align: center\">33</th><th style=\"text-align: center\">34</th><th style=\"text-align: center\">35</th><th style=\"text-align: center\">36</th><th style=\"text-align: center\">37</th><th style=\"text-align: center\">38</th><th style=\"text-align: center\">39</th></tr><tr><th style=\"text-align: center\">0</th><td style=\"text-align: center\">.|.</td><td style=\"text-align: center\">./.</td><td style=\"text-align: center\">0/1</td><td style=\"text-align: center\">./.</td><td style=\"text-align: center\">0|1</td><td style=\"text-align: center\">./.</td><td style=\"text-align: center\">0/1</td><td style=\"text-align: center\">./.</td><td style=\"text-align: center\">0|1</td><td style=\"text-align: center\">./.</td><td style=\"text-align: center\">./.</td><td style=\"text-align: center\">./.</td><td style=\"text-align: center\">0|1</td><td style=\"text-align: center\">./.</td><td style=\"text-align: center\">0/1</td><td style=\"text-align: center\">./.</td><td style=\"text-align: center\">0|1</td><td style=\"text-align: center\">./.</td><td style=\"text-align: center\">0/1</td><td style=\"text-align: center\">./.</td><td style=\"text-align: center\">.|.</td><td style=\"text-align: center\">./.</td><td style=\"text-align: center\">0/1</td><td style=\"text-align: center\">./.</td><td style=\"text-align: center\">0|1</td><td style=\"text-align: center\">./.</td><td style=\"text-align: center\">0/1</td><td style=\"text-align: center\">./.</td><td style=\"text-align: center\">0|1</td><td style=\"text-align: center\">./.</td><td style=\"text-align: center\">./.</td><td style=\"text-align: center\">./.</td><td style=\"text-align: center\">0|1</td><td style=\"text-align: center\">./.</td><td style=\"text-align: center\">0/1</td><td style=\"text-align: center\">./.</td><td style=\"text-align: center\">0|1</td><td style=\"text-align: center\">./.</td><td style=\"text-align: center\">0/1</td><td style=\"text-align: center\">./.</td></tr><tr><th style=\"text-align: center\">1</th><td style=\"text-align: center\">.|.</td><td style=\"text-align: center\">./.</td><td style=\"text-align: center\">0/1</td><td style=\"text-align: center\">./.</td><td style=\"text-align: center\">0|1</td><td style=\"text-align: center\">./.</td><td style=\"text-align: center\">0/1</td><td style=\"text-align: center\">./.</td><td style=\"text-align: center\">0|1</td><td style=\"text-align: center\">./.</td><td style=\"text-align: center\">./.</td><td style=\"text-align: center\">./.</td><td style=\"text-align: center\">0|1</td><td style=\"text-align: center\">./.</td><td style=\"text-align: center\">0/1</td><td style=\"text-align: center\">./.</td><td style=\"text-align: center\">0|1</td><td style=\"text-align: center\">./.</td><td style=\"text-align: center\">0/1</td><td style=\"text-align: center\">./.</td><td style=\"text-align: center\">.|.</td><td style=\"text-align: center\">./.</td><td style=\"text-align: center\">0/1</td><td style=\"text-align: center\">./.</td><td style=\"text-align: center\">0|1</td><td style=\"text-align: center\">./.</td><td style=\"text-align: center\">0/1</td><td style=\"text-align: center\">./.</td><td style=\"text-align: center\">0|1</td><td style=\"text-align: center\">./.</td><td style=\"text-align: center\">./.</td><td style=\"text-align: center\">./.</td><td style=\"text-align: center\">0|1</td><td style=\"text-align: center\">./.</td><td style=\"text-align: center\">0/1</td><td style=\"text-align: center\">./.</td><td style=\"text-align: center\">0|1</td><td style=\"text-align: center\">./.</td><td style=\"text-align: center\">0/1</td><td style=\"text-align: center\">./.</td></tr><tr><th style=\"text-align: center\">2</th><td style=\"text-align: center\">.|.</td><td style=\"text-align: center\">./.</td><td style=\"text-align: center\">0/1</td><td style=\"text-align: center\">./.</td><td style=\"text-align: center\">0|1</td><td style=\"text-align: center\">./.</td><td style=\"text-align: center\">0/1</td><td style=\"text-align: center\">./.</td><td style=\"text-align: center\">0|1</td><td style=\"text-align: center\">./.</td><td style=\"text-align: center\">./.</td><td style=\"text-align: center\">./.</td><td style=\"text-align: center\">0|1</td><td style=\"text-align: center\">./.</td><td style=\"text-align: center\">0/1</td><td style=\"text-align: center\">./.</td><td style=\"text-align: center\">0|1</td><td style=\"text-align: center\">./.</td><td style=\"text-align: center\">0/1</td><td style=\"text-align: center\">./.</td><td style=\"text-align: center\">.|.</td><td style=\"text-align: center\">./.</td><td style=\"text-align: center\">0/1</td><td style=\"text-align: center\">./.</td><td style=\"text-align: center\">0|1</td><td style=\"text-align: center\">./.</td><td style=\"text-align: center\">0/1</td><td style=\"text-align: center\">./.</td><td style=\"text-align: center\">0|1</td><td style=\"text-align: center\">./.</td><td style=\"text-align: center\">./.</td><td style=\"text-align: center\">./.</td><td style=\"text-align: center\">0|1</td><td style=\"text-align: center\">./.</td><td style=\"text-align: center\">0/1</td><td style=\"text-align: center\">./.</td><td style=\"text-align: center\">0|1</td><td style=\"text-align: center\">./.</td><td style=\"text-align: center\">0/1</td><td style=\"text-align: center\">./.</td></tr><tr><th style=\"text-align: center\">3</th><td style=\"text-align: center\">.|.</td><td style=\"text-align: center\">./.</td><td style=\"text-align: center\">0/1</td><td style=\"text-align: center\">./.</td><td style=\"text-align: center\">0|1</td><td style=\"text-align: center\">./.</td><td style=\"text-align: center\">0/1</td><td style=\"text-align: center\">./.</td><td style=\"text-align: center\">0|1</td><td style=\"text-align: center\">./.</td><td style=\"text-align: center\">./.</td><td style=\"text-align: center\">./.</td><td style=\"text-align: center\">0|1</td><td style=\"text-align: center\">./.</td><td style=\"text-align: center\">0/1</td><td style=\"text-align: center\">./.</td><td style=\"text-align: center\">0|1</td><td style=\"text-align: center\">./.</td><td style=\"text-align: center\">0/1</td><td style=\"text-align: center\">./.</td><td style=\"text-align: center\">.|.</td><td style=\"text-align: center\">./.</td><td style=\"text-align: center\">0/1</td><td style=\"text-align: center\">./.</td><td style=\"text-align: center\">0|1</td><td style=\"text-align: center\">./.</td><td style=\"text-align: center\">0/1</td><td style=\"text-align: center\">./.</td><td style=\"text-align: center\">0|1</td><td style=\"text-align: center\">./.</td><td style=\"text-align: center\">./.</td><td style=\"text-align: center\">./.</td><td style=\"text-align: center\">0|1</td><td style=\"text-align: center\">./.</td><td style=\"text-align: center\">0/1</td><td style=\"text-align: center\">./.</td><td style=\"text-align: center\">0|1</td><td style=\"text-align: center\">./.</td><td style=\"text-align: center\">0/1</td><td style=\"text-align: center\">./.</td></tr><tr><th style=\"text-align: center\">4</th><td style=\"text-align: center\">.|.</td><td style=\"text-align: center\">./.</td><td style=\"text-align: center\">0/1</td><td style=\"text-align: center\">./.</td><td style=\"text-align: center\">0|1</td><td style=\"text-align: center\">./.</td><td style=\"text-align: center\">0/1</td><td style=\"text-align: center\">./.</td><td style=\"text-align: center\">0|1</td><td style=\"text-align: center\">./.</td><td style=\"text-align: center\">./.</td><td style=\"text-align: center\">./.</td><td style=\"text-align: center\">0|1</td><td style=\"text-align: center\">./.</td><td style=\"text-align: center\">0/1</td><td style=\"text-align: center\">./.</td><td style=\"text-align: center\">0|1</td><td style=\"text-align: center\">./.</td><td style=\"text-align: center\">0/1</td><td style=\"text-align: center\">./.</td><td style=\"text-align: center\">.|.</td><td style=\"text-align: center\">./.</td><td style=\"text-align: center\">0/1</td><td style=\"text-align: center\">./.</td><td style=\"text-align: center\">0|1</td><td style=\"text-align: center\">./.</td><td style=\"text-align: center\">0/1</td><td style=\"text-align: center\">./.</td><td style=\"text-align: center\">0|1</td><td style=\"text-align: center\">./.</td><td style=\"text-align: center\">./.</td><td style=\"text-align: center\">./.</td><td style=\"text-align: center\">0|1</td><td style=\"text-align: center\">./.</td><td style=\"text-align: center\">0/1</td><td style=\"text-align: center\">./.</td><td style=\"text-align: center\">0|1</td><td style=\"text-align: center\">./.</td><td style=\"text-align: center\">0/1</td><td style=\"text-align: center\">./.</td></tr><tr><th style=\"text-align: center\">5</th><td style=\"text-align: center\">.|.</td><td style=\"text-align: center\">./.</td><td style=\"text-align: center\">0/1</td><td style=\"text-align: center\">./.</td><td style=\"text-align: center\">0|1</td><td style=\"text-align: center\">./.</td><td style=\"text-align: center\">0/1</td><td style=\"text-align: center\">./.</td><td style=\"text-align: center\">0|1</td><td style=\"text-align: center\">./.</td><td style=\"text-align: center\">./.</td><td style=\"text-align: center\">./.</td><td style=\"text-align: center\">0|1</td><td style=\"text-align: center\">./.</td><td style=\"text-align: center\">0/1</td><td style=\"text-align: center\">./.</td><td style=\"text-align: center\">0|1</td><td style=\"text-align: center\">./.</td><td style=\"text-align: center\">0/1</td><td style=\"text-align: center\">./.</td><td style=\"text-align: center\">.|.</td><td style=\"text-align: center\">./.</td><td style=\"text-align: center\">0/1</td><td style=\"text-align: center\">./.</td><td style=\"text-align: center\">0|1</td><td style=\"text-align: center\">./.</td><td style=\"text-align: center\">0/1</td><td style=\"text-align: center\">./.</td><td style=\"text-align: center\">0|1</td><td style=\"text-align: center\">./.</td><td style=\"text-align: center\">./.</td><td style=\"text-align: center\">./.</td><td style=\"text-align: center\">0|1</td><td style=\"text-align: center\">./.</td><td style=\"text-align: center\">0/1</td><td style=\"text-align: center\">./.</td><td style=\"text-align: center\">0|1</td><td style=\"text-align: center\">./.</td><td style=\"text-align: center\">0/1</td><td style=\"text-align: center\">./.</td></tr><tr><th style=\"text-align: center\">6</th><td style=\"text-align: center\">.|.</td><td style=\"text-align: center\">./.</td><td style=\"text-align: center\">0/1</td><td style=\"text-align: center\">./.</td><td style=\"text-align: center\">0|1</td><td style=\"text-align: center\">./.</td><td style=\"text-align: center\">0/1</td><td style=\"text-align: center\">./.</td><td style=\"text-align: center\">0|1</td><td style=\"text-align: center\">./.</td><td style=\"text-align: center\">./.</td><td style=\"text-align: center\">./.</td><td style=\"text-align: center\">0|1</td><td style=\"text-align: center\">./.</td><td style=\"text-align: center\">0/1</td><td style=\"text-align: center\">./.</td><td style=\"text-align: center\">0|1</td><td style=\"text-align: center\">./.</td><td style=\"text-align: center\">0/1</td><td style=\"text-align: center\">./.</td><td style=\"text-align: center\">.|.</td><td style=\"text-align: center\">./.</td><td style=\"text-align: center\">0/1</td><td style=\"text-align: center\">./.</td><td style=\"text-align: center\">0|1</td><td style=\"text-align: center\">./.</td><td style=\"text-align: center\">0/1</td><td style=\"text-align: center\">./.</td><td style=\"text-align: center\">0|1</td><td style=\"text-align: center\">./.</td><td style=\"text-align: center\">./.</td><td style=\"text-align: center\">./.</td><td style=\"text-align: center\">0|1</td><td style=\"text-align: center\">./.</td><td style=\"text-align: center\">0/1</td><td style=\"text-align: center\">./.</td><td style=\"text-align: center\">0|1</td><td style=\"text-align: center\">./.</td><td style=\"text-align: center\">0/1</td><td style=\"text-align: center\">./.</td></tr><tr><th style=\"text-align: center\">7</th><td style=\"text-align: center\">.|.</td><td style=\"text-align: center\">./.</td><td style=\"text-align: center\">0/1</td><td style=\"text-align: center\">./.</td><td style=\"text-align: center\">0|1</td><td style=\"text-align: center\">./.</td><td style=\"text-align: center\">0/1</td><td style=\"text-align: center\">./.</td><td style=\"text-align: center\">0|1</td><td style=\"text-align: center\">./.</td><td style=\"text-align: center\">./.</td><td style=\"text-align: center\">./.</td><td style=\"text-align: center\">0|1</td><td style=\"text-align: center\">./.</td><td style=\"text-align: center\">0/1</td><td style=\"text-align: center\">./.</td><td style=\"text-align: center\">0|1</td><td style=\"text-align: center\">./.</td><td style=\"text-align: center\">0/1</td><td style=\"text-align: center\">./.</td><td style=\"text-align: center\">.|.</td><td style=\"text-align: center\">./.</td><td style=\"text-align: center\">0/1</td><td style=\"text-align: center\">./.</td><td style=\"text-align: center\">0|1</td><td style=\"text-align: center\">./.</td><td style=\"text-align: center\">0/1</td><td style=\"text-align: center\">./.</td><td style=\"text-align: center\">0|1</td><td style=\"text-align: center\">./.</td><td style=\"text-align: center\">./.</td><td style=\"text-align: center\">./.</td><td style=\"text-align: center\">0|1</td><td style=\"text-align: center\">./.</td><td style=\"text-align: center\">0/1</td><td style=\"text-align: center\">./.</td><td style=\"text-align: center\">0|1</td><td style=\"text-align: center\">./.</td><td style=\"text-align: center\">0/1</td><td style=\"text-align: center\">./.</td></tr><tr><th style=\"text-align: center\">8</th><td style=\"text-align: center\">.|.</td><td style=\"text-align: center\">./.</td><td style=\"text-align: center\">0/1</td><td style=\"text-align: center\">./.</td><td style=\"text-align: center\">0|1</td><td style=\"text-align: center\">./.</td><td style=\"text-align: center\">0/1</td><td style=\"text-align: center\">./.</td><td style=\"text-align: center\">0|1</td><td style=\"text-align: center\">./.</td><td style=\"text-align: center\">./.</td><td style=\"text-align: center\">./.</td><td style=\"text-align: center\">0|1</td><td style=\"text-align: center\">./.</td><td style=\"text-align: center\">0/1</td><td style=\"text-align: center\">./.</td><td style=\"text-align: center\">0|1</td><td style=\"text-align: center\">./.</td><td style=\"text-align: center\">0/1</td><td style=\"text-align: center\">./.</td><td style=\"text-align: center\">.|.</td><td style=\"text-align: center\">./.</td><td style=\"text-align: center\">0/1</td><td style=\"text-align: center\">./.</td><td style=\"text-align: center\">0|1</td><td style=\"text-align: center\">./.</td><td style=\"text-align: center\">0/1</td><td style=\"text-align: center\">./.</td><td style=\"text-align: center\">0|1</td><td style=\"text-align: center\">./.</td><td style=\"text-align: center\">./.</td><td style=\"text-align: center\">./.</td><td style=\"text-align: center\">0|1</td><td style=\"text-align: center\">./.</td><td style=\"text-align: center\">0/1</td><td style=\"text-align: center\">./.</td><td style=\"text-align: center\">0|1</td><td style=\"text-align: center\">./.</td><td style=\"text-align: center\">0/1</td><td style=\"text-align: center\">./.</td></tr><tr><th style=\"text-align: center\">9</th><td style=\"text-align: center\">.|.</td><td style=\"text-align: center\">./.</td><td style=\"text-align: center\">0/1</td><td style=\"text-align: center\">./.</td><td style=\"text-align: center\">0|1</td><td style=\"text-align: center\">./.</td><td style=\"text-align: center\">0/1</td><td style=\"text-align: center\">./.</td><td style=\"text-align: center\">0|1</td><td style=\"text-align: center\">./.</td><td style=\"text-align: center\">./.</td><td style=\"text-align: center\">./.</td><td style=\"text-align: center\">0|1</td><td style=\"text-align: center\">./.</td><td style=\"text-align: center\">0/1</td><td style=\"text-align: center\">./.</td><td style=\"text-align: center\">0|1</td><td style=\"text-align: center\">./.</td><td style=\"text-align: center\">0/1</td><td style=\"text-align: center\">./.</td><td style=\"text-align: center\">.|.</td><td style=\"text-align: center\">./.</td><td style=\"text-align: center\">0/1</td><td style=\"text-align: center\">./.</td><td style=\"text-align: center\">0|1</td><td style=\"text-align: center\">./.</td><td style=\"text-align: center\">0/1</td><td style=\"text-align: center\">./.</td><td style=\"text-align: center\">0|1</td><td style=\"text-align: center\">./.</td><td style=\"text-align: center\">./.</td><td style=\"text-align: center\">./.</td><td style=\"text-align: center\">0|1</td><td style=\"text-align: center\">./.</td><td style=\"text-align: center\">0/1</td><td style=\"text-align: center\">./.</td><td style=\"text-align: center\">0|1</td><td style=\"text-align: center\">./.</td><td style=\"text-align: center\">0/1</td><td style=\"text-align: center\">./.</td></tr><tr><th style=\"text-align: center\">10</th><td style=\"text-align: center\">.|.</td><td style=\"text-align: center\">./.</td><td style=\"text-align: center\">0/1</td><td style=\"text-align: center\">./.</td><td style=\"text-align: center\">0|1</td><td style=\"text-align: center\">./.</td><td style=\"text-align: center\">0/1</td><td style=\"text-align: center\">./.</td><td style=\"text-align: center\">0|1</td><td style=\"text-align: center\">./.</td><td style=\"text-align: center\">./.</td><td style=\"text-align: center\">./.</td><td style=\"text-align: center\">0|1</td><td style=\"text-align: center\">./.</td><td style=\"text-align: center\">0/1</td><td style=\"text-align: center\">./.</td><td style=\"text-align: center\">0|1</td><td style=\"text-align: center\">./.</td><td style=\"text-align: center\">0/1</td><td style=\"text-align: center\">./.</td><td style=\"text-align: center\">.|.</td><td style=\"text-align: center\">./.</td><td style=\"text-align: center\">0/1</td><td style=\"text-align: center\">./.</td><td style=\"text-align: center\">0|1</td><td style=\"text-align: center\">./.</td><td style=\"text-align: center\">0/1</td><td style=\"text-align: center\">./.</td><td style=\"text-align: center\">0|1</td><td style=\"text-align: center\">./.</td><td style=\"text-align: center\">./.</td><td style=\"text-align: center\">./.</td><td style=\"text-align: center\">0|1</td><td style=\"text-align: center\">./.</td><td style=\"text-align: center\">0/1</td><td style=\"text-align: center\">./.</td><td style=\"text-align: center\">0|1</td><td style=\"text-align: center\">./.</td><td style=\"text-align: center\">0/1</td><td style=\"text-align: center\">./.</td></tr><tr><th style=\"text-align: center\">11</th><td style=\"text-align: center\">.|.</td><td style=\"text-align: center\">./.</td><td style=\"text-align: center\">0/1</td><td style=\"text-align: center\">./.</td><td style=\"text-align: center\">0|1</td><td style=\"text-align: center\">./.</td><td style=\"text-align: center\">0/1</td><td style=\"text-align: center\">./.</td><td style=\"text-align: center\">0|1</td><td style=\"text-align: center\">./.</td><td style=\"text-align: center\">./.</td><td style=\"text-align: center\">./.</td><td style=\"text-align: center\">0|1</td><td style=\"text-align: center\">./.</td><td style=\"text-align: center\">0/1</td><td style=\"text-align: center\">./.</td><td style=\"text-align: center\">0|1</td><td style=\"text-align: center\">./.</td><td style=\"text-align: center\">0/1</td><td style=\"text-align: center\">./.</td><td style=\"text-align: center\">.|.</td><td style=\"text-align: center\">./.</td><td style=\"text-align: center\">0/1</td><td style=\"text-align: center\">./.</td><td style=\"text-align: center\">0|1</td><td style=\"text-align: center\">./.</td><td style=\"text-align: center\">0/1</td><td style=\"text-align: center\">./.</td><td style=\"text-align: center\">0|1</td><td style=\"text-align: center\">./.</td><td style=\"text-align: center\">./.</td><td style=\"text-align: center\">./.</td><td style=\"text-align: center\">0|1</td><td style=\"text-align: center\">./.</td><td style=\"text-align: center\">0/1</td><td style=\"text-align: center\">./.</td><td style=\"text-align: center\">0|1</td><td style=\"text-align: center\">./.</td><td style=\"text-align: center\">0/1</td><td style=\"text-align: center\">./.</td></tr><tr><th style=\"text-align: center\">12</th><td style=\"text-align: center\">.|.</td><td style=\"text-align: center\">./.</td><td style=\"text-align: center\">0/1</td><td style=\"text-align: center\">./.</td><td style=\"text-align: center\">0|1</td><td style=\"text-align: center\">./.</td><td style=\"text-align: center\">0/1</td><td style=\"text-align: center\">./.</td><td style=\"text-align: center\">0|1</td><td style=\"text-align: center\">./.</td><td style=\"text-align: center\">./.</td><td style=\"text-align: center\">./.</td><td style=\"text-align: center\">0|1</td><td style=\"text-align: center\">./.</td><td style=\"text-align: center\">0/1</td><td style=\"text-align: center\">./.</td><td style=\"text-align: center\">0|1</td><td style=\"text-align: center\">./.</td><td style=\"text-align: center\">0/1</td><td style=\"text-align: center\">./.</td><td style=\"text-align: center\">.|.</td><td style=\"text-align: center\">./.</td><td style=\"text-align: center\">0/1</td><td style=\"text-align: center\">./.</td><td style=\"text-align: center\">0|1</td><td style=\"text-align: center\">./.</td><td style=\"text-align: center\">0/1</td><td style=\"text-align: center\">./.</td><td style=\"text-align: center\">0|1</td><td style=\"text-align: center\">./.</td><td style=\"text-align: center\">./.</td><td style=\"text-align: center\">./.</td><td style=\"text-align: center\">0|1</td><td style=\"text-align: center\">./.</td><td style=\"text-align: center\">0/1</td><td style=\"text-align: center\">./.</td><td style=\"text-align: center\">0|1</td><td style=\"text-align: center\">./.</td><td style=\"text-align: center\">0/1</td><td style=\"text-align: center\">./.</td></tr><tr><th style=\"text-align: center\">13</th><td style=\"text-align: center\">.|.</td><td style=\"text-align: center\">./.</td><td style=\"text-align: center\">0/1</td><td style=\"text-align: center\">./.</td><td style=\"text-align: center\">0|1</td><td style=\"text-align: center\">./.</td><td style=\"text-align: center\">0/1</td><td style=\"text-align: center\">./.</td><td style=\"text-align: center\">0|1</td><td style=\"text-align: center\">./.</td><td style=\"text-align: center\">./.</td><td style=\"text-align: center\">./.</td><td style=\"text-align: center\">0|1</td><td style=\"text-align: center\">./.</td><td style=\"text-align: center\">0/1</td><td style=\"text-align: center\">./.</td><td style=\"text-align: center\">0|1</td><td style=\"text-align: center\">./.</td><td style=\"text-align: center\">0/1</td><td style=\"text-align: center\">./.</td><td style=\"text-align: center\">.|.</td><td style=\"text-align: center\">./.</td><td style=\"text-align: center\">0/1</td><td style=\"text-align: center\">./.</td><td style=\"text-align: center\">0|1</td><td style=\"text-align: center\">./.</td><td style=\"text-align: center\">0/1</td><td style=\"text-align: center\">./.</td><td style=\"text-align: center\">0|1</td><td style=\"text-align: center\">./.</td><td style=\"text-align: center\">./.</td><td style=\"text-align: center\">./.</td><td style=\"text-align: center\">0|1</td><td style=\"text-align: center\">./.</td><td style=\"text-align: center\">0/1</td><td style=\"text-align: center\">./.</td><td style=\"text-align: center\">0|1</td><td style=\"text-align: center\">./.</td><td style=\"text-align: center\">0/1</td><td style=\"text-align: center\">./.</td></tr><tr><th style=\"text-align: center\">14</th><td style=\"text-align: center\">.|.</td><td style=\"text-align: center\">./.</td><td style=\"text-align: center\">0/1</td><td style=\"text-align: center\">./.</td><td style=\"text-align: center\">0|1</td><td style=\"text-align: center\">./.</td><td style=\"text-align: center\">0/1</td><td style=\"text-align: center\">./.</td><td style=\"text-align: center\">0|1</td><td style=\"text-align: center\">./.</td><td style=\"text-align: center\">./.</td><td style=\"text-align: center\">./.</td><td style=\"text-align: center\">0|1</td><td style=\"text-align: center\">./.</td><td style=\"text-align: center\">0/1</td><td style=\"text-align: center\">./.</td><td style=\"text-align: center\">0|1</td><td style=\"text-align: center\">./.</td><td style=\"text-align: center\">0/1</td><td style=\"text-align: center\">./.</td><td style=\"text-align: center\">.|.</td><td style=\"text-align: center\">./.</td><td style=\"text-align: center\">0/1</td><td style=\"text-align: center\">./.</td><td style=\"text-align: center\">0|1</td><td style=\"text-align: center\">./.</td><td style=\"text-align: center\">0/1</td><td style=\"text-align: center\">./.</td><td style=\"text-align: center\">0|1</td><td style=\"text-align: center\">./.</td><td style=\"text-align: center\">./.</td><td style=\"text-align: center\">./.</td><td style=\"text-align: center\">0|1</td><td style=\"text-align: center\">./.</td><td style=\"text-align: center\">0/1</td><td style=\"text-align: center\">./.</td><td style=\"text-align: center\">0|1</td><td style=\"text-align: center\">./.</td><td style=\"text-align: center\">0/1</td><td style=\"text-align: center\">./.</td></tr><tr><th style=\"text-align: center\">15</th><td style=\"text-align: center\">.|.</td><td style=\"text-align: center\">./.</td><td style=\"text-align: center\">0/1</td><td style=\"text-align: center\">./.</td><td style=\"text-align: center\">0|1</td><td style=\"text-align: center\">./.</td><td style=\"text-align: center\">0/1</td><td style=\"text-align: center\">./.</td><td style=\"text-align: center\">0|1</td><td style=\"text-align: center\">./.</td><td style=\"text-align: center\">./.</td><td style=\"text-align: center\">./.</td><td style=\"text-align: center\">0|1</td><td style=\"text-align: center\">./.</td><td style=\"text-align: center\">0/1</td><td style=\"text-align: center\">./.</td><td style=\"text-align: center\">0|1</td><td style=\"text-align: center\">./.</td><td style=\"text-align: center\">0/1</td><td style=\"text-align: center\">./.</td><td style=\"text-align: center\">.|.</td><td style=\"text-align: center\">./.</td><td style=\"text-align: center\">0/1</td><td style=\"text-align: center\">./.</td><td style=\"text-align: center\">0|1</td><td style=\"text-align: center\">./.</td><td style=\"text-align: center\">0/1</td><td style=\"text-align: center\">./.</td><td style=\"text-align: center\">0|1</td><td style=\"text-align: center\">./.</td><td style=\"text-align: center\">./.</td><td style=\"text-align: center\">./.</td><td style=\"text-align: center\">0|1</td><td style=\"text-align: center\">./.</td><td style=\"text-align: center\">0/1</td><td style=\"text-align: center\">./.</td><td style=\"text-align: center\">0|1</td><td style=\"text-align: center\">./.</td><td style=\"text-align: center\">0/1</td><td style=\"text-align: center\">./.</td></tr><tr><th style=\"text-align: center\">16</th><td style=\"text-align: center\">.|.</td><td style=\"text-align: center\">./.</td><td style=\"text-align: center\">0/1</td><td style=\"text-align: center\">./.</td><td style=\"text-align: center\">0|1</td><td style=\"text-align: center\">./.</td><td style=\"text-align: center\">0/1</td><td style=\"text-align: center\">./.</td><td style=\"text-align: center\">0|1</td><td style=\"text-align: center\">./.</td><td style=\"text-align: center\">./.</td><td style=\"text-align: center\">./.</td><td style=\"text-align: center\">0|1</td><td style=\"text-align: center\">./.</td><td style=\"text-align: center\">0/1</td><td style=\"text-align: center\">./.</td><td style=\"text-align: center\">0|1</td><td style=\"text-align: center\">./.</td><td style=\"text-align: center\">0/1</td><td style=\"text-align: center\">./.</td><td style=\"text-align: center\">.|.</td><td style=\"text-align: center\">./.</td><td style=\"text-align: center\">0/1</td><td style=\"text-align: center\">./.</td><td style=\"text-align: center\">0|1</td><td style=\"text-align: center\">./.</td><td style=\"text-align: center\">0/1</td><td style=\"text-align: center\">./.</td><td style=\"text-align: center\">0|1</td><td style=\"text-align: center\">./.</td><td style=\"text-align: center\">./.</td><td style=\"text-align: center\">./.</td><td style=\"text-align: center\">0|1</td><td style=\"text-align: center\">./.</td><td style=\"text-align: center\">0/1</td><td style=\"text-align: center\">./.</td><td style=\"text-align: center\">0|1</td><td style=\"text-align: center\">./.</td><td style=\"text-align: center\">0/1</td><td style=\"text-align: center\">./.</td></tr><tr><th style=\"text-align: center\">17</th><td style=\"text-align: center\">.|.</td><td style=\"text-align: center\">./.</td><td style=\"text-align: center\">0/1</td><td style=\"text-align: center\">./.</td><td style=\"text-align: center\">0|1</td><td style=\"text-align: center\">./.</td><td style=\"text-align: center\">0/1</td><td style=\"text-align: center\">./.</td><td style=\"text-align: center\">0|1</td><td style=\"text-align: center\">./.</td><td style=\"text-align: center\">./.</td><td style=\"text-align: center\">./.</td><td style=\"text-align: center\">0|1</td><td style=\"text-align: center\">./.</td><td style=\"text-align: center\">0/1</td><td style=\"text-align: center\">./.</td><td style=\"text-align: center\">0|1</td><td style=\"text-align: center\">./.</td><td style=\"text-align: center\">0/1</td><td style=\"text-align: center\">./.</td><td style=\"text-align: center\">.|.</td><td style=\"text-align: center\">./.</td><td style=\"text-align: center\">0/1</td><td style=\"text-align: center\">./.</td><td style=\"text-align: center\">0|1</td><td style=\"text-align: center\">./.</td><td style=\"text-align: center\">0/1</td><td style=\"text-align: center\">./.</td><td style=\"text-align: center\">0|1</td><td style=\"text-align: center\">./.</td><td style=\"text-align: center\">./.</td><td style=\"text-align: center\">./.</td><td style=\"text-align: center\">0|1</td><td style=\"text-align: center\">./.</td><td style=\"text-align: center\">0/1</td><td style=\"text-align: center\">./.</td><td style=\"text-align: center\">0|1</td><td style=\"text-align: center\">./.</td><td style=\"text-align: center\">0/1</td><td style=\"text-align: center\">./.</td></tr><tr><th style=\"text-align: center\">18</th><td style=\"text-align: center\">.|.</td><td style=\"text-align: center\">./.</td><td style=\"text-align: center\">0/1</td><td style=\"text-align: center\">./.</td><td style=\"text-align: center\">0|1</td><td style=\"text-align: center\">./.</td><td style=\"text-align: center\">0/1</td><td style=\"text-align: center\">./.</td><td style=\"text-align: center\">0|1</td><td style=\"text-align: center\">./.</td><td style=\"text-align: center\">./.</td><td style=\"text-align: center\">./.</td><td style=\"text-align: center\">0|1</td><td style=\"text-align: center\">./.</td><td style=\"text-align: center\">0/1</td><td style=\"text-align: center\">./.</td><td style=\"text-align: center\">0|1</td><td style=\"text-align: center\">./.</td><td style=\"text-align: center\">0/1</td><td style=\"text-align: center\">./.</td><td style=\"text-align: center\">.|.</td><td style=\"text-align: center\">./.</td><td style=\"text-align: center\">0/1</td><td style=\"text-align: center\">./.</td><td style=\"text-align: center\">0|1</td><td style=\"text-align: center\">./.</td><td style=\"text-align: center\">0/1</td><td style=\"text-align: center\">./.</td><td style=\"text-align: center\">0|1</td><td style=\"text-align: center\">./.</td><td style=\"text-align: center\">./.</td><td style=\"text-align: center\">./.</td><td style=\"text-align: center\">0|1</td><td style=\"text-align: center\">./.</td><td style=\"text-align: center\">0/1</td><td style=\"text-align: center\">./.</td><td style=\"text-align: center\">0|1</td><td style=\"text-align: center\">./.</td><td style=\"text-align: center\">0/1</td><td style=\"text-align: center\">./.</td></tr><tr><th style=\"text-align: center\">19</th><td style=\"text-align: center\">.|.</td><td style=\"text-align: center\">./.</td><td style=\"text-align: center\">0/1</td><td style=\"text-align: center\">./.</td><td style=\"text-align: center\">0|1</td><td style=\"text-align: center\">./.</td><td style=\"text-align: center\">0/1</td><td style=\"text-align: center\">./.</td><td style=\"text-align: center\">0|1</td><td style=\"text-align: center\">./.</td><td style=\"text-align: center\">./.</td><td style=\"text-align: center\">./.</td><td style=\"text-align: center\">0|1</td><td style=\"text-align: center\">./.</td><td style=\"text-align: center\">0/1</td><td style=\"text-align: center\">./.</td><td style=\"text-align: center\">0|1</td><td style=\"text-align: center\">./.</td><td style=\"text-align: center\">0/1</td><td style=\"text-align: center\">./.</td><td style=\"text-align: center\">.|.</td><td style=\"text-align: center\">./.</td><td style=\"text-align: center\">0/1</td><td style=\"text-align: center\">./.</td><td style=\"text-align: center\">0|1</td><td style=\"text-align: center\">./.</td><td style=\"text-align: center\">0/1</td><td style=\"text-align: center\">./.</td><td style=\"text-align: center\">0|1</td><td style=\"text-align: center\">./.</td><td style=\"text-align: center\">./.</td><td style=\"text-align: center\">./.</td><td style=\"text-align: center\">0|1</td><td style=\"text-align: center\">./.</td><td style=\"text-align: center\">0/1</td><td style=\"text-align: center\">./.</td><td style=\"text-align: center\">0|1</td><td style=\"text-align: center\">./.</td><td style=\"text-align: center\">0/1</td><td style=\"text-align: center\">./.</td></tr></table>"
      ]
     },
     "metadata": {},
     "output_type": "display_data"
    }
   ],
   "source": [
    "g.displayall()"
   ]
  },
  {
   "cell_type": "code",
   "execution_count": 16,
   "metadata": {
    "collapsed": false
   },
   "outputs": [
    {
     "data": {
      "text/html": [
       "&lt;GenotypeVector shape=(40, 2) dtype=int64><table><tr><th style=\"text-align: center\">0</th><th style=\"text-align: center\">1</th><th style=\"text-align: center\">2</th><th style=\"text-align: center\">3</th><th style=\"text-align: center\">4</th><th style=\"text-align: center\"> ... </th><th style=\"text-align: center\">35</th><th style=\"text-align: center\">36</th><th style=\"text-align: center\">37</th><th style=\"text-align: center\">38</th><th style=\"text-align: center\">39</th></tr><tr><td style=\"text-align: center\">.|.</td><td style=\"text-align: center\">./.</td><td style=\"text-align: center\">0/1</td><td style=\"text-align: center\">./.</td><td style=\"text-align: center\">0|1</td><td style=\"text-align: center\"> ... </td><td style=\"text-align: center\">./.</td><td style=\"text-align: center\">0|1</td><td style=\"text-align: center\">./.</td><td style=\"text-align: center\">0/1</td><td style=\"text-align: center\">./.</td></tr></table>"
      ],
      "text/plain": [
       "<GenotypeVector shape=(40, 2) dtype=int64>\n",
       ".|. ./. 0/1 ./. 0|1  ...  ./. 0|1 ./. 0/1 ./."
      ]
     },
     "execution_count": 16,
     "metadata": {},
     "output_type": "execute_result"
    }
   ],
   "source": [
    "g[0]"
   ]
  },
  {
   "cell_type": "code",
   "execution_count": 17,
   "metadata": {
    "collapsed": false
   },
   "outputs": [
    {
     "data": {
      "text/html": [
       "&lt;GenotypeVector shape=(20, 2) dtype=int64><table><tr><th style=\"text-align: center\">0</th><th style=\"text-align: center\">1</th><th style=\"text-align: center\">2</th><th style=\"text-align: center\">3</th><th style=\"text-align: center\">4</th><th style=\"text-align: center\"> ... </th><th style=\"text-align: center\">15</th><th style=\"text-align: center\">16</th><th style=\"text-align: center\">17</th><th style=\"text-align: center\">18</th><th style=\"text-align: center\">19</th></tr><tr><td style=\"text-align: center\">0|1</td><td style=\"text-align: center\">0|1</td><td style=\"text-align: center\">0|1</td><td style=\"text-align: center\">0|1</td><td style=\"text-align: center\">0|1</td><td style=\"text-align: center\"> ... </td><td style=\"text-align: center\">0|1</td><td style=\"text-align: center\">0|1</td><td style=\"text-align: center\">0|1</td><td style=\"text-align: center\">0|1</td><td style=\"text-align: center\">0|1</td></tr></table>"
      ],
      "text/plain": [
       "<GenotypeVector shape=(20, 2) dtype=int64>\n",
       "0|1 0|1 0|1 0|1 0|1  ...  0|1 0|1 0|1 0|1 0|1"
      ]
     },
     "execution_count": 17,
     "metadata": {},
     "output_type": "execute_result"
    }
   ],
   "source": [
    "g[:, 4]"
   ]
  },
  {
   "cell_type": "code",
   "execution_count": 18,
   "metadata": {
    "collapsed": false
   },
   "outputs": [
    {
     "data": {
      "text/html": [
       "&lt;GenotypeVector shape=(20, 2) dtype=int64><table><tr><th style=\"text-align: center\">0</th><th style=\"text-align: center\">1</th><th style=\"text-align: center\">2</th><th style=\"text-align: center\">3</th><th style=\"text-align: center\">4</th><th style=\"text-align: center\">5</th><th style=\"text-align: center\">6</th><th style=\"text-align: center\">7</th><th style=\"text-align: center\">8</th><th style=\"text-align: center\">9</th><th style=\"text-align: center\">10</th><th style=\"text-align: center\">11</th><th style=\"text-align: center\">12</th><th style=\"text-align: center\">13</th><th style=\"text-align: center\">14</th><th style=\"text-align: center\">15</th><th style=\"text-align: center\">16</th><th style=\"text-align: center\">17</th><th style=\"text-align: center\">18</th><th style=\"text-align: center\">19</th></tr><tr><td style=\"text-align: center\">0|1</td><td style=\"text-align: center\">0|1</td><td style=\"text-align: center\">0|1</td><td style=\"text-align: center\">0|1</td><td style=\"text-align: center\">0|1</td><td style=\"text-align: center\">0|1</td><td style=\"text-align: center\">0|1</td><td style=\"text-align: center\">0|1</td><td style=\"text-align: center\">0|1</td><td style=\"text-align: center\">0|1</td><td style=\"text-align: center\">0|1</td><td style=\"text-align: center\">0|1</td><td style=\"text-align: center\">0|1</td><td style=\"text-align: center\">0|1</td><td style=\"text-align: center\">0|1</td><td style=\"text-align: center\">0|1</td><td style=\"text-align: center\">0|1</td><td style=\"text-align: center\">0|1</td><td style=\"text-align: center\">0|1</td><td style=\"text-align: center\">0|1</td></tr></table>"
      ]
     },
     "metadata": {},
     "output_type": "display_data"
    }
   ],
   "source": [
    "g[:, 4].displayall()"
   ]
  },
  {
   "cell_type": "code",
   "execution_count": 19,
   "metadata": {
    "collapsed": false
   },
   "outputs": [
    {
     "data": {
      "text/html": [
       "&lt;GenotypeArray shape=(20, 40, 2) dtype=int64><table><tr><th></th><th style=\"text-align: center\">0</th><th style=\"text-align: center\">1</th><th style=\"text-align: center\">2</th><th style=\"text-align: center\">3</th><th style=\"text-align: center\">4</th><th style=\"text-align: center\"> ... </th><th style=\"text-align: center\">35</th><th style=\"text-align: center\">36</th><th style=\"text-align: center\">37</th><th style=\"text-align: center\">38</th><th style=\"text-align: center\">39</th></tr><tr><th style=\"text-align: center\">0</th><td style=\"text-align: center\">0|1</td><td style=\"text-align: center\">./.</td><td style=\"text-align: center\">0/1</td><td style=\"text-align: center\">./.</td><td style=\"text-align: center\">0|1</td><td style=\"text-align: center\"> ... </td><td style=\"text-align: center\">./.</td><td style=\"text-align: center\">0|1</td><td style=\"text-align: center\">./.</td><td style=\"text-align: center\">0/1</td><td style=\"text-align: center\">./.</td></tr><tr><th style=\"text-align: center\">1</th><td style=\"text-align: center\">0|1</td><td style=\"text-align: center\">./.</td><td style=\"text-align: center\">0/1</td><td style=\"text-align: center\">./.</td><td style=\"text-align: center\">0|1</td><td style=\"text-align: center\"> ... </td><td style=\"text-align: center\">./.</td><td style=\"text-align: center\">0|1</td><td style=\"text-align: center\">./.</td><td style=\"text-align: center\">0/1</td><td style=\"text-align: center\">./.</td></tr><tr><th style=\"text-align: center\">2</th><td style=\"text-align: center\">0|1</td><td style=\"text-align: center\">./.</td><td style=\"text-align: center\">0/1</td><td style=\"text-align: center\">./.</td><td style=\"text-align: center\">0|1</td><td style=\"text-align: center\"> ... </td><td style=\"text-align: center\">./.</td><td style=\"text-align: center\">0|1</td><td style=\"text-align: center\">./.</td><td style=\"text-align: center\">0/1</td><td style=\"text-align: center\">./.</td></tr><tr><th style=\"text-align: center\">...</th><td style=\"text-align: center\" colspan=12>...</td></tr><tr><th style=\"text-align: center\">17</th><td style=\"text-align: center\">0|1</td><td style=\"text-align: center\">./.</td><td style=\"text-align: center\">0/1</td><td style=\"text-align: center\">./.</td><td style=\"text-align: center\">0|1</td><td style=\"text-align: center\"> ... </td><td style=\"text-align: center\">./.</td><td style=\"text-align: center\">0|1</td><td style=\"text-align: center\">./.</td><td style=\"text-align: center\">0/1</td><td style=\"text-align: center\">./.</td></tr><tr><th style=\"text-align: center\">18</th><td style=\"text-align: center\">0|1</td><td style=\"text-align: center\">./.</td><td style=\"text-align: center\">0/1</td><td style=\"text-align: center\">./.</td><td style=\"text-align: center\">0|1</td><td style=\"text-align: center\"> ... </td><td style=\"text-align: center\">./.</td><td style=\"text-align: center\">0|1</td><td style=\"text-align: center\">./.</td><td style=\"text-align: center\">0/1</td><td style=\"text-align: center\">./.</td></tr><tr><th style=\"text-align: center\">19</th><td style=\"text-align: center\">0|1</td><td style=\"text-align: center\">./.</td><td style=\"text-align: center\">0/1</td><td style=\"text-align: center\">./.</td><td style=\"text-align: center\">0|1</td><td style=\"text-align: center\"> ... </td><td style=\"text-align: center\">./.</td><td style=\"text-align: center\">0|1</td><td style=\"text-align: center\">./.</td><td style=\"text-align: center\">0/1</td><td style=\"text-align: center\">./.</td></tr></table>"
      ],
      "text/plain": [
       "<GenotypeArray shape=(20, 40, 2) dtype=int64>\n",
       "0|1 ./. 0/1 ./. 0|1  ...  ./. 0|1 ./. 0/1 ./.\n",
       "0|1 ./. 0/1 ./. 0|1  ...  ./. 0|1 ./. 0/1 ./.\n",
       "0|1 ./. 0/1 ./. 0|1  ...  ./. 0|1 ./. 0/1 ./.\n",
       " ... \n",
       "0|1 ./. 0/1 ./. 0|1  ...  ./. 0|1 ./. 0/1 ./.\n",
       "0|1 ./. 0/1 ./. 0|1  ...  ./. 0|1 ./. 0/1 ./.\n",
       "0|1 ./. 0/1 ./. 0|1  ...  ./. 0|1 ./. 0/1 ./."
      ]
     },
     "execution_count": 19,
     "metadata": {},
     "output_type": "execute_result"
    }
   ],
   "source": [
    "g.mask = None\n",
    "g"
   ]
  },
  {
   "cell_type": "code",
   "execution_count": 20,
   "metadata": {
    "collapsed": false
   },
   "outputs": [
    {
     "data": {
      "text/html": [
       "&lt;GenotypeArray shape=(20, 40, 2) dtype=int64><table><tr><th></th><th style=\"text-align: center\">0</th><th style=\"text-align: center\">1</th><th style=\"text-align: center\">2</th><th style=\"text-align: center\">3</th><th style=\"text-align: center\">4</th><th style=\"text-align: center\">5</th><th style=\"text-align: center\">6</th><th style=\"text-align: center\">7</th><th style=\"text-align: center\">8</th><th style=\"text-align: center\">9</th><th style=\"text-align: center\">10</th><th style=\"text-align: center\">11</th><th style=\"text-align: center\">12</th><th style=\"text-align: center\">13</th><th style=\"text-align: center\">14</th><th style=\"text-align: center\">15</th><th style=\"text-align: center\">16</th><th style=\"text-align: center\">17</th><th style=\"text-align: center\">18</th><th style=\"text-align: center\">19</th><th style=\"text-align: center\">20</th><th style=\"text-align: center\">21</th><th style=\"text-align: center\">22</th><th style=\"text-align: center\">23</th><th style=\"text-align: center\">24</th><th style=\"text-align: center\">25</th><th style=\"text-align: center\">26</th><th style=\"text-align: center\">27</th><th style=\"text-align: center\">28</th><th style=\"text-align: center\">29</th><th style=\"text-align: center\">30</th><th style=\"text-align: center\">31</th><th style=\"text-align: center\">32</th><th style=\"text-align: center\">33</th><th style=\"text-align: center\">34</th><th style=\"text-align: center\">35</th><th style=\"text-align: center\">36</th><th style=\"text-align: center\">37</th><th style=\"text-align: center\">38</th><th style=\"text-align: center\">39</th></tr><tr><th style=\"text-align: center\">0</th><td style=\"text-align: center\">0|1</td><td style=\"text-align: center\">./.</td><td style=\"text-align: center\">0/1</td><td style=\"text-align: center\">./.</td><td style=\"text-align: center\">0|1</td><td style=\"text-align: center\">./.</td><td style=\"text-align: center\">0/1</td><td style=\"text-align: center\">./.</td><td style=\"text-align: center\">0|1</td><td style=\"text-align: center\">./.</td><td style=\"text-align: center\">0/1</td><td style=\"text-align: center\">./.</td><td style=\"text-align: center\">0|1</td><td style=\"text-align: center\">./.</td><td style=\"text-align: center\">0/1</td><td style=\"text-align: center\">./.</td><td style=\"text-align: center\">0|1</td><td style=\"text-align: center\">./.</td><td style=\"text-align: center\">0/1</td><td style=\"text-align: center\">./.</td><td style=\"text-align: center\">0|1</td><td style=\"text-align: center\">./.</td><td style=\"text-align: center\">0/1</td><td style=\"text-align: center\">./.</td><td style=\"text-align: center\">0|1</td><td style=\"text-align: center\">./.</td><td style=\"text-align: center\">0/1</td><td style=\"text-align: center\">./.</td><td style=\"text-align: center\">0|1</td><td style=\"text-align: center\">./.</td><td style=\"text-align: center\">0/1</td><td style=\"text-align: center\">./.</td><td style=\"text-align: center\">0|1</td><td style=\"text-align: center\">./.</td><td style=\"text-align: center\">0/1</td><td style=\"text-align: center\">./.</td><td style=\"text-align: center\">0|1</td><td style=\"text-align: center\">./.</td><td style=\"text-align: center\">0/1</td><td style=\"text-align: center\">./.</td></tr><tr><th style=\"text-align: center\">1</th><td style=\"text-align: center\">0|1</td><td style=\"text-align: center\">./.</td><td style=\"text-align: center\">0/1</td><td style=\"text-align: center\">./.</td><td style=\"text-align: center\">0|1</td><td style=\"text-align: center\">./.</td><td style=\"text-align: center\">0/1</td><td style=\"text-align: center\">./.</td><td style=\"text-align: center\">0|1</td><td style=\"text-align: center\">./.</td><td style=\"text-align: center\">0/1</td><td style=\"text-align: center\">./.</td><td style=\"text-align: center\">0|1</td><td style=\"text-align: center\">./.</td><td style=\"text-align: center\">0/1</td><td style=\"text-align: center\">./.</td><td style=\"text-align: center\">0|1</td><td style=\"text-align: center\">./.</td><td style=\"text-align: center\">0/1</td><td style=\"text-align: center\">./.</td><td style=\"text-align: center\">0|1</td><td style=\"text-align: center\">./.</td><td style=\"text-align: center\">0/1</td><td style=\"text-align: center\">./.</td><td style=\"text-align: center\">0|1</td><td style=\"text-align: center\">./.</td><td style=\"text-align: center\">0/1</td><td style=\"text-align: center\">./.</td><td style=\"text-align: center\">0|1</td><td style=\"text-align: center\">./.</td><td style=\"text-align: center\">0/1</td><td style=\"text-align: center\">./.</td><td style=\"text-align: center\">0|1</td><td style=\"text-align: center\">./.</td><td style=\"text-align: center\">0/1</td><td style=\"text-align: center\">./.</td><td style=\"text-align: center\">0|1</td><td style=\"text-align: center\">./.</td><td style=\"text-align: center\">0/1</td><td style=\"text-align: center\">./.</td></tr><tr><th style=\"text-align: center\">2</th><td style=\"text-align: center\">0|1</td><td style=\"text-align: center\">./.</td><td style=\"text-align: center\">0/1</td><td style=\"text-align: center\">./.</td><td style=\"text-align: center\">0|1</td><td style=\"text-align: center\">./.</td><td style=\"text-align: center\">0/1</td><td style=\"text-align: center\">./.</td><td style=\"text-align: center\">0|1</td><td style=\"text-align: center\">./.</td><td style=\"text-align: center\">0/1</td><td style=\"text-align: center\">./.</td><td style=\"text-align: center\">0|1</td><td style=\"text-align: center\">./.</td><td style=\"text-align: center\">0/1</td><td style=\"text-align: center\">./.</td><td style=\"text-align: center\">0|1</td><td style=\"text-align: center\">./.</td><td style=\"text-align: center\">0/1</td><td style=\"text-align: center\">./.</td><td style=\"text-align: center\">0|1</td><td style=\"text-align: center\">./.</td><td style=\"text-align: center\">0/1</td><td style=\"text-align: center\">./.</td><td style=\"text-align: center\">0|1</td><td style=\"text-align: center\">./.</td><td style=\"text-align: center\">0/1</td><td style=\"text-align: center\">./.</td><td style=\"text-align: center\">0|1</td><td style=\"text-align: center\">./.</td><td style=\"text-align: center\">0/1</td><td style=\"text-align: center\">./.</td><td style=\"text-align: center\">0|1</td><td style=\"text-align: center\">./.</td><td style=\"text-align: center\">0/1</td><td style=\"text-align: center\">./.</td><td style=\"text-align: center\">0|1</td><td style=\"text-align: center\">./.</td><td style=\"text-align: center\">0/1</td><td style=\"text-align: center\">./.</td></tr><tr><th style=\"text-align: center\">3</th><td style=\"text-align: center\">0|1</td><td style=\"text-align: center\">./.</td><td style=\"text-align: center\">0/1</td><td style=\"text-align: center\">./.</td><td style=\"text-align: center\">0|1</td><td style=\"text-align: center\">./.</td><td style=\"text-align: center\">0/1</td><td style=\"text-align: center\">./.</td><td style=\"text-align: center\">0|1</td><td style=\"text-align: center\">./.</td><td style=\"text-align: center\">0/1</td><td style=\"text-align: center\">./.</td><td style=\"text-align: center\">0|1</td><td style=\"text-align: center\">./.</td><td style=\"text-align: center\">0/1</td><td style=\"text-align: center\">./.</td><td style=\"text-align: center\">0|1</td><td style=\"text-align: center\">./.</td><td style=\"text-align: center\">0/1</td><td style=\"text-align: center\">./.</td><td style=\"text-align: center\">0|1</td><td style=\"text-align: center\">./.</td><td style=\"text-align: center\">0/1</td><td style=\"text-align: center\">./.</td><td style=\"text-align: center\">0|1</td><td style=\"text-align: center\">./.</td><td style=\"text-align: center\">0/1</td><td style=\"text-align: center\">./.</td><td style=\"text-align: center\">0|1</td><td style=\"text-align: center\">./.</td><td style=\"text-align: center\">0/1</td><td style=\"text-align: center\">./.</td><td style=\"text-align: center\">0|1</td><td style=\"text-align: center\">./.</td><td style=\"text-align: center\">0/1</td><td style=\"text-align: center\">./.</td><td style=\"text-align: center\">0|1</td><td style=\"text-align: center\">./.</td><td style=\"text-align: center\">0/1</td><td style=\"text-align: center\">./.</td></tr><tr><th style=\"text-align: center\">4</th><td style=\"text-align: center\">0|1</td><td style=\"text-align: center\">./.</td><td style=\"text-align: center\">0/1</td><td style=\"text-align: center\">./.</td><td style=\"text-align: center\">0|1</td><td style=\"text-align: center\">./.</td><td style=\"text-align: center\">0/1</td><td style=\"text-align: center\">./.</td><td style=\"text-align: center\">0|1</td><td style=\"text-align: center\">./.</td><td style=\"text-align: center\">0/1</td><td style=\"text-align: center\">./.</td><td style=\"text-align: center\">0|1</td><td style=\"text-align: center\">./.</td><td style=\"text-align: center\">0/1</td><td style=\"text-align: center\">./.</td><td style=\"text-align: center\">0|1</td><td style=\"text-align: center\">./.</td><td style=\"text-align: center\">0/1</td><td style=\"text-align: center\">./.</td><td style=\"text-align: center\">0|1</td><td style=\"text-align: center\">./.</td><td style=\"text-align: center\">0/1</td><td style=\"text-align: center\">./.</td><td style=\"text-align: center\">0|1</td><td style=\"text-align: center\">./.</td><td style=\"text-align: center\">0/1</td><td style=\"text-align: center\">./.</td><td style=\"text-align: center\">0|1</td><td style=\"text-align: center\">./.</td><td style=\"text-align: center\">0/1</td><td style=\"text-align: center\">./.</td><td style=\"text-align: center\">0|1</td><td style=\"text-align: center\">./.</td><td style=\"text-align: center\">0/1</td><td style=\"text-align: center\">./.</td><td style=\"text-align: center\">0|1</td><td style=\"text-align: center\">./.</td><td style=\"text-align: center\">0/1</td><td style=\"text-align: center\">./.</td></tr><tr><th style=\"text-align: center\">5</th><td style=\"text-align: center\">0|1</td><td style=\"text-align: center\">./.</td><td style=\"text-align: center\">0/1</td><td style=\"text-align: center\">./.</td><td style=\"text-align: center\">0|1</td><td style=\"text-align: center\">./.</td><td style=\"text-align: center\">0/1</td><td style=\"text-align: center\">./.</td><td style=\"text-align: center\">0|1</td><td style=\"text-align: center\">./.</td><td style=\"text-align: center\">0/1</td><td style=\"text-align: center\">./.</td><td style=\"text-align: center\">0|1</td><td style=\"text-align: center\">./.</td><td style=\"text-align: center\">0/1</td><td style=\"text-align: center\">./.</td><td style=\"text-align: center\">0|1</td><td style=\"text-align: center\">./.</td><td style=\"text-align: center\">0/1</td><td style=\"text-align: center\">./.</td><td style=\"text-align: center\">0|1</td><td style=\"text-align: center\">./.</td><td style=\"text-align: center\">0/1</td><td style=\"text-align: center\">./.</td><td style=\"text-align: center\">0|1</td><td style=\"text-align: center\">./.</td><td style=\"text-align: center\">0/1</td><td style=\"text-align: center\">./.</td><td style=\"text-align: center\">0|1</td><td style=\"text-align: center\">./.</td><td style=\"text-align: center\">0/1</td><td style=\"text-align: center\">./.</td><td style=\"text-align: center\">0|1</td><td style=\"text-align: center\">./.</td><td style=\"text-align: center\">0/1</td><td style=\"text-align: center\">./.</td><td style=\"text-align: center\">0|1</td><td style=\"text-align: center\">./.</td><td style=\"text-align: center\">0/1</td><td style=\"text-align: center\">./.</td></tr><tr><th style=\"text-align: center\">6</th><td style=\"text-align: center\">0|1</td><td style=\"text-align: center\">./.</td><td style=\"text-align: center\">0/1</td><td style=\"text-align: center\">./.</td><td style=\"text-align: center\">0|1</td><td style=\"text-align: center\">./.</td><td style=\"text-align: center\">0/1</td><td style=\"text-align: center\">./.</td><td style=\"text-align: center\">0|1</td><td style=\"text-align: center\">./.</td><td style=\"text-align: center\">0/1</td><td style=\"text-align: center\">./.</td><td style=\"text-align: center\">0|1</td><td style=\"text-align: center\">./.</td><td style=\"text-align: center\">0/1</td><td style=\"text-align: center\">./.</td><td style=\"text-align: center\">0|1</td><td style=\"text-align: center\">./.</td><td style=\"text-align: center\">0/1</td><td style=\"text-align: center\">./.</td><td style=\"text-align: center\">0|1</td><td style=\"text-align: center\">./.</td><td style=\"text-align: center\">0/1</td><td style=\"text-align: center\">./.</td><td style=\"text-align: center\">0|1</td><td style=\"text-align: center\">./.</td><td style=\"text-align: center\">0/1</td><td style=\"text-align: center\">./.</td><td style=\"text-align: center\">0|1</td><td style=\"text-align: center\">./.</td><td style=\"text-align: center\">0/1</td><td style=\"text-align: center\">./.</td><td style=\"text-align: center\">0|1</td><td style=\"text-align: center\">./.</td><td style=\"text-align: center\">0/1</td><td style=\"text-align: center\">./.</td><td style=\"text-align: center\">0|1</td><td style=\"text-align: center\">./.</td><td style=\"text-align: center\">0/1</td><td style=\"text-align: center\">./.</td></tr><tr><th style=\"text-align: center\">7</th><td style=\"text-align: center\">0|1</td><td style=\"text-align: center\">./.</td><td style=\"text-align: center\">0/1</td><td style=\"text-align: center\">./.</td><td style=\"text-align: center\">0|1</td><td style=\"text-align: center\">./.</td><td style=\"text-align: center\">0/1</td><td style=\"text-align: center\">./.</td><td style=\"text-align: center\">0|1</td><td style=\"text-align: center\">./.</td><td style=\"text-align: center\">0/1</td><td style=\"text-align: center\">./.</td><td style=\"text-align: center\">0|1</td><td style=\"text-align: center\">./.</td><td style=\"text-align: center\">0/1</td><td style=\"text-align: center\">./.</td><td style=\"text-align: center\">0|1</td><td style=\"text-align: center\">./.</td><td style=\"text-align: center\">0/1</td><td style=\"text-align: center\">./.</td><td style=\"text-align: center\">0|1</td><td style=\"text-align: center\">./.</td><td style=\"text-align: center\">0/1</td><td style=\"text-align: center\">./.</td><td style=\"text-align: center\">0|1</td><td style=\"text-align: center\">./.</td><td style=\"text-align: center\">0/1</td><td style=\"text-align: center\">./.</td><td style=\"text-align: center\">0|1</td><td style=\"text-align: center\">./.</td><td style=\"text-align: center\">0/1</td><td style=\"text-align: center\">./.</td><td style=\"text-align: center\">0|1</td><td style=\"text-align: center\">./.</td><td style=\"text-align: center\">0/1</td><td style=\"text-align: center\">./.</td><td style=\"text-align: center\">0|1</td><td style=\"text-align: center\">./.</td><td style=\"text-align: center\">0/1</td><td style=\"text-align: center\">./.</td></tr><tr><th style=\"text-align: center\">8</th><td style=\"text-align: center\">0|1</td><td style=\"text-align: center\">./.</td><td style=\"text-align: center\">0/1</td><td style=\"text-align: center\">./.</td><td style=\"text-align: center\">0|1</td><td style=\"text-align: center\">./.</td><td style=\"text-align: center\">0/1</td><td style=\"text-align: center\">./.</td><td style=\"text-align: center\">0|1</td><td style=\"text-align: center\">./.</td><td style=\"text-align: center\">0/1</td><td style=\"text-align: center\">./.</td><td style=\"text-align: center\">0|1</td><td style=\"text-align: center\">./.</td><td style=\"text-align: center\">0/1</td><td style=\"text-align: center\">./.</td><td style=\"text-align: center\">0|1</td><td style=\"text-align: center\">./.</td><td style=\"text-align: center\">0/1</td><td style=\"text-align: center\">./.</td><td style=\"text-align: center\">0|1</td><td style=\"text-align: center\">./.</td><td style=\"text-align: center\">0/1</td><td style=\"text-align: center\">./.</td><td style=\"text-align: center\">0|1</td><td style=\"text-align: center\">./.</td><td style=\"text-align: center\">0/1</td><td style=\"text-align: center\">./.</td><td style=\"text-align: center\">0|1</td><td style=\"text-align: center\">./.</td><td style=\"text-align: center\">0/1</td><td style=\"text-align: center\">./.</td><td style=\"text-align: center\">0|1</td><td style=\"text-align: center\">./.</td><td style=\"text-align: center\">0/1</td><td style=\"text-align: center\">./.</td><td style=\"text-align: center\">0|1</td><td style=\"text-align: center\">./.</td><td style=\"text-align: center\">0/1</td><td style=\"text-align: center\">./.</td></tr><tr><th style=\"text-align: center\">9</th><td style=\"text-align: center\">0|1</td><td style=\"text-align: center\">./.</td><td style=\"text-align: center\">0/1</td><td style=\"text-align: center\">./.</td><td style=\"text-align: center\">0|1</td><td style=\"text-align: center\">./.</td><td style=\"text-align: center\">0/1</td><td style=\"text-align: center\">./.</td><td style=\"text-align: center\">0|1</td><td style=\"text-align: center\">./.</td><td style=\"text-align: center\">0/1</td><td style=\"text-align: center\">./.</td><td style=\"text-align: center\">0|1</td><td style=\"text-align: center\">./.</td><td style=\"text-align: center\">0/1</td><td style=\"text-align: center\">./.</td><td style=\"text-align: center\">0|1</td><td style=\"text-align: center\">./.</td><td style=\"text-align: center\">0/1</td><td style=\"text-align: center\">./.</td><td style=\"text-align: center\">0|1</td><td style=\"text-align: center\">./.</td><td style=\"text-align: center\">0/1</td><td style=\"text-align: center\">./.</td><td style=\"text-align: center\">0|1</td><td style=\"text-align: center\">./.</td><td style=\"text-align: center\">0/1</td><td style=\"text-align: center\">./.</td><td style=\"text-align: center\">0|1</td><td style=\"text-align: center\">./.</td><td style=\"text-align: center\">0/1</td><td style=\"text-align: center\">./.</td><td style=\"text-align: center\">0|1</td><td style=\"text-align: center\">./.</td><td style=\"text-align: center\">0/1</td><td style=\"text-align: center\">./.</td><td style=\"text-align: center\">0|1</td><td style=\"text-align: center\">./.</td><td style=\"text-align: center\">0/1</td><td style=\"text-align: center\">./.</td></tr><tr><th style=\"text-align: center\">10</th><td style=\"text-align: center\">0|1</td><td style=\"text-align: center\">./.</td><td style=\"text-align: center\">0/1</td><td style=\"text-align: center\">./.</td><td style=\"text-align: center\">0|1</td><td style=\"text-align: center\">./.</td><td style=\"text-align: center\">0/1</td><td style=\"text-align: center\">./.</td><td style=\"text-align: center\">0|1</td><td style=\"text-align: center\">./.</td><td style=\"text-align: center\">0/1</td><td style=\"text-align: center\">./.</td><td style=\"text-align: center\">0|1</td><td style=\"text-align: center\">./.</td><td style=\"text-align: center\">0/1</td><td style=\"text-align: center\">./.</td><td style=\"text-align: center\">0|1</td><td style=\"text-align: center\">./.</td><td style=\"text-align: center\">0/1</td><td style=\"text-align: center\">./.</td><td style=\"text-align: center\">0|1</td><td style=\"text-align: center\">./.</td><td style=\"text-align: center\">0/1</td><td style=\"text-align: center\">./.</td><td style=\"text-align: center\">0|1</td><td style=\"text-align: center\">./.</td><td style=\"text-align: center\">0/1</td><td style=\"text-align: center\">./.</td><td style=\"text-align: center\">0|1</td><td style=\"text-align: center\">./.</td><td style=\"text-align: center\">0/1</td><td style=\"text-align: center\">./.</td><td style=\"text-align: center\">0|1</td><td style=\"text-align: center\">./.</td><td style=\"text-align: center\">0/1</td><td style=\"text-align: center\">./.</td><td style=\"text-align: center\">0|1</td><td style=\"text-align: center\">./.</td><td style=\"text-align: center\">0/1</td><td style=\"text-align: center\">./.</td></tr><tr><th style=\"text-align: center\">11</th><td style=\"text-align: center\">0|1</td><td style=\"text-align: center\">./.</td><td style=\"text-align: center\">0/1</td><td style=\"text-align: center\">./.</td><td style=\"text-align: center\">0|1</td><td style=\"text-align: center\">./.</td><td style=\"text-align: center\">0/1</td><td style=\"text-align: center\">./.</td><td style=\"text-align: center\">0|1</td><td style=\"text-align: center\">./.</td><td style=\"text-align: center\">0/1</td><td style=\"text-align: center\">./.</td><td style=\"text-align: center\">0|1</td><td style=\"text-align: center\">./.</td><td style=\"text-align: center\">0/1</td><td style=\"text-align: center\">./.</td><td style=\"text-align: center\">0|1</td><td style=\"text-align: center\">./.</td><td style=\"text-align: center\">0/1</td><td style=\"text-align: center\">./.</td><td style=\"text-align: center\">0|1</td><td style=\"text-align: center\">./.</td><td style=\"text-align: center\">0/1</td><td style=\"text-align: center\">./.</td><td style=\"text-align: center\">0|1</td><td style=\"text-align: center\">./.</td><td style=\"text-align: center\">0/1</td><td style=\"text-align: center\">./.</td><td style=\"text-align: center\">0|1</td><td style=\"text-align: center\">./.</td><td style=\"text-align: center\">0/1</td><td style=\"text-align: center\">./.</td><td style=\"text-align: center\">0|1</td><td style=\"text-align: center\">./.</td><td style=\"text-align: center\">0/1</td><td style=\"text-align: center\">./.</td><td style=\"text-align: center\">0|1</td><td style=\"text-align: center\">./.</td><td style=\"text-align: center\">0/1</td><td style=\"text-align: center\">./.</td></tr><tr><th style=\"text-align: center\">12</th><td style=\"text-align: center\">0|1</td><td style=\"text-align: center\">./.</td><td style=\"text-align: center\">0/1</td><td style=\"text-align: center\">./.</td><td style=\"text-align: center\">0|1</td><td style=\"text-align: center\">./.</td><td style=\"text-align: center\">0/1</td><td style=\"text-align: center\">./.</td><td style=\"text-align: center\">0|1</td><td style=\"text-align: center\">./.</td><td style=\"text-align: center\">0/1</td><td style=\"text-align: center\">./.</td><td style=\"text-align: center\">0|1</td><td style=\"text-align: center\">./.</td><td style=\"text-align: center\">0/1</td><td style=\"text-align: center\">./.</td><td style=\"text-align: center\">0|1</td><td style=\"text-align: center\">./.</td><td style=\"text-align: center\">0/1</td><td style=\"text-align: center\">./.</td><td style=\"text-align: center\">0|1</td><td style=\"text-align: center\">./.</td><td style=\"text-align: center\">0/1</td><td style=\"text-align: center\">./.</td><td style=\"text-align: center\">0|1</td><td style=\"text-align: center\">./.</td><td style=\"text-align: center\">0/1</td><td style=\"text-align: center\">./.</td><td style=\"text-align: center\">0|1</td><td style=\"text-align: center\">./.</td><td style=\"text-align: center\">0/1</td><td style=\"text-align: center\">./.</td><td style=\"text-align: center\">0|1</td><td style=\"text-align: center\">./.</td><td style=\"text-align: center\">0/1</td><td style=\"text-align: center\">./.</td><td style=\"text-align: center\">0|1</td><td style=\"text-align: center\">./.</td><td style=\"text-align: center\">0/1</td><td style=\"text-align: center\">./.</td></tr><tr><th style=\"text-align: center\">13</th><td style=\"text-align: center\">0|1</td><td style=\"text-align: center\">./.</td><td style=\"text-align: center\">0/1</td><td style=\"text-align: center\">./.</td><td style=\"text-align: center\">0|1</td><td style=\"text-align: center\">./.</td><td style=\"text-align: center\">0/1</td><td style=\"text-align: center\">./.</td><td style=\"text-align: center\">0|1</td><td style=\"text-align: center\">./.</td><td style=\"text-align: center\">0/1</td><td style=\"text-align: center\">./.</td><td style=\"text-align: center\">0|1</td><td style=\"text-align: center\">./.</td><td style=\"text-align: center\">0/1</td><td style=\"text-align: center\">./.</td><td style=\"text-align: center\">0|1</td><td style=\"text-align: center\">./.</td><td style=\"text-align: center\">0/1</td><td style=\"text-align: center\">./.</td><td style=\"text-align: center\">0|1</td><td style=\"text-align: center\">./.</td><td style=\"text-align: center\">0/1</td><td style=\"text-align: center\">./.</td><td style=\"text-align: center\">0|1</td><td style=\"text-align: center\">./.</td><td style=\"text-align: center\">0/1</td><td style=\"text-align: center\">./.</td><td style=\"text-align: center\">0|1</td><td style=\"text-align: center\">./.</td><td style=\"text-align: center\">0/1</td><td style=\"text-align: center\">./.</td><td style=\"text-align: center\">0|1</td><td style=\"text-align: center\">./.</td><td style=\"text-align: center\">0/1</td><td style=\"text-align: center\">./.</td><td style=\"text-align: center\">0|1</td><td style=\"text-align: center\">./.</td><td style=\"text-align: center\">0/1</td><td style=\"text-align: center\">./.</td></tr><tr><th style=\"text-align: center\">14</th><td style=\"text-align: center\">0|1</td><td style=\"text-align: center\">./.</td><td style=\"text-align: center\">0/1</td><td style=\"text-align: center\">./.</td><td style=\"text-align: center\">0|1</td><td style=\"text-align: center\">./.</td><td style=\"text-align: center\">0/1</td><td style=\"text-align: center\">./.</td><td style=\"text-align: center\">0|1</td><td style=\"text-align: center\">./.</td><td style=\"text-align: center\">0/1</td><td style=\"text-align: center\">./.</td><td style=\"text-align: center\">0|1</td><td style=\"text-align: center\">./.</td><td style=\"text-align: center\">0/1</td><td style=\"text-align: center\">./.</td><td style=\"text-align: center\">0|1</td><td style=\"text-align: center\">./.</td><td style=\"text-align: center\">0/1</td><td style=\"text-align: center\">./.</td><td style=\"text-align: center\">0|1</td><td style=\"text-align: center\">./.</td><td style=\"text-align: center\">0/1</td><td style=\"text-align: center\">./.</td><td style=\"text-align: center\">0|1</td><td style=\"text-align: center\">./.</td><td style=\"text-align: center\">0/1</td><td style=\"text-align: center\">./.</td><td style=\"text-align: center\">0|1</td><td style=\"text-align: center\">./.</td><td style=\"text-align: center\">0/1</td><td style=\"text-align: center\">./.</td><td style=\"text-align: center\">0|1</td><td style=\"text-align: center\">./.</td><td style=\"text-align: center\">0/1</td><td style=\"text-align: center\">./.</td><td style=\"text-align: center\">0|1</td><td style=\"text-align: center\">./.</td><td style=\"text-align: center\">0/1</td><td style=\"text-align: center\">./.</td></tr><tr><th style=\"text-align: center\">15</th><td style=\"text-align: center\">0|1</td><td style=\"text-align: center\">./.</td><td style=\"text-align: center\">0/1</td><td style=\"text-align: center\">./.</td><td style=\"text-align: center\">0|1</td><td style=\"text-align: center\">./.</td><td style=\"text-align: center\">0/1</td><td style=\"text-align: center\">./.</td><td style=\"text-align: center\">0|1</td><td style=\"text-align: center\">./.</td><td style=\"text-align: center\">0/1</td><td style=\"text-align: center\">./.</td><td style=\"text-align: center\">0|1</td><td style=\"text-align: center\">./.</td><td style=\"text-align: center\">0/1</td><td style=\"text-align: center\">./.</td><td style=\"text-align: center\">0|1</td><td style=\"text-align: center\">./.</td><td style=\"text-align: center\">0/1</td><td style=\"text-align: center\">./.</td><td style=\"text-align: center\">0|1</td><td style=\"text-align: center\">./.</td><td style=\"text-align: center\">0/1</td><td style=\"text-align: center\">./.</td><td style=\"text-align: center\">0|1</td><td style=\"text-align: center\">./.</td><td style=\"text-align: center\">0/1</td><td style=\"text-align: center\">./.</td><td style=\"text-align: center\">0|1</td><td style=\"text-align: center\">./.</td><td style=\"text-align: center\">0/1</td><td style=\"text-align: center\">./.</td><td style=\"text-align: center\">0|1</td><td style=\"text-align: center\">./.</td><td style=\"text-align: center\">0/1</td><td style=\"text-align: center\">./.</td><td style=\"text-align: center\">0|1</td><td style=\"text-align: center\">./.</td><td style=\"text-align: center\">0/1</td><td style=\"text-align: center\">./.</td></tr><tr><th style=\"text-align: center\">16</th><td style=\"text-align: center\">0|1</td><td style=\"text-align: center\">./.</td><td style=\"text-align: center\">0/1</td><td style=\"text-align: center\">./.</td><td style=\"text-align: center\">0|1</td><td style=\"text-align: center\">./.</td><td style=\"text-align: center\">0/1</td><td style=\"text-align: center\">./.</td><td style=\"text-align: center\">0|1</td><td style=\"text-align: center\">./.</td><td style=\"text-align: center\">0/1</td><td style=\"text-align: center\">./.</td><td style=\"text-align: center\">0|1</td><td style=\"text-align: center\">./.</td><td style=\"text-align: center\">0/1</td><td style=\"text-align: center\">./.</td><td style=\"text-align: center\">0|1</td><td style=\"text-align: center\">./.</td><td style=\"text-align: center\">0/1</td><td style=\"text-align: center\">./.</td><td style=\"text-align: center\">0|1</td><td style=\"text-align: center\">./.</td><td style=\"text-align: center\">0/1</td><td style=\"text-align: center\">./.</td><td style=\"text-align: center\">0|1</td><td style=\"text-align: center\">./.</td><td style=\"text-align: center\">0/1</td><td style=\"text-align: center\">./.</td><td style=\"text-align: center\">0|1</td><td style=\"text-align: center\">./.</td><td style=\"text-align: center\">0/1</td><td style=\"text-align: center\">./.</td><td style=\"text-align: center\">0|1</td><td style=\"text-align: center\">./.</td><td style=\"text-align: center\">0/1</td><td style=\"text-align: center\">./.</td><td style=\"text-align: center\">0|1</td><td style=\"text-align: center\">./.</td><td style=\"text-align: center\">0/1</td><td style=\"text-align: center\">./.</td></tr><tr><th style=\"text-align: center\">17</th><td style=\"text-align: center\">0|1</td><td style=\"text-align: center\">./.</td><td style=\"text-align: center\">0/1</td><td style=\"text-align: center\">./.</td><td style=\"text-align: center\">0|1</td><td style=\"text-align: center\">./.</td><td style=\"text-align: center\">0/1</td><td style=\"text-align: center\">./.</td><td style=\"text-align: center\">0|1</td><td style=\"text-align: center\">./.</td><td style=\"text-align: center\">0/1</td><td style=\"text-align: center\">./.</td><td style=\"text-align: center\">0|1</td><td style=\"text-align: center\">./.</td><td style=\"text-align: center\">0/1</td><td style=\"text-align: center\">./.</td><td style=\"text-align: center\">0|1</td><td style=\"text-align: center\">./.</td><td style=\"text-align: center\">0/1</td><td style=\"text-align: center\">./.</td><td style=\"text-align: center\">0|1</td><td style=\"text-align: center\">./.</td><td style=\"text-align: center\">0/1</td><td style=\"text-align: center\">./.</td><td style=\"text-align: center\">0|1</td><td style=\"text-align: center\">./.</td><td style=\"text-align: center\">0/1</td><td style=\"text-align: center\">./.</td><td style=\"text-align: center\">0|1</td><td style=\"text-align: center\">./.</td><td style=\"text-align: center\">0/1</td><td style=\"text-align: center\">./.</td><td style=\"text-align: center\">0|1</td><td style=\"text-align: center\">./.</td><td style=\"text-align: center\">0/1</td><td style=\"text-align: center\">./.</td><td style=\"text-align: center\">0|1</td><td style=\"text-align: center\">./.</td><td style=\"text-align: center\">0/1</td><td style=\"text-align: center\">./.</td></tr><tr><th style=\"text-align: center\">18</th><td style=\"text-align: center\">0|1</td><td style=\"text-align: center\">./.</td><td style=\"text-align: center\">0/1</td><td style=\"text-align: center\">./.</td><td style=\"text-align: center\">0|1</td><td style=\"text-align: center\">./.</td><td style=\"text-align: center\">0/1</td><td style=\"text-align: center\">./.</td><td style=\"text-align: center\">0|1</td><td style=\"text-align: center\">./.</td><td style=\"text-align: center\">0/1</td><td style=\"text-align: center\">./.</td><td style=\"text-align: center\">0|1</td><td style=\"text-align: center\">./.</td><td style=\"text-align: center\">0/1</td><td style=\"text-align: center\">./.</td><td style=\"text-align: center\">0|1</td><td style=\"text-align: center\">./.</td><td style=\"text-align: center\">0/1</td><td style=\"text-align: center\">./.</td><td style=\"text-align: center\">0|1</td><td style=\"text-align: center\">./.</td><td style=\"text-align: center\">0/1</td><td style=\"text-align: center\">./.</td><td style=\"text-align: center\">0|1</td><td style=\"text-align: center\">./.</td><td style=\"text-align: center\">0/1</td><td style=\"text-align: center\">./.</td><td style=\"text-align: center\">0|1</td><td style=\"text-align: center\">./.</td><td style=\"text-align: center\">0/1</td><td style=\"text-align: center\">./.</td><td style=\"text-align: center\">0|1</td><td style=\"text-align: center\">./.</td><td style=\"text-align: center\">0/1</td><td style=\"text-align: center\">./.</td><td style=\"text-align: center\">0|1</td><td style=\"text-align: center\">./.</td><td style=\"text-align: center\">0/1</td><td style=\"text-align: center\">./.</td></tr><tr><th style=\"text-align: center\">19</th><td style=\"text-align: center\">0|1</td><td style=\"text-align: center\">./.</td><td style=\"text-align: center\">0/1</td><td style=\"text-align: center\">./.</td><td style=\"text-align: center\">0|1</td><td style=\"text-align: center\">./.</td><td style=\"text-align: center\">0/1</td><td style=\"text-align: center\">./.</td><td style=\"text-align: center\">0|1</td><td style=\"text-align: center\">./.</td><td style=\"text-align: center\">0/1</td><td style=\"text-align: center\">./.</td><td style=\"text-align: center\">0|1</td><td style=\"text-align: center\">./.</td><td style=\"text-align: center\">0/1</td><td style=\"text-align: center\">./.</td><td style=\"text-align: center\">0|1</td><td style=\"text-align: center\">./.</td><td style=\"text-align: center\">0/1</td><td style=\"text-align: center\">./.</td><td style=\"text-align: center\">0|1</td><td style=\"text-align: center\">./.</td><td style=\"text-align: center\">0/1</td><td style=\"text-align: center\">./.</td><td style=\"text-align: center\">0|1</td><td style=\"text-align: center\">./.</td><td style=\"text-align: center\">0/1</td><td style=\"text-align: center\">./.</td><td style=\"text-align: center\">0|1</td><td style=\"text-align: center\">./.</td><td style=\"text-align: center\">0/1</td><td style=\"text-align: center\">./.</td><td style=\"text-align: center\">0|1</td><td style=\"text-align: center\">./.</td><td style=\"text-align: center\">0/1</td><td style=\"text-align: center\">./.</td><td style=\"text-align: center\">0|1</td><td style=\"text-align: center\">./.</td><td style=\"text-align: center\">0/1</td><td style=\"text-align: center\">./.</td></tr></table>"
      ]
     },
     "metadata": {},
     "output_type": "display_data"
    }
   ],
   "source": [
    "g.displayall()"
   ]
  },
  {
   "cell_type": "code",
   "execution_count": 21,
   "metadata": {
    "collapsed": false
   },
   "outputs": [
    {
     "data": {
      "text/html": [
       "&lt;GenotypeArray shape=(40, 40, 2) dtype=int64><table><tr><th></th><th style=\"text-align: center\">0</th><th style=\"text-align: center\">1</th><th style=\"text-align: center\">2</th><th style=\"text-align: center\">3</th><th style=\"text-align: center\">4</th><th style=\"text-align: center\"> ... </th><th style=\"text-align: center\">35</th><th style=\"text-align: center\">36</th><th style=\"text-align: center\">37</th><th style=\"text-align: center\">38</th><th style=\"text-align: center\">39</th></tr><tr><th style=\"text-align: center\">0</th><td style=\"text-align: center\">0|1</td><td style=\"text-align: center\">./.</td><td style=\"text-align: center\">0/1</td><td style=\"text-align: center\">./.</td><td style=\"text-align: center\">0|1</td><td style=\"text-align: center\"> ... </td><td style=\"text-align: center\">./.</td><td style=\"text-align: center\">0|1</td><td style=\"text-align: center\">./.</td><td style=\"text-align: center\">0/1</td><td style=\"text-align: center\">./.</td></tr><tr><th style=\"text-align: center\">1</th><td style=\"text-align: center\">0|1</td><td style=\"text-align: center\">./.</td><td style=\"text-align: center\">0/1</td><td style=\"text-align: center\">./.</td><td style=\"text-align: center\">0|1</td><td style=\"text-align: center\"> ... </td><td style=\"text-align: center\">./.</td><td style=\"text-align: center\">0|1</td><td style=\"text-align: center\">./.</td><td style=\"text-align: center\">0/1</td><td style=\"text-align: center\">./.</td></tr><tr><th style=\"text-align: center\">2</th><td style=\"text-align: center\">0|1</td><td style=\"text-align: center\">./.</td><td style=\"text-align: center\">0/1</td><td style=\"text-align: center\">./.</td><td style=\"text-align: center\">0|1</td><td style=\"text-align: center\"> ... </td><td style=\"text-align: center\">./.</td><td style=\"text-align: center\">0|1</td><td style=\"text-align: center\">./.</td><td style=\"text-align: center\">0/1</td><td style=\"text-align: center\">./.</td></tr><tr><th style=\"text-align: center\">...</th><td style=\"text-align: center\" colspan=12>...</td></tr><tr><th style=\"text-align: center\">37</th><td style=\"text-align: center\">0|1</td><td style=\"text-align: center\">./.</td><td style=\"text-align: center\">0/1</td><td style=\"text-align: center\">./.</td><td style=\"text-align: center\">0|1</td><td style=\"text-align: center\"> ... </td><td style=\"text-align: center\">./.</td><td style=\"text-align: center\">0|1</td><td style=\"text-align: center\">./.</td><td style=\"text-align: center\">0/1</td><td style=\"text-align: center\">./.</td></tr><tr><th style=\"text-align: center\">38</th><td style=\"text-align: center\">0|1</td><td style=\"text-align: center\">./.</td><td style=\"text-align: center\">0/1</td><td style=\"text-align: center\">./.</td><td style=\"text-align: center\">0|1</td><td style=\"text-align: center\"> ... </td><td style=\"text-align: center\">./.</td><td style=\"text-align: center\">0|1</td><td style=\"text-align: center\">./.</td><td style=\"text-align: center\">0/1</td><td style=\"text-align: center\">./.</td></tr><tr><th style=\"text-align: center\">39</th><td style=\"text-align: center\">0|1</td><td style=\"text-align: center\">./.</td><td style=\"text-align: center\">0/1</td><td style=\"text-align: center\">./.</td><td style=\"text-align: center\">0|1</td><td style=\"text-align: center\"> ... </td><td style=\"text-align: center\">./.</td><td style=\"text-align: center\">0|1</td><td style=\"text-align: center\">./.</td><td style=\"text-align: center\">0/1</td><td style=\"text-align: center\">./.</td></tr></table>"
      ],
      "text/plain": [
       "<GenotypeArray shape=(40, 40, 2) dtype=int64>\n",
       "0|1 ./. 0/1 ./. 0|1  ...  ./. 0|1 ./. 0/1 ./.\n",
       "0|1 ./. 0/1 ./. 0|1  ...  ./. 0|1 ./. 0/1 ./.\n",
       "0|1 ./. 0/1 ./. 0|1  ...  ./. 0|1 ./. 0/1 ./.\n",
       " ... \n",
       "0|1 ./. 0/1 ./. 0|1  ...  ./. 0|1 ./. 0/1 ./.\n",
       "0|1 ./. 0/1 ./. 0|1  ...  ./. 0|1 ./. 0/1 ./.\n",
       "0|1 ./. 0/1 ./. 0|1  ...  ./. 0|1 ./. 0/1 ./."
      ]
     },
     "execution_count": 21,
     "metadata": {},
     "output_type": "execute_result"
    }
   ],
   "source": [
    "g.concatenate(g)"
   ]
  },
  {
   "cell_type": "code",
   "execution_count": 22,
   "metadata": {
    "collapsed": false
   },
   "outputs": [
    {
     "data": {
      "text/html": [
       "&lt;GenotypeArray shape=(20, 80, 2) dtype=int64><table><tr><th></th><th style=\"text-align: center\">0</th><th style=\"text-align: center\">1</th><th style=\"text-align: center\">2</th><th style=\"text-align: center\">3</th><th style=\"text-align: center\">4</th><th style=\"text-align: center\"> ... </th><th style=\"text-align: center\">75</th><th style=\"text-align: center\">76</th><th style=\"text-align: center\">77</th><th style=\"text-align: center\">78</th><th style=\"text-align: center\">79</th></tr><tr><th style=\"text-align: center\">0</th><td style=\"text-align: center\">0|1</td><td style=\"text-align: center\">./.</td><td style=\"text-align: center\">0/1</td><td style=\"text-align: center\">./.</td><td style=\"text-align: center\">0|1</td><td style=\"text-align: center\"> ... </td><td style=\"text-align: center\">./.</td><td style=\"text-align: center\">0|1</td><td style=\"text-align: center\">./.</td><td style=\"text-align: center\">0/1</td><td style=\"text-align: center\">./.</td></tr><tr><th style=\"text-align: center\">1</th><td style=\"text-align: center\">0|1</td><td style=\"text-align: center\">./.</td><td style=\"text-align: center\">0/1</td><td style=\"text-align: center\">./.</td><td style=\"text-align: center\">0|1</td><td style=\"text-align: center\"> ... </td><td style=\"text-align: center\">./.</td><td style=\"text-align: center\">0|1</td><td style=\"text-align: center\">./.</td><td style=\"text-align: center\">0/1</td><td style=\"text-align: center\">./.</td></tr><tr><th style=\"text-align: center\">2</th><td style=\"text-align: center\">0|1</td><td style=\"text-align: center\">./.</td><td style=\"text-align: center\">0/1</td><td style=\"text-align: center\">./.</td><td style=\"text-align: center\">0|1</td><td style=\"text-align: center\"> ... </td><td style=\"text-align: center\">./.</td><td style=\"text-align: center\">0|1</td><td style=\"text-align: center\">./.</td><td style=\"text-align: center\">0/1</td><td style=\"text-align: center\">./.</td></tr><tr><th style=\"text-align: center\">...</th><td style=\"text-align: center\" colspan=12>...</td></tr><tr><th style=\"text-align: center\">17</th><td style=\"text-align: center\">0|1</td><td style=\"text-align: center\">./.</td><td style=\"text-align: center\">0/1</td><td style=\"text-align: center\">./.</td><td style=\"text-align: center\">0|1</td><td style=\"text-align: center\"> ... </td><td style=\"text-align: center\">./.</td><td style=\"text-align: center\">0|1</td><td style=\"text-align: center\">./.</td><td style=\"text-align: center\">0/1</td><td style=\"text-align: center\">./.</td></tr><tr><th style=\"text-align: center\">18</th><td style=\"text-align: center\">0|1</td><td style=\"text-align: center\">./.</td><td style=\"text-align: center\">0/1</td><td style=\"text-align: center\">./.</td><td style=\"text-align: center\">0|1</td><td style=\"text-align: center\"> ... </td><td style=\"text-align: center\">./.</td><td style=\"text-align: center\">0|1</td><td style=\"text-align: center\">./.</td><td style=\"text-align: center\">0/1</td><td style=\"text-align: center\">./.</td></tr><tr><th style=\"text-align: center\">19</th><td style=\"text-align: center\">0|1</td><td style=\"text-align: center\">./.</td><td style=\"text-align: center\">0/1</td><td style=\"text-align: center\">./.</td><td style=\"text-align: center\">0|1</td><td style=\"text-align: center\"> ... </td><td style=\"text-align: center\">./.</td><td style=\"text-align: center\">0|1</td><td style=\"text-align: center\">./.</td><td style=\"text-align: center\">0/1</td><td style=\"text-align: center\">./.</td></tr></table>"
      ],
      "text/plain": [
       "<GenotypeArray shape=(20, 80, 2) dtype=int64>\n",
       "0|1 ./. 0/1 ./. 0|1  ...  ./. 0|1 ./. 0/1 ./.\n",
       "0|1 ./. 0/1 ./. 0|1  ...  ./. 0|1 ./. 0/1 ./.\n",
       "0|1 ./. 0/1 ./. 0|1  ...  ./. 0|1 ./. 0/1 ./.\n",
       " ... \n",
       "0|1 ./. 0/1 ./. 0|1  ...  ./. 0|1 ./. 0/1 ./.\n",
       "0|1 ./. 0/1 ./. 0|1  ...  ./. 0|1 ./. 0/1 ./.\n",
       "0|1 ./. 0/1 ./. 0|1  ...  ./. 0|1 ./. 0/1 ./."
      ]
     },
     "execution_count": 22,
     "metadata": {},
     "output_type": "execute_result"
    }
   ],
   "source": [
    "g.concatenate(g, axis=1)"
   ]
  },
  {
   "cell_type": "markdown",
   "metadata": {},
   "source": [
    "## HaplotypeArray"
   ]
  },
  {
   "cell_type": "code",
   "execution_count": 23,
   "metadata": {
    "collapsed": true
   },
   "outputs": [],
   "source": [
    "h = g.to_haplotypes()"
   ]
  },
  {
   "cell_type": "code",
   "execution_count": 24,
   "metadata": {
    "collapsed": false
   },
   "outputs": [
    {
     "data": {
      "text/html": [
       "&lt;HaplotypeArray shape=(20, 80) dtype=int64><table><tr><th></th><th style=\"text-align: center\">0</th><th style=\"text-align: center\">1</th><th style=\"text-align: center\">2</th><th style=\"text-align: center\">3</th><th style=\"text-align: center\">4</th><th style=\"text-align: center\"> ... </th><th style=\"text-align: center\">75</th><th style=\"text-align: center\">76</th><th style=\"text-align: center\">77</th><th style=\"text-align: center\">78</th><th style=\"text-align: center\">79</th></tr><tr><th style=\"text-align: center\">0</th><td style=\"text-align: center\">0</td><td style=\"text-align: center\">1</td><td style=\"text-align: center\">.</td><td style=\"text-align: center\">.</td><td style=\"text-align: center\">0</td><td style=\"text-align: center\"> ... </td><td style=\"text-align: center\">.</td><td style=\"text-align: center\">0</td><td style=\"text-align: center\">1</td><td style=\"text-align: center\">.</td><td style=\"text-align: center\">.</td></tr><tr><th style=\"text-align: center\">1</th><td style=\"text-align: center\">0</td><td style=\"text-align: center\">1</td><td style=\"text-align: center\">.</td><td style=\"text-align: center\">.</td><td style=\"text-align: center\">0</td><td style=\"text-align: center\"> ... </td><td style=\"text-align: center\">.</td><td style=\"text-align: center\">0</td><td style=\"text-align: center\">1</td><td style=\"text-align: center\">.</td><td style=\"text-align: center\">.</td></tr><tr><th style=\"text-align: center\">2</th><td style=\"text-align: center\">0</td><td style=\"text-align: center\">1</td><td style=\"text-align: center\">.</td><td style=\"text-align: center\">.</td><td style=\"text-align: center\">0</td><td style=\"text-align: center\"> ... </td><td style=\"text-align: center\">.</td><td style=\"text-align: center\">0</td><td style=\"text-align: center\">1</td><td style=\"text-align: center\">.</td><td style=\"text-align: center\">.</td></tr><tr><th style=\"text-align: center\">...</th><td style=\"text-align: center\" colspan=12>...</td></tr><tr><th style=\"text-align: center\">17</th><td style=\"text-align: center\">0</td><td style=\"text-align: center\">1</td><td style=\"text-align: center\">.</td><td style=\"text-align: center\">.</td><td style=\"text-align: center\">0</td><td style=\"text-align: center\"> ... </td><td style=\"text-align: center\">.</td><td style=\"text-align: center\">0</td><td style=\"text-align: center\">1</td><td style=\"text-align: center\">.</td><td style=\"text-align: center\">.</td></tr><tr><th style=\"text-align: center\">18</th><td style=\"text-align: center\">0</td><td style=\"text-align: center\">1</td><td style=\"text-align: center\">.</td><td style=\"text-align: center\">.</td><td style=\"text-align: center\">0</td><td style=\"text-align: center\"> ... </td><td style=\"text-align: center\">.</td><td style=\"text-align: center\">0</td><td style=\"text-align: center\">1</td><td style=\"text-align: center\">.</td><td style=\"text-align: center\">.</td></tr><tr><th style=\"text-align: center\">19</th><td style=\"text-align: center\">0</td><td style=\"text-align: center\">1</td><td style=\"text-align: center\">.</td><td style=\"text-align: center\">.</td><td style=\"text-align: center\">0</td><td style=\"text-align: center\"> ... </td><td style=\"text-align: center\">.</td><td style=\"text-align: center\">0</td><td style=\"text-align: center\">1</td><td style=\"text-align: center\">.</td><td style=\"text-align: center\">.</td></tr></table>"
      ],
      "text/plain": [
       "<HaplotypeArray shape=(20, 80) dtype=int64>\n",
       "0 1 . . 0  ...  . 0 1 . .\n",
       "0 1 . . 0  ...  . 0 1 . .\n",
       "0 1 . . 0  ...  . 0 1 . .\n",
       " ... \n",
       "0 1 . . 0  ...  . 0 1 . .\n",
       "0 1 . . 0  ...  . 0 1 . .\n",
       "0 1 . . 0  ...  . 0 1 . ."
      ]
     },
     "execution_count": 24,
     "metadata": {},
     "output_type": "execute_result"
    }
   ],
   "source": [
    "h"
   ]
  },
  {
   "cell_type": "code",
   "execution_count": 25,
   "metadata": {
    "collapsed": false
   },
   "outputs": [
    {
     "name": "stdout",
     "output_type": "stream",
     "text": [
      "<HaplotypeArray shape=(20, 80) dtype=int64>\n",
      "0 1 . . 0  ...  . 0 1 . .\n",
      "0 1 . . 0  ...  . 0 1 . .\n",
      "0 1 . . 0  ...  . 0 1 . .\n",
      " ... \n",
      "0 1 . . 0  ...  . 0 1 . .\n",
      "0 1 . . 0  ...  . 0 1 . .\n",
      "0 1 . . 0  ...  . 0 1 . .\n",
      "\n"
     ]
    }
   ],
   "source": [
    "print(repr(h))"
   ]
  },
  {
   "cell_type": "code",
   "execution_count": 26,
   "metadata": {
    "collapsed": false
   },
   "outputs": [
    {
     "name": "stdout",
     "output_type": "stream",
     "text": [
      "0 1 . . 0  ...  . 0 1 . .\n",
      "0 1 . . 0  ...  . 0 1 . .\n",
      "0 1 . . 0  ...  . 0 1 . .\n",
      " ... \n",
      "0 1 . . 0  ...  . 0 1 . .\n",
      "0 1 . . 0  ...  . 0 1 . .\n",
      "0 1 . . 0  ...  . 0 1 . .\n",
      "\n"
     ]
    }
   ],
   "source": [
    "print(h)"
   ]
  },
  {
   "cell_type": "code",
   "execution_count": 27,
   "metadata": {
    "collapsed": false
   },
   "outputs": [
    {
     "data": {
      "text/html": [
       "&lt;HaplotypeArray shape=(20, 80) dtype=int64><table><tr><th></th><th style=\"text-align: center\">0</th><th style=\"text-align: center\">1</th><th style=\"text-align: center\">2</th><th style=\"text-align: center\">3</th><th style=\"text-align: center\">4</th><th style=\"text-align: center\"> ... </th><th style=\"text-align: center\">75</th><th style=\"text-align: center\">76</th><th style=\"text-align: center\">77</th><th style=\"text-align: center\">78</th><th style=\"text-align: center\">79</th></tr><tr><th style=\"text-align: center\">0</th><td style=\"text-align: center\">0</td><td style=\"text-align: center\">1</td><td style=\"text-align: center\">.</td><td style=\"text-align: center\">.</td><td style=\"text-align: center\">0</td><td style=\"text-align: center\"> ... </td><td style=\"text-align: center\">.</td><td style=\"text-align: center\">0</td><td style=\"text-align: center\">1</td><td style=\"text-align: center\">.</td><td style=\"text-align: center\">.</td></tr><tr><th style=\"text-align: center\">1</th><td style=\"text-align: center\">0</td><td style=\"text-align: center\">1</td><td style=\"text-align: center\">.</td><td style=\"text-align: center\">.</td><td style=\"text-align: center\">0</td><td style=\"text-align: center\"> ... </td><td style=\"text-align: center\">.</td><td style=\"text-align: center\">0</td><td style=\"text-align: center\">1</td><td style=\"text-align: center\">.</td><td style=\"text-align: center\">.</td></tr><tr><th style=\"text-align: center\">2</th><td style=\"text-align: center\">0</td><td style=\"text-align: center\">1</td><td style=\"text-align: center\">.</td><td style=\"text-align: center\">.</td><td style=\"text-align: center\">0</td><td style=\"text-align: center\"> ... </td><td style=\"text-align: center\">.</td><td style=\"text-align: center\">0</td><td style=\"text-align: center\">1</td><td style=\"text-align: center\">.</td><td style=\"text-align: center\">.</td></tr><tr><th style=\"text-align: center\">3</th><td style=\"text-align: center\">0</td><td style=\"text-align: center\">1</td><td style=\"text-align: center\">.</td><td style=\"text-align: center\">.</td><td style=\"text-align: center\">0</td><td style=\"text-align: center\"> ... </td><td style=\"text-align: center\">.</td><td style=\"text-align: center\">0</td><td style=\"text-align: center\">1</td><td style=\"text-align: center\">.</td><td style=\"text-align: center\">.</td></tr><tr><th style=\"text-align: center\">4</th><td style=\"text-align: center\">0</td><td style=\"text-align: center\">1</td><td style=\"text-align: center\">.</td><td style=\"text-align: center\">.</td><td style=\"text-align: center\">0</td><td style=\"text-align: center\"> ... </td><td style=\"text-align: center\">.</td><td style=\"text-align: center\">0</td><td style=\"text-align: center\">1</td><td style=\"text-align: center\">.</td><td style=\"text-align: center\">.</td></tr><tr><th style=\"text-align: center\">5</th><td style=\"text-align: center\">0</td><td style=\"text-align: center\">1</td><td style=\"text-align: center\">.</td><td style=\"text-align: center\">.</td><td style=\"text-align: center\">0</td><td style=\"text-align: center\"> ... </td><td style=\"text-align: center\">.</td><td style=\"text-align: center\">0</td><td style=\"text-align: center\">1</td><td style=\"text-align: center\">.</td><td style=\"text-align: center\">.</td></tr><tr><th style=\"text-align: center\">6</th><td style=\"text-align: center\">0</td><td style=\"text-align: center\">1</td><td style=\"text-align: center\">.</td><td style=\"text-align: center\">.</td><td style=\"text-align: center\">0</td><td style=\"text-align: center\"> ... </td><td style=\"text-align: center\">.</td><td style=\"text-align: center\">0</td><td style=\"text-align: center\">1</td><td style=\"text-align: center\">.</td><td style=\"text-align: center\">.</td></tr><tr><th style=\"text-align: center\">7</th><td style=\"text-align: center\">0</td><td style=\"text-align: center\">1</td><td style=\"text-align: center\">.</td><td style=\"text-align: center\">.</td><td style=\"text-align: center\">0</td><td style=\"text-align: center\"> ... </td><td style=\"text-align: center\">.</td><td style=\"text-align: center\">0</td><td style=\"text-align: center\">1</td><td style=\"text-align: center\">.</td><td style=\"text-align: center\">.</td></tr><tr><th style=\"text-align: center\">8</th><td style=\"text-align: center\">0</td><td style=\"text-align: center\">1</td><td style=\"text-align: center\">.</td><td style=\"text-align: center\">.</td><td style=\"text-align: center\">0</td><td style=\"text-align: center\"> ... </td><td style=\"text-align: center\">.</td><td style=\"text-align: center\">0</td><td style=\"text-align: center\">1</td><td style=\"text-align: center\">.</td><td style=\"text-align: center\">.</td></tr><tr><th style=\"text-align: center\">9</th><td style=\"text-align: center\">0</td><td style=\"text-align: center\">1</td><td style=\"text-align: center\">.</td><td style=\"text-align: center\">.</td><td style=\"text-align: center\">0</td><td style=\"text-align: center\"> ... </td><td style=\"text-align: center\">.</td><td style=\"text-align: center\">0</td><td style=\"text-align: center\">1</td><td style=\"text-align: center\">.</td><td style=\"text-align: center\">.</td></tr><tr><th style=\"text-align: center\">10</th><td style=\"text-align: center\">0</td><td style=\"text-align: center\">1</td><td style=\"text-align: center\">.</td><td style=\"text-align: center\">.</td><td style=\"text-align: center\">0</td><td style=\"text-align: center\"> ... </td><td style=\"text-align: center\">.</td><td style=\"text-align: center\">0</td><td style=\"text-align: center\">1</td><td style=\"text-align: center\">.</td><td style=\"text-align: center\">.</td></tr><tr><th style=\"text-align: center\">11</th><td style=\"text-align: center\">0</td><td style=\"text-align: center\">1</td><td style=\"text-align: center\">.</td><td style=\"text-align: center\">.</td><td style=\"text-align: center\">0</td><td style=\"text-align: center\"> ... </td><td style=\"text-align: center\">.</td><td style=\"text-align: center\">0</td><td style=\"text-align: center\">1</td><td style=\"text-align: center\">.</td><td style=\"text-align: center\">.</td></tr><tr><th style=\"text-align: center\">12</th><td style=\"text-align: center\">0</td><td style=\"text-align: center\">1</td><td style=\"text-align: center\">.</td><td style=\"text-align: center\">.</td><td style=\"text-align: center\">0</td><td style=\"text-align: center\"> ... </td><td style=\"text-align: center\">.</td><td style=\"text-align: center\">0</td><td style=\"text-align: center\">1</td><td style=\"text-align: center\">.</td><td style=\"text-align: center\">.</td></tr><tr><th style=\"text-align: center\">13</th><td style=\"text-align: center\">0</td><td style=\"text-align: center\">1</td><td style=\"text-align: center\">.</td><td style=\"text-align: center\">.</td><td style=\"text-align: center\">0</td><td style=\"text-align: center\"> ... </td><td style=\"text-align: center\">.</td><td style=\"text-align: center\">0</td><td style=\"text-align: center\">1</td><td style=\"text-align: center\">.</td><td style=\"text-align: center\">.</td></tr><tr><th style=\"text-align: center\">14</th><td style=\"text-align: center\">0</td><td style=\"text-align: center\">1</td><td style=\"text-align: center\">.</td><td style=\"text-align: center\">.</td><td style=\"text-align: center\">0</td><td style=\"text-align: center\"> ... </td><td style=\"text-align: center\">.</td><td style=\"text-align: center\">0</td><td style=\"text-align: center\">1</td><td style=\"text-align: center\">.</td><td style=\"text-align: center\">.</td></tr><tr><th style=\"text-align: center\">15</th><td style=\"text-align: center\">0</td><td style=\"text-align: center\">1</td><td style=\"text-align: center\">.</td><td style=\"text-align: center\">.</td><td style=\"text-align: center\">0</td><td style=\"text-align: center\"> ... </td><td style=\"text-align: center\">.</td><td style=\"text-align: center\">0</td><td style=\"text-align: center\">1</td><td style=\"text-align: center\">.</td><td style=\"text-align: center\">.</td></tr><tr><th style=\"text-align: center\">16</th><td style=\"text-align: center\">0</td><td style=\"text-align: center\">1</td><td style=\"text-align: center\">.</td><td style=\"text-align: center\">.</td><td style=\"text-align: center\">0</td><td style=\"text-align: center\"> ... </td><td style=\"text-align: center\">.</td><td style=\"text-align: center\">0</td><td style=\"text-align: center\">1</td><td style=\"text-align: center\">.</td><td style=\"text-align: center\">.</td></tr><tr><th style=\"text-align: center\">17</th><td style=\"text-align: center\">0</td><td style=\"text-align: center\">1</td><td style=\"text-align: center\">.</td><td style=\"text-align: center\">.</td><td style=\"text-align: center\">0</td><td style=\"text-align: center\"> ... </td><td style=\"text-align: center\">.</td><td style=\"text-align: center\">0</td><td style=\"text-align: center\">1</td><td style=\"text-align: center\">.</td><td style=\"text-align: center\">.</td></tr><tr><th style=\"text-align: center\">18</th><td style=\"text-align: center\">0</td><td style=\"text-align: center\">1</td><td style=\"text-align: center\">.</td><td style=\"text-align: center\">.</td><td style=\"text-align: center\">0</td><td style=\"text-align: center\"> ... </td><td style=\"text-align: center\">.</td><td style=\"text-align: center\">0</td><td style=\"text-align: center\">1</td><td style=\"text-align: center\">.</td><td style=\"text-align: center\">.</td></tr><tr><th style=\"text-align: center\">19</th><td style=\"text-align: center\">0</td><td style=\"text-align: center\">1</td><td style=\"text-align: center\">.</td><td style=\"text-align: center\">.</td><td style=\"text-align: center\">0</td><td style=\"text-align: center\"> ... </td><td style=\"text-align: center\">.</td><td style=\"text-align: center\">0</td><td style=\"text-align: center\">1</td><td style=\"text-align: center\">.</td><td style=\"text-align: center\">.</td></tr></table>"
      ]
     },
     "metadata": {},
     "output_type": "display_data"
    }
   ],
   "source": [
    "h.display(20, 40)"
   ]
  },
  {
   "cell_type": "code",
   "execution_count": 28,
   "metadata": {
    "collapsed": false
   },
   "outputs": [
    {
     "data": {
      "text/html": [
       "&lt;HaplotypeArray shape=(20, 80) dtype=int64><table><tr><th></th><th style=\"text-align: center\">0</th><th style=\"text-align: center\">1</th><th style=\"text-align: center\">2</th><th style=\"text-align: center\">3</th><th style=\"text-align: center\">4</th><th style=\"text-align: center\">5</th><th style=\"text-align: center\">6</th><th style=\"text-align: center\">7</th><th style=\"text-align: center\">8</th><th style=\"text-align: center\">9</th><th style=\"text-align: center\">10</th><th style=\"text-align: center\">11</th><th style=\"text-align: center\">12</th><th style=\"text-align: center\">13</th><th style=\"text-align: center\">14</th><th style=\"text-align: center\">15</th><th style=\"text-align: center\">16</th><th style=\"text-align: center\">17</th><th style=\"text-align: center\">18</th><th style=\"text-align: center\">19</th><th style=\"text-align: center\">20</th><th style=\"text-align: center\">21</th><th style=\"text-align: center\">22</th><th style=\"text-align: center\">23</th><th style=\"text-align: center\">24</th><th style=\"text-align: center\">25</th><th style=\"text-align: center\">26</th><th style=\"text-align: center\">27</th><th style=\"text-align: center\">28</th><th style=\"text-align: center\">29</th><th style=\"text-align: center\">30</th><th style=\"text-align: center\">31</th><th style=\"text-align: center\">32</th><th style=\"text-align: center\">33</th><th style=\"text-align: center\">34</th><th style=\"text-align: center\">35</th><th style=\"text-align: center\">36</th><th style=\"text-align: center\">37</th><th style=\"text-align: center\">38</th><th style=\"text-align: center\">39</th><th style=\"text-align: center\">40</th><th style=\"text-align: center\">41</th><th style=\"text-align: center\">42</th><th style=\"text-align: center\">43</th><th style=\"text-align: center\">44</th><th style=\"text-align: center\">45</th><th style=\"text-align: center\">46</th><th style=\"text-align: center\">47</th><th style=\"text-align: center\">48</th><th style=\"text-align: center\">49</th><th style=\"text-align: center\">50</th><th style=\"text-align: center\">51</th><th style=\"text-align: center\">52</th><th style=\"text-align: center\">53</th><th style=\"text-align: center\">54</th><th style=\"text-align: center\">55</th><th style=\"text-align: center\">56</th><th style=\"text-align: center\">57</th><th style=\"text-align: center\">58</th><th style=\"text-align: center\">59</th><th style=\"text-align: center\">60</th><th style=\"text-align: center\">61</th><th style=\"text-align: center\">62</th><th style=\"text-align: center\">63</th><th style=\"text-align: center\">64</th><th style=\"text-align: center\">65</th><th style=\"text-align: center\">66</th><th style=\"text-align: center\">67</th><th style=\"text-align: center\">68</th><th style=\"text-align: center\">69</th><th style=\"text-align: center\">70</th><th style=\"text-align: center\">71</th><th style=\"text-align: center\">72</th><th style=\"text-align: center\">73</th><th style=\"text-align: center\">74</th><th style=\"text-align: center\">75</th><th style=\"text-align: center\">76</th><th style=\"text-align: center\">77</th><th style=\"text-align: center\">78</th><th style=\"text-align: center\">79</th></tr><tr><th style=\"text-align: center\">0</th><td style=\"text-align: center\">0</td><td style=\"text-align: center\">1</td><td style=\"text-align: center\">.</td><td style=\"text-align: center\">.</td><td style=\"text-align: center\">0</td><td style=\"text-align: center\">1</td><td style=\"text-align: center\">.</td><td style=\"text-align: center\">.</td><td style=\"text-align: center\">0</td><td style=\"text-align: center\">1</td><td style=\"text-align: center\">.</td><td style=\"text-align: center\">.</td><td style=\"text-align: center\">0</td><td style=\"text-align: center\">1</td><td style=\"text-align: center\">.</td><td style=\"text-align: center\">.</td><td style=\"text-align: center\">0</td><td style=\"text-align: center\">1</td><td style=\"text-align: center\">.</td><td style=\"text-align: center\">.</td><td style=\"text-align: center\">0</td><td style=\"text-align: center\">1</td><td style=\"text-align: center\">.</td><td style=\"text-align: center\">.</td><td style=\"text-align: center\">0</td><td style=\"text-align: center\">1</td><td style=\"text-align: center\">.</td><td style=\"text-align: center\">.</td><td style=\"text-align: center\">0</td><td style=\"text-align: center\">1</td><td style=\"text-align: center\">.</td><td style=\"text-align: center\">.</td><td style=\"text-align: center\">0</td><td style=\"text-align: center\">1</td><td style=\"text-align: center\">.</td><td style=\"text-align: center\">.</td><td style=\"text-align: center\">0</td><td style=\"text-align: center\">1</td><td style=\"text-align: center\">.</td><td style=\"text-align: center\">.</td><td style=\"text-align: center\">0</td><td style=\"text-align: center\">1</td><td style=\"text-align: center\">.</td><td style=\"text-align: center\">.</td><td style=\"text-align: center\">0</td><td style=\"text-align: center\">1</td><td style=\"text-align: center\">.</td><td style=\"text-align: center\">.</td><td style=\"text-align: center\">0</td><td style=\"text-align: center\">1</td><td style=\"text-align: center\">.</td><td style=\"text-align: center\">.</td><td style=\"text-align: center\">0</td><td style=\"text-align: center\">1</td><td style=\"text-align: center\">.</td><td style=\"text-align: center\">.</td><td style=\"text-align: center\">0</td><td style=\"text-align: center\">1</td><td style=\"text-align: center\">.</td><td style=\"text-align: center\">.</td><td style=\"text-align: center\">0</td><td style=\"text-align: center\">1</td><td style=\"text-align: center\">.</td><td style=\"text-align: center\">.</td><td style=\"text-align: center\">0</td><td style=\"text-align: center\">1</td><td style=\"text-align: center\">.</td><td style=\"text-align: center\">.</td><td style=\"text-align: center\">0</td><td style=\"text-align: center\">1</td><td style=\"text-align: center\">.</td><td style=\"text-align: center\">.</td><td style=\"text-align: center\">0</td><td style=\"text-align: center\">1</td><td style=\"text-align: center\">.</td><td style=\"text-align: center\">.</td><td style=\"text-align: center\">0</td><td style=\"text-align: center\">1</td><td style=\"text-align: center\">.</td><td style=\"text-align: center\">.</td></tr><tr><th style=\"text-align: center\">1</th><td style=\"text-align: center\">0</td><td style=\"text-align: center\">1</td><td style=\"text-align: center\">.</td><td style=\"text-align: center\">.</td><td style=\"text-align: center\">0</td><td style=\"text-align: center\">1</td><td style=\"text-align: center\">.</td><td style=\"text-align: center\">.</td><td style=\"text-align: center\">0</td><td style=\"text-align: center\">1</td><td style=\"text-align: center\">.</td><td style=\"text-align: center\">.</td><td style=\"text-align: center\">0</td><td style=\"text-align: center\">1</td><td style=\"text-align: center\">.</td><td style=\"text-align: center\">.</td><td style=\"text-align: center\">0</td><td style=\"text-align: center\">1</td><td style=\"text-align: center\">.</td><td style=\"text-align: center\">.</td><td style=\"text-align: center\">0</td><td style=\"text-align: center\">1</td><td style=\"text-align: center\">.</td><td style=\"text-align: center\">.</td><td style=\"text-align: center\">0</td><td style=\"text-align: center\">1</td><td style=\"text-align: center\">.</td><td style=\"text-align: center\">.</td><td style=\"text-align: center\">0</td><td style=\"text-align: center\">1</td><td style=\"text-align: center\">.</td><td style=\"text-align: center\">.</td><td style=\"text-align: center\">0</td><td style=\"text-align: center\">1</td><td style=\"text-align: center\">.</td><td style=\"text-align: center\">.</td><td style=\"text-align: center\">0</td><td style=\"text-align: center\">1</td><td style=\"text-align: center\">.</td><td style=\"text-align: center\">.</td><td style=\"text-align: center\">0</td><td style=\"text-align: center\">1</td><td style=\"text-align: center\">.</td><td style=\"text-align: center\">.</td><td style=\"text-align: center\">0</td><td style=\"text-align: center\">1</td><td style=\"text-align: center\">.</td><td style=\"text-align: center\">.</td><td style=\"text-align: center\">0</td><td style=\"text-align: center\">1</td><td style=\"text-align: center\">.</td><td style=\"text-align: center\">.</td><td style=\"text-align: center\">0</td><td style=\"text-align: center\">1</td><td style=\"text-align: center\">.</td><td style=\"text-align: center\">.</td><td style=\"text-align: center\">0</td><td style=\"text-align: center\">1</td><td style=\"text-align: center\">.</td><td style=\"text-align: center\">.</td><td style=\"text-align: center\">0</td><td style=\"text-align: center\">1</td><td style=\"text-align: center\">.</td><td style=\"text-align: center\">.</td><td style=\"text-align: center\">0</td><td style=\"text-align: center\">1</td><td style=\"text-align: center\">.</td><td style=\"text-align: center\">.</td><td style=\"text-align: center\">0</td><td style=\"text-align: center\">1</td><td style=\"text-align: center\">.</td><td style=\"text-align: center\">.</td><td style=\"text-align: center\">0</td><td style=\"text-align: center\">1</td><td style=\"text-align: center\">.</td><td style=\"text-align: center\">.</td><td style=\"text-align: center\">0</td><td style=\"text-align: center\">1</td><td style=\"text-align: center\">.</td><td style=\"text-align: center\">.</td></tr><tr><th style=\"text-align: center\">2</th><td style=\"text-align: center\">0</td><td style=\"text-align: center\">1</td><td style=\"text-align: center\">.</td><td style=\"text-align: center\">.</td><td style=\"text-align: center\">0</td><td style=\"text-align: center\">1</td><td style=\"text-align: center\">.</td><td style=\"text-align: center\">.</td><td style=\"text-align: center\">0</td><td style=\"text-align: center\">1</td><td style=\"text-align: center\">.</td><td style=\"text-align: center\">.</td><td style=\"text-align: center\">0</td><td style=\"text-align: center\">1</td><td style=\"text-align: center\">.</td><td style=\"text-align: center\">.</td><td style=\"text-align: center\">0</td><td style=\"text-align: center\">1</td><td style=\"text-align: center\">.</td><td style=\"text-align: center\">.</td><td style=\"text-align: center\">0</td><td style=\"text-align: center\">1</td><td style=\"text-align: center\">.</td><td style=\"text-align: center\">.</td><td style=\"text-align: center\">0</td><td style=\"text-align: center\">1</td><td style=\"text-align: center\">.</td><td style=\"text-align: center\">.</td><td style=\"text-align: center\">0</td><td style=\"text-align: center\">1</td><td style=\"text-align: center\">.</td><td style=\"text-align: center\">.</td><td style=\"text-align: center\">0</td><td style=\"text-align: center\">1</td><td style=\"text-align: center\">.</td><td style=\"text-align: center\">.</td><td style=\"text-align: center\">0</td><td style=\"text-align: center\">1</td><td style=\"text-align: center\">.</td><td style=\"text-align: center\">.</td><td style=\"text-align: center\">0</td><td style=\"text-align: center\">1</td><td style=\"text-align: center\">.</td><td style=\"text-align: center\">.</td><td style=\"text-align: center\">0</td><td style=\"text-align: center\">1</td><td style=\"text-align: center\">.</td><td style=\"text-align: center\">.</td><td style=\"text-align: center\">0</td><td style=\"text-align: center\">1</td><td style=\"text-align: center\">.</td><td style=\"text-align: center\">.</td><td style=\"text-align: center\">0</td><td style=\"text-align: center\">1</td><td style=\"text-align: center\">.</td><td style=\"text-align: center\">.</td><td style=\"text-align: center\">0</td><td style=\"text-align: center\">1</td><td style=\"text-align: center\">.</td><td style=\"text-align: center\">.</td><td style=\"text-align: center\">0</td><td style=\"text-align: center\">1</td><td style=\"text-align: center\">.</td><td style=\"text-align: center\">.</td><td style=\"text-align: center\">0</td><td style=\"text-align: center\">1</td><td style=\"text-align: center\">.</td><td style=\"text-align: center\">.</td><td style=\"text-align: center\">0</td><td style=\"text-align: center\">1</td><td style=\"text-align: center\">.</td><td style=\"text-align: center\">.</td><td style=\"text-align: center\">0</td><td style=\"text-align: center\">1</td><td style=\"text-align: center\">.</td><td style=\"text-align: center\">.</td><td style=\"text-align: center\">0</td><td style=\"text-align: center\">1</td><td style=\"text-align: center\">.</td><td style=\"text-align: center\">.</td></tr><tr><th style=\"text-align: center\">3</th><td style=\"text-align: center\">0</td><td style=\"text-align: center\">1</td><td style=\"text-align: center\">.</td><td style=\"text-align: center\">.</td><td style=\"text-align: center\">0</td><td style=\"text-align: center\">1</td><td style=\"text-align: center\">.</td><td style=\"text-align: center\">.</td><td style=\"text-align: center\">0</td><td style=\"text-align: center\">1</td><td style=\"text-align: center\">.</td><td style=\"text-align: center\">.</td><td style=\"text-align: center\">0</td><td style=\"text-align: center\">1</td><td style=\"text-align: center\">.</td><td style=\"text-align: center\">.</td><td style=\"text-align: center\">0</td><td style=\"text-align: center\">1</td><td style=\"text-align: center\">.</td><td style=\"text-align: center\">.</td><td style=\"text-align: center\">0</td><td style=\"text-align: center\">1</td><td style=\"text-align: center\">.</td><td style=\"text-align: center\">.</td><td style=\"text-align: center\">0</td><td style=\"text-align: center\">1</td><td style=\"text-align: center\">.</td><td style=\"text-align: center\">.</td><td style=\"text-align: center\">0</td><td style=\"text-align: center\">1</td><td style=\"text-align: center\">.</td><td style=\"text-align: center\">.</td><td style=\"text-align: center\">0</td><td style=\"text-align: center\">1</td><td style=\"text-align: center\">.</td><td style=\"text-align: center\">.</td><td style=\"text-align: center\">0</td><td style=\"text-align: center\">1</td><td style=\"text-align: center\">.</td><td style=\"text-align: center\">.</td><td style=\"text-align: center\">0</td><td style=\"text-align: center\">1</td><td style=\"text-align: center\">.</td><td style=\"text-align: center\">.</td><td style=\"text-align: center\">0</td><td style=\"text-align: center\">1</td><td style=\"text-align: center\">.</td><td style=\"text-align: center\">.</td><td style=\"text-align: center\">0</td><td style=\"text-align: center\">1</td><td style=\"text-align: center\">.</td><td style=\"text-align: center\">.</td><td style=\"text-align: center\">0</td><td style=\"text-align: center\">1</td><td style=\"text-align: center\">.</td><td style=\"text-align: center\">.</td><td style=\"text-align: center\">0</td><td style=\"text-align: center\">1</td><td style=\"text-align: center\">.</td><td style=\"text-align: center\">.</td><td style=\"text-align: center\">0</td><td style=\"text-align: center\">1</td><td style=\"text-align: center\">.</td><td style=\"text-align: center\">.</td><td style=\"text-align: center\">0</td><td style=\"text-align: center\">1</td><td style=\"text-align: center\">.</td><td style=\"text-align: center\">.</td><td style=\"text-align: center\">0</td><td style=\"text-align: center\">1</td><td style=\"text-align: center\">.</td><td style=\"text-align: center\">.</td><td style=\"text-align: center\">0</td><td style=\"text-align: center\">1</td><td style=\"text-align: center\">.</td><td style=\"text-align: center\">.</td><td style=\"text-align: center\">0</td><td style=\"text-align: center\">1</td><td style=\"text-align: center\">.</td><td style=\"text-align: center\">.</td></tr><tr><th style=\"text-align: center\">4</th><td style=\"text-align: center\">0</td><td style=\"text-align: center\">1</td><td style=\"text-align: center\">.</td><td style=\"text-align: center\">.</td><td style=\"text-align: center\">0</td><td style=\"text-align: center\">1</td><td style=\"text-align: center\">.</td><td style=\"text-align: center\">.</td><td style=\"text-align: center\">0</td><td style=\"text-align: center\">1</td><td style=\"text-align: center\">.</td><td style=\"text-align: center\">.</td><td style=\"text-align: center\">0</td><td style=\"text-align: center\">1</td><td style=\"text-align: center\">.</td><td style=\"text-align: center\">.</td><td style=\"text-align: center\">0</td><td style=\"text-align: center\">1</td><td style=\"text-align: center\">.</td><td style=\"text-align: center\">.</td><td style=\"text-align: center\">0</td><td style=\"text-align: center\">1</td><td style=\"text-align: center\">.</td><td style=\"text-align: center\">.</td><td style=\"text-align: center\">0</td><td style=\"text-align: center\">1</td><td style=\"text-align: center\">.</td><td style=\"text-align: center\">.</td><td style=\"text-align: center\">0</td><td style=\"text-align: center\">1</td><td style=\"text-align: center\">.</td><td style=\"text-align: center\">.</td><td style=\"text-align: center\">0</td><td style=\"text-align: center\">1</td><td style=\"text-align: center\">.</td><td style=\"text-align: center\">.</td><td style=\"text-align: center\">0</td><td style=\"text-align: center\">1</td><td style=\"text-align: center\">.</td><td style=\"text-align: center\">.</td><td style=\"text-align: center\">0</td><td style=\"text-align: center\">1</td><td style=\"text-align: center\">.</td><td style=\"text-align: center\">.</td><td style=\"text-align: center\">0</td><td style=\"text-align: center\">1</td><td style=\"text-align: center\">.</td><td style=\"text-align: center\">.</td><td style=\"text-align: center\">0</td><td style=\"text-align: center\">1</td><td style=\"text-align: center\">.</td><td style=\"text-align: center\">.</td><td style=\"text-align: center\">0</td><td style=\"text-align: center\">1</td><td style=\"text-align: center\">.</td><td style=\"text-align: center\">.</td><td style=\"text-align: center\">0</td><td style=\"text-align: center\">1</td><td style=\"text-align: center\">.</td><td style=\"text-align: center\">.</td><td style=\"text-align: center\">0</td><td style=\"text-align: center\">1</td><td style=\"text-align: center\">.</td><td style=\"text-align: center\">.</td><td style=\"text-align: center\">0</td><td style=\"text-align: center\">1</td><td style=\"text-align: center\">.</td><td style=\"text-align: center\">.</td><td style=\"text-align: center\">0</td><td style=\"text-align: center\">1</td><td style=\"text-align: center\">.</td><td style=\"text-align: center\">.</td><td style=\"text-align: center\">0</td><td style=\"text-align: center\">1</td><td style=\"text-align: center\">.</td><td style=\"text-align: center\">.</td><td style=\"text-align: center\">0</td><td style=\"text-align: center\">1</td><td style=\"text-align: center\">.</td><td style=\"text-align: center\">.</td></tr><tr><th style=\"text-align: center\">5</th><td style=\"text-align: center\">0</td><td style=\"text-align: center\">1</td><td style=\"text-align: center\">.</td><td style=\"text-align: center\">.</td><td style=\"text-align: center\">0</td><td style=\"text-align: center\">1</td><td style=\"text-align: center\">.</td><td style=\"text-align: center\">.</td><td style=\"text-align: center\">0</td><td style=\"text-align: center\">1</td><td style=\"text-align: center\">.</td><td style=\"text-align: center\">.</td><td style=\"text-align: center\">0</td><td style=\"text-align: center\">1</td><td style=\"text-align: center\">.</td><td style=\"text-align: center\">.</td><td style=\"text-align: center\">0</td><td style=\"text-align: center\">1</td><td style=\"text-align: center\">.</td><td style=\"text-align: center\">.</td><td style=\"text-align: center\">0</td><td style=\"text-align: center\">1</td><td style=\"text-align: center\">.</td><td style=\"text-align: center\">.</td><td style=\"text-align: center\">0</td><td style=\"text-align: center\">1</td><td style=\"text-align: center\">.</td><td style=\"text-align: center\">.</td><td style=\"text-align: center\">0</td><td style=\"text-align: center\">1</td><td style=\"text-align: center\">.</td><td style=\"text-align: center\">.</td><td style=\"text-align: center\">0</td><td style=\"text-align: center\">1</td><td style=\"text-align: center\">.</td><td style=\"text-align: center\">.</td><td style=\"text-align: center\">0</td><td style=\"text-align: center\">1</td><td style=\"text-align: center\">.</td><td style=\"text-align: center\">.</td><td style=\"text-align: center\">0</td><td style=\"text-align: center\">1</td><td style=\"text-align: center\">.</td><td style=\"text-align: center\">.</td><td style=\"text-align: center\">0</td><td style=\"text-align: center\">1</td><td style=\"text-align: center\">.</td><td style=\"text-align: center\">.</td><td style=\"text-align: center\">0</td><td style=\"text-align: center\">1</td><td style=\"text-align: center\">.</td><td style=\"text-align: center\">.</td><td style=\"text-align: center\">0</td><td style=\"text-align: center\">1</td><td style=\"text-align: center\">.</td><td style=\"text-align: center\">.</td><td style=\"text-align: center\">0</td><td style=\"text-align: center\">1</td><td style=\"text-align: center\">.</td><td style=\"text-align: center\">.</td><td style=\"text-align: center\">0</td><td style=\"text-align: center\">1</td><td style=\"text-align: center\">.</td><td style=\"text-align: center\">.</td><td style=\"text-align: center\">0</td><td style=\"text-align: center\">1</td><td style=\"text-align: center\">.</td><td style=\"text-align: center\">.</td><td style=\"text-align: center\">0</td><td style=\"text-align: center\">1</td><td style=\"text-align: center\">.</td><td style=\"text-align: center\">.</td><td style=\"text-align: center\">0</td><td style=\"text-align: center\">1</td><td style=\"text-align: center\">.</td><td style=\"text-align: center\">.</td><td style=\"text-align: center\">0</td><td style=\"text-align: center\">1</td><td style=\"text-align: center\">.</td><td style=\"text-align: center\">.</td></tr><tr><th style=\"text-align: center\">6</th><td style=\"text-align: center\">0</td><td style=\"text-align: center\">1</td><td style=\"text-align: center\">.</td><td style=\"text-align: center\">.</td><td style=\"text-align: center\">0</td><td style=\"text-align: center\">1</td><td style=\"text-align: center\">.</td><td style=\"text-align: center\">.</td><td style=\"text-align: center\">0</td><td style=\"text-align: center\">1</td><td style=\"text-align: center\">.</td><td style=\"text-align: center\">.</td><td style=\"text-align: center\">0</td><td style=\"text-align: center\">1</td><td style=\"text-align: center\">.</td><td style=\"text-align: center\">.</td><td style=\"text-align: center\">0</td><td style=\"text-align: center\">1</td><td style=\"text-align: center\">.</td><td style=\"text-align: center\">.</td><td style=\"text-align: center\">0</td><td style=\"text-align: center\">1</td><td style=\"text-align: center\">.</td><td style=\"text-align: center\">.</td><td style=\"text-align: center\">0</td><td style=\"text-align: center\">1</td><td style=\"text-align: center\">.</td><td style=\"text-align: center\">.</td><td style=\"text-align: center\">0</td><td style=\"text-align: center\">1</td><td style=\"text-align: center\">.</td><td style=\"text-align: center\">.</td><td style=\"text-align: center\">0</td><td style=\"text-align: center\">1</td><td style=\"text-align: center\">.</td><td style=\"text-align: center\">.</td><td style=\"text-align: center\">0</td><td style=\"text-align: center\">1</td><td style=\"text-align: center\">.</td><td style=\"text-align: center\">.</td><td style=\"text-align: center\">0</td><td style=\"text-align: center\">1</td><td style=\"text-align: center\">.</td><td style=\"text-align: center\">.</td><td style=\"text-align: center\">0</td><td style=\"text-align: center\">1</td><td style=\"text-align: center\">.</td><td style=\"text-align: center\">.</td><td style=\"text-align: center\">0</td><td style=\"text-align: center\">1</td><td style=\"text-align: center\">.</td><td style=\"text-align: center\">.</td><td style=\"text-align: center\">0</td><td style=\"text-align: center\">1</td><td style=\"text-align: center\">.</td><td style=\"text-align: center\">.</td><td style=\"text-align: center\">0</td><td style=\"text-align: center\">1</td><td style=\"text-align: center\">.</td><td style=\"text-align: center\">.</td><td style=\"text-align: center\">0</td><td style=\"text-align: center\">1</td><td style=\"text-align: center\">.</td><td style=\"text-align: center\">.</td><td style=\"text-align: center\">0</td><td style=\"text-align: center\">1</td><td style=\"text-align: center\">.</td><td style=\"text-align: center\">.</td><td style=\"text-align: center\">0</td><td style=\"text-align: center\">1</td><td style=\"text-align: center\">.</td><td style=\"text-align: center\">.</td><td style=\"text-align: center\">0</td><td style=\"text-align: center\">1</td><td style=\"text-align: center\">.</td><td style=\"text-align: center\">.</td><td style=\"text-align: center\">0</td><td style=\"text-align: center\">1</td><td style=\"text-align: center\">.</td><td style=\"text-align: center\">.</td></tr><tr><th style=\"text-align: center\">7</th><td style=\"text-align: center\">0</td><td style=\"text-align: center\">1</td><td style=\"text-align: center\">.</td><td style=\"text-align: center\">.</td><td style=\"text-align: center\">0</td><td style=\"text-align: center\">1</td><td style=\"text-align: center\">.</td><td style=\"text-align: center\">.</td><td style=\"text-align: center\">0</td><td style=\"text-align: center\">1</td><td style=\"text-align: center\">.</td><td style=\"text-align: center\">.</td><td style=\"text-align: center\">0</td><td style=\"text-align: center\">1</td><td style=\"text-align: center\">.</td><td style=\"text-align: center\">.</td><td style=\"text-align: center\">0</td><td style=\"text-align: center\">1</td><td style=\"text-align: center\">.</td><td style=\"text-align: center\">.</td><td style=\"text-align: center\">0</td><td style=\"text-align: center\">1</td><td style=\"text-align: center\">.</td><td style=\"text-align: center\">.</td><td style=\"text-align: center\">0</td><td style=\"text-align: center\">1</td><td style=\"text-align: center\">.</td><td style=\"text-align: center\">.</td><td style=\"text-align: center\">0</td><td style=\"text-align: center\">1</td><td style=\"text-align: center\">.</td><td style=\"text-align: center\">.</td><td style=\"text-align: center\">0</td><td style=\"text-align: center\">1</td><td style=\"text-align: center\">.</td><td style=\"text-align: center\">.</td><td style=\"text-align: center\">0</td><td style=\"text-align: center\">1</td><td style=\"text-align: center\">.</td><td style=\"text-align: center\">.</td><td style=\"text-align: center\">0</td><td style=\"text-align: center\">1</td><td style=\"text-align: center\">.</td><td style=\"text-align: center\">.</td><td style=\"text-align: center\">0</td><td style=\"text-align: center\">1</td><td style=\"text-align: center\">.</td><td style=\"text-align: center\">.</td><td style=\"text-align: center\">0</td><td style=\"text-align: center\">1</td><td style=\"text-align: center\">.</td><td style=\"text-align: center\">.</td><td style=\"text-align: center\">0</td><td style=\"text-align: center\">1</td><td style=\"text-align: center\">.</td><td style=\"text-align: center\">.</td><td style=\"text-align: center\">0</td><td style=\"text-align: center\">1</td><td style=\"text-align: center\">.</td><td style=\"text-align: center\">.</td><td style=\"text-align: center\">0</td><td style=\"text-align: center\">1</td><td style=\"text-align: center\">.</td><td style=\"text-align: center\">.</td><td style=\"text-align: center\">0</td><td style=\"text-align: center\">1</td><td style=\"text-align: center\">.</td><td style=\"text-align: center\">.</td><td style=\"text-align: center\">0</td><td style=\"text-align: center\">1</td><td style=\"text-align: center\">.</td><td style=\"text-align: center\">.</td><td style=\"text-align: center\">0</td><td style=\"text-align: center\">1</td><td style=\"text-align: center\">.</td><td style=\"text-align: center\">.</td><td style=\"text-align: center\">0</td><td style=\"text-align: center\">1</td><td style=\"text-align: center\">.</td><td style=\"text-align: center\">.</td></tr><tr><th style=\"text-align: center\">8</th><td style=\"text-align: center\">0</td><td style=\"text-align: center\">1</td><td style=\"text-align: center\">.</td><td style=\"text-align: center\">.</td><td style=\"text-align: center\">0</td><td style=\"text-align: center\">1</td><td style=\"text-align: center\">.</td><td style=\"text-align: center\">.</td><td style=\"text-align: center\">0</td><td style=\"text-align: center\">1</td><td style=\"text-align: center\">.</td><td style=\"text-align: center\">.</td><td style=\"text-align: center\">0</td><td style=\"text-align: center\">1</td><td style=\"text-align: center\">.</td><td style=\"text-align: center\">.</td><td style=\"text-align: center\">0</td><td style=\"text-align: center\">1</td><td style=\"text-align: center\">.</td><td style=\"text-align: center\">.</td><td style=\"text-align: center\">0</td><td style=\"text-align: center\">1</td><td style=\"text-align: center\">.</td><td style=\"text-align: center\">.</td><td style=\"text-align: center\">0</td><td style=\"text-align: center\">1</td><td style=\"text-align: center\">.</td><td style=\"text-align: center\">.</td><td style=\"text-align: center\">0</td><td style=\"text-align: center\">1</td><td style=\"text-align: center\">.</td><td style=\"text-align: center\">.</td><td style=\"text-align: center\">0</td><td style=\"text-align: center\">1</td><td style=\"text-align: center\">.</td><td style=\"text-align: center\">.</td><td style=\"text-align: center\">0</td><td style=\"text-align: center\">1</td><td style=\"text-align: center\">.</td><td style=\"text-align: center\">.</td><td style=\"text-align: center\">0</td><td style=\"text-align: center\">1</td><td style=\"text-align: center\">.</td><td style=\"text-align: center\">.</td><td style=\"text-align: center\">0</td><td style=\"text-align: center\">1</td><td style=\"text-align: center\">.</td><td style=\"text-align: center\">.</td><td style=\"text-align: center\">0</td><td style=\"text-align: center\">1</td><td style=\"text-align: center\">.</td><td style=\"text-align: center\">.</td><td style=\"text-align: center\">0</td><td style=\"text-align: center\">1</td><td style=\"text-align: center\">.</td><td style=\"text-align: center\">.</td><td style=\"text-align: center\">0</td><td style=\"text-align: center\">1</td><td style=\"text-align: center\">.</td><td style=\"text-align: center\">.</td><td style=\"text-align: center\">0</td><td style=\"text-align: center\">1</td><td style=\"text-align: center\">.</td><td style=\"text-align: center\">.</td><td style=\"text-align: center\">0</td><td style=\"text-align: center\">1</td><td style=\"text-align: center\">.</td><td style=\"text-align: center\">.</td><td style=\"text-align: center\">0</td><td style=\"text-align: center\">1</td><td style=\"text-align: center\">.</td><td style=\"text-align: center\">.</td><td style=\"text-align: center\">0</td><td style=\"text-align: center\">1</td><td style=\"text-align: center\">.</td><td style=\"text-align: center\">.</td><td style=\"text-align: center\">0</td><td style=\"text-align: center\">1</td><td style=\"text-align: center\">.</td><td style=\"text-align: center\">.</td></tr><tr><th style=\"text-align: center\">9</th><td style=\"text-align: center\">0</td><td style=\"text-align: center\">1</td><td style=\"text-align: center\">.</td><td style=\"text-align: center\">.</td><td style=\"text-align: center\">0</td><td style=\"text-align: center\">1</td><td style=\"text-align: center\">.</td><td style=\"text-align: center\">.</td><td style=\"text-align: center\">0</td><td style=\"text-align: center\">1</td><td style=\"text-align: center\">.</td><td style=\"text-align: center\">.</td><td style=\"text-align: center\">0</td><td style=\"text-align: center\">1</td><td style=\"text-align: center\">.</td><td style=\"text-align: center\">.</td><td style=\"text-align: center\">0</td><td style=\"text-align: center\">1</td><td style=\"text-align: center\">.</td><td style=\"text-align: center\">.</td><td style=\"text-align: center\">0</td><td style=\"text-align: center\">1</td><td style=\"text-align: center\">.</td><td style=\"text-align: center\">.</td><td style=\"text-align: center\">0</td><td style=\"text-align: center\">1</td><td style=\"text-align: center\">.</td><td style=\"text-align: center\">.</td><td style=\"text-align: center\">0</td><td style=\"text-align: center\">1</td><td style=\"text-align: center\">.</td><td style=\"text-align: center\">.</td><td style=\"text-align: center\">0</td><td style=\"text-align: center\">1</td><td style=\"text-align: center\">.</td><td style=\"text-align: center\">.</td><td style=\"text-align: center\">0</td><td style=\"text-align: center\">1</td><td style=\"text-align: center\">.</td><td style=\"text-align: center\">.</td><td style=\"text-align: center\">0</td><td style=\"text-align: center\">1</td><td style=\"text-align: center\">.</td><td style=\"text-align: center\">.</td><td style=\"text-align: center\">0</td><td style=\"text-align: center\">1</td><td style=\"text-align: center\">.</td><td style=\"text-align: center\">.</td><td style=\"text-align: center\">0</td><td style=\"text-align: center\">1</td><td style=\"text-align: center\">.</td><td style=\"text-align: center\">.</td><td style=\"text-align: center\">0</td><td style=\"text-align: center\">1</td><td style=\"text-align: center\">.</td><td style=\"text-align: center\">.</td><td style=\"text-align: center\">0</td><td style=\"text-align: center\">1</td><td style=\"text-align: center\">.</td><td style=\"text-align: center\">.</td><td style=\"text-align: center\">0</td><td style=\"text-align: center\">1</td><td style=\"text-align: center\">.</td><td style=\"text-align: center\">.</td><td style=\"text-align: center\">0</td><td style=\"text-align: center\">1</td><td style=\"text-align: center\">.</td><td style=\"text-align: center\">.</td><td style=\"text-align: center\">0</td><td style=\"text-align: center\">1</td><td style=\"text-align: center\">.</td><td style=\"text-align: center\">.</td><td style=\"text-align: center\">0</td><td style=\"text-align: center\">1</td><td style=\"text-align: center\">.</td><td style=\"text-align: center\">.</td><td style=\"text-align: center\">0</td><td style=\"text-align: center\">1</td><td style=\"text-align: center\">.</td><td style=\"text-align: center\">.</td></tr><tr><th style=\"text-align: center\">10</th><td style=\"text-align: center\">0</td><td style=\"text-align: center\">1</td><td style=\"text-align: center\">.</td><td style=\"text-align: center\">.</td><td style=\"text-align: center\">0</td><td style=\"text-align: center\">1</td><td style=\"text-align: center\">.</td><td style=\"text-align: center\">.</td><td style=\"text-align: center\">0</td><td style=\"text-align: center\">1</td><td style=\"text-align: center\">.</td><td style=\"text-align: center\">.</td><td style=\"text-align: center\">0</td><td style=\"text-align: center\">1</td><td style=\"text-align: center\">.</td><td style=\"text-align: center\">.</td><td style=\"text-align: center\">0</td><td style=\"text-align: center\">1</td><td style=\"text-align: center\">.</td><td style=\"text-align: center\">.</td><td style=\"text-align: center\">0</td><td style=\"text-align: center\">1</td><td style=\"text-align: center\">.</td><td style=\"text-align: center\">.</td><td style=\"text-align: center\">0</td><td style=\"text-align: center\">1</td><td style=\"text-align: center\">.</td><td style=\"text-align: center\">.</td><td style=\"text-align: center\">0</td><td style=\"text-align: center\">1</td><td style=\"text-align: center\">.</td><td style=\"text-align: center\">.</td><td style=\"text-align: center\">0</td><td style=\"text-align: center\">1</td><td style=\"text-align: center\">.</td><td style=\"text-align: center\">.</td><td style=\"text-align: center\">0</td><td style=\"text-align: center\">1</td><td style=\"text-align: center\">.</td><td style=\"text-align: center\">.</td><td style=\"text-align: center\">0</td><td style=\"text-align: center\">1</td><td style=\"text-align: center\">.</td><td style=\"text-align: center\">.</td><td style=\"text-align: center\">0</td><td style=\"text-align: center\">1</td><td style=\"text-align: center\">.</td><td style=\"text-align: center\">.</td><td style=\"text-align: center\">0</td><td style=\"text-align: center\">1</td><td style=\"text-align: center\">.</td><td style=\"text-align: center\">.</td><td style=\"text-align: center\">0</td><td style=\"text-align: center\">1</td><td style=\"text-align: center\">.</td><td style=\"text-align: center\">.</td><td style=\"text-align: center\">0</td><td style=\"text-align: center\">1</td><td style=\"text-align: center\">.</td><td style=\"text-align: center\">.</td><td style=\"text-align: center\">0</td><td style=\"text-align: center\">1</td><td style=\"text-align: center\">.</td><td style=\"text-align: center\">.</td><td style=\"text-align: center\">0</td><td style=\"text-align: center\">1</td><td style=\"text-align: center\">.</td><td style=\"text-align: center\">.</td><td style=\"text-align: center\">0</td><td style=\"text-align: center\">1</td><td style=\"text-align: center\">.</td><td style=\"text-align: center\">.</td><td style=\"text-align: center\">0</td><td style=\"text-align: center\">1</td><td style=\"text-align: center\">.</td><td style=\"text-align: center\">.</td><td style=\"text-align: center\">0</td><td style=\"text-align: center\">1</td><td style=\"text-align: center\">.</td><td style=\"text-align: center\">.</td></tr><tr><th style=\"text-align: center\">11</th><td style=\"text-align: center\">0</td><td style=\"text-align: center\">1</td><td style=\"text-align: center\">.</td><td style=\"text-align: center\">.</td><td style=\"text-align: center\">0</td><td style=\"text-align: center\">1</td><td style=\"text-align: center\">.</td><td style=\"text-align: center\">.</td><td style=\"text-align: center\">0</td><td style=\"text-align: center\">1</td><td style=\"text-align: center\">.</td><td style=\"text-align: center\">.</td><td style=\"text-align: center\">0</td><td style=\"text-align: center\">1</td><td style=\"text-align: center\">.</td><td style=\"text-align: center\">.</td><td style=\"text-align: center\">0</td><td style=\"text-align: center\">1</td><td style=\"text-align: center\">.</td><td style=\"text-align: center\">.</td><td style=\"text-align: center\">0</td><td style=\"text-align: center\">1</td><td style=\"text-align: center\">.</td><td style=\"text-align: center\">.</td><td style=\"text-align: center\">0</td><td style=\"text-align: center\">1</td><td style=\"text-align: center\">.</td><td style=\"text-align: center\">.</td><td style=\"text-align: center\">0</td><td style=\"text-align: center\">1</td><td style=\"text-align: center\">.</td><td style=\"text-align: center\">.</td><td style=\"text-align: center\">0</td><td style=\"text-align: center\">1</td><td style=\"text-align: center\">.</td><td style=\"text-align: center\">.</td><td style=\"text-align: center\">0</td><td style=\"text-align: center\">1</td><td style=\"text-align: center\">.</td><td style=\"text-align: center\">.</td><td style=\"text-align: center\">0</td><td style=\"text-align: center\">1</td><td style=\"text-align: center\">.</td><td style=\"text-align: center\">.</td><td style=\"text-align: center\">0</td><td style=\"text-align: center\">1</td><td style=\"text-align: center\">.</td><td style=\"text-align: center\">.</td><td style=\"text-align: center\">0</td><td style=\"text-align: center\">1</td><td style=\"text-align: center\">.</td><td style=\"text-align: center\">.</td><td style=\"text-align: center\">0</td><td style=\"text-align: center\">1</td><td style=\"text-align: center\">.</td><td style=\"text-align: center\">.</td><td style=\"text-align: center\">0</td><td style=\"text-align: center\">1</td><td style=\"text-align: center\">.</td><td style=\"text-align: center\">.</td><td style=\"text-align: center\">0</td><td style=\"text-align: center\">1</td><td style=\"text-align: center\">.</td><td style=\"text-align: center\">.</td><td style=\"text-align: center\">0</td><td style=\"text-align: center\">1</td><td style=\"text-align: center\">.</td><td style=\"text-align: center\">.</td><td style=\"text-align: center\">0</td><td style=\"text-align: center\">1</td><td style=\"text-align: center\">.</td><td style=\"text-align: center\">.</td><td style=\"text-align: center\">0</td><td style=\"text-align: center\">1</td><td style=\"text-align: center\">.</td><td style=\"text-align: center\">.</td><td style=\"text-align: center\">0</td><td style=\"text-align: center\">1</td><td style=\"text-align: center\">.</td><td style=\"text-align: center\">.</td></tr><tr><th style=\"text-align: center\">12</th><td style=\"text-align: center\">0</td><td style=\"text-align: center\">1</td><td style=\"text-align: center\">.</td><td style=\"text-align: center\">.</td><td style=\"text-align: center\">0</td><td style=\"text-align: center\">1</td><td style=\"text-align: center\">.</td><td style=\"text-align: center\">.</td><td style=\"text-align: center\">0</td><td style=\"text-align: center\">1</td><td style=\"text-align: center\">.</td><td style=\"text-align: center\">.</td><td style=\"text-align: center\">0</td><td style=\"text-align: center\">1</td><td style=\"text-align: center\">.</td><td style=\"text-align: center\">.</td><td style=\"text-align: center\">0</td><td style=\"text-align: center\">1</td><td style=\"text-align: center\">.</td><td style=\"text-align: center\">.</td><td style=\"text-align: center\">0</td><td style=\"text-align: center\">1</td><td style=\"text-align: center\">.</td><td style=\"text-align: center\">.</td><td style=\"text-align: center\">0</td><td style=\"text-align: center\">1</td><td style=\"text-align: center\">.</td><td style=\"text-align: center\">.</td><td style=\"text-align: center\">0</td><td style=\"text-align: center\">1</td><td style=\"text-align: center\">.</td><td style=\"text-align: center\">.</td><td style=\"text-align: center\">0</td><td style=\"text-align: center\">1</td><td style=\"text-align: center\">.</td><td style=\"text-align: center\">.</td><td style=\"text-align: center\">0</td><td style=\"text-align: center\">1</td><td style=\"text-align: center\">.</td><td style=\"text-align: center\">.</td><td style=\"text-align: center\">0</td><td style=\"text-align: center\">1</td><td style=\"text-align: center\">.</td><td style=\"text-align: center\">.</td><td style=\"text-align: center\">0</td><td style=\"text-align: center\">1</td><td style=\"text-align: center\">.</td><td style=\"text-align: center\">.</td><td style=\"text-align: center\">0</td><td style=\"text-align: center\">1</td><td style=\"text-align: center\">.</td><td style=\"text-align: center\">.</td><td style=\"text-align: center\">0</td><td style=\"text-align: center\">1</td><td style=\"text-align: center\">.</td><td style=\"text-align: center\">.</td><td style=\"text-align: center\">0</td><td style=\"text-align: center\">1</td><td style=\"text-align: center\">.</td><td style=\"text-align: center\">.</td><td style=\"text-align: center\">0</td><td style=\"text-align: center\">1</td><td style=\"text-align: center\">.</td><td style=\"text-align: center\">.</td><td style=\"text-align: center\">0</td><td style=\"text-align: center\">1</td><td style=\"text-align: center\">.</td><td style=\"text-align: center\">.</td><td style=\"text-align: center\">0</td><td style=\"text-align: center\">1</td><td style=\"text-align: center\">.</td><td style=\"text-align: center\">.</td><td style=\"text-align: center\">0</td><td style=\"text-align: center\">1</td><td style=\"text-align: center\">.</td><td style=\"text-align: center\">.</td><td style=\"text-align: center\">0</td><td style=\"text-align: center\">1</td><td style=\"text-align: center\">.</td><td style=\"text-align: center\">.</td></tr><tr><th style=\"text-align: center\">13</th><td style=\"text-align: center\">0</td><td style=\"text-align: center\">1</td><td style=\"text-align: center\">.</td><td style=\"text-align: center\">.</td><td style=\"text-align: center\">0</td><td style=\"text-align: center\">1</td><td style=\"text-align: center\">.</td><td style=\"text-align: center\">.</td><td style=\"text-align: center\">0</td><td style=\"text-align: center\">1</td><td style=\"text-align: center\">.</td><td style=\"text-align: center\">.</td><td style=\"text-align: center\">0</td><td style=\"text-align: center\">1</td><td style=\"text-align: center\">.</td><td style=\"text-align: center\">.</td><td style=\"text-align: center\">0</td><td style=\"text-align: center\">1</td><td style=\"text-align: center\">.</td><td style=\"text-align: center\">.</td><td style=\"text-align: center\">0</td><td style=\"text-align: center\">1</td><td style=\"text-align: center\">.</td><td style=\"text-align: center\">.</td><td style=\"text-align: center\">0</td><td style=\"text-align: center\">1</td><td style=\"text-align: center\">.</td><td style=\"text-align: center\">.</td><td style=\"text-align: center\">0</td><td style=\"text-align: center\">1</td><td style=\"text-align: center\">.</td><td style=\"text-align: center\">.</td><td style=\"text-align: center\">0</td><td style=\"text-align: center\">1</td><td style=\"text-align: center\">.</td><td style=\"text-align: center\">.</td><td style=\"text-align: center\">0</td><td style=\"text-align: center\">1</td><td style=\"text-align: center\">.</td><td style=\"text-align: center\">.</td><td style=\"text-align: center\">0</td><td style=\"text-align: center\">1</td><td style=\"text-align: center\">.</td><td style=\"text-align: center\">.</td><td style=\"text-align: center\">0</td><td style=\"text-align: center\">1</td><td style=\"text-align: center\">.</td><td style=\"text-align: center\">.</td><td style=\"text-align: center\">0</td><td style=\"text-align: center\">1</td><td style=\"text-align: center\">.</td><td style=\"text-align: center\">.</td><td style=\"text-align: center\">0</td><td style=\"text-align: center\">1</td><td style=\"text-align: center\">.</td><td style=\"text-align: center\">.</td><td style=\"text-align: center\">0</td><td style=\"text-align: center\">1</td><td style=\"text-align: center\">.</td><td style=\"text-align: center\">.</td><td style=\"text-align: center\">0</td><td style=\"text-align: center\">1</td><td style=\"text-align: center\">.</td><td style=\"text-align: center\">.</td><td style=\"text-align: center\">0</td><td style=\"text-align: center\">1</td><td style=\"text-align: center\">.</td><td style=\"text-align: center\">.</td><td style=\"text-align: center\">0</td><td style=\"text-align: center\">1</td><td style=\"text-align: center\">.</td><td style=\"text-align: center\">.</td><td style=\"text-align: center\">0</td><td style=\"text-align: center\">1</td><td style=\"text-align: center\">.</td><td style=\"text-align: center\">.</td><td style=\"text-align: center\">0</td><td style=\"text-align: center\">1</td><td style=\"text-align: center\">.</td><td style=\"text-align: center\">.</td></tr><tr><th style=\"text-align: center\">14</th><td style=\"text-align: center\">0</td><td style=\"text-align: center\">1</td><td style=\"text-align: center\">.</td><td style=\"text-align: center\">.</td><td style=\"text-align: center\">0</td><td style=\"text-align: center\">1</td><td style=\"text-align: center\">.</td><td style=\"text-align: center\">.</td><td style=\"text-align: center\">0</td><td style=\"text-align: center\">1</td><td style=\"text-align: center\">.</td><td style=\"text-align: center\">.</td><td style=\"text-align: center\">0</td><td style=\"text-align: center\">1</td><td style=\"text-align: center\">.</td><td style=\"text-align: center\">.</td><td style=\"text-align: center\">0</td><td style=\"text-align: center\">1</td><td style=\"text-align: center\">.</td><td style=\"text-align: center\">.</td><td style=\"text-align: center\">0</td><td style=\"text-align: center\">1</td><td style=\"text-align: center\">.</td><td style=\"text-align: center\">.</td><td style=\"text-align: center\">0</td><td style=\"text-align: center\">1</td><td style=\"text-align: center\">.</td><td style=\"text-align: center\">.</td><td style=\"text-align: center\">0</td><td style=\"text-align: center\">1</td><td style=\"text-align: center\">.</td><td style=\"text-align: center\">.</td><td style=\"text-align: center\">0</td><td style=\"text-align: center\">1</td><td style=\"text-align: center\">.</td><td style=\"text-align: center\">.</td><td style=\"text-align: center\">0</td><td style=\"text-align: center\">1</td><td style=\"text-align: center\">.</td><td style=\"text-align: center\">.</td><td style=\"text-align: center\">0</td><td style=\"text-align: center\">1</td><td style=\"text-align: center\">.</td><td style=\"text-align: center\">.</td><td style=\"text-align: center\">0</td><td style=\"text-align: center\">1</td><td style=\"text-align: center\">.</td><td style=\"text-align: center\">.</td><td style=\"text-align: center\">0</td><td style=\"text-align: center\">1</td><td style=\"text-align: center\">.</td><td style=\"text-align: center\">.</td><td style=\"text-align: center\">0</td><td style=\"text-align: center\">1</td><td style=\"text-align: center\">.</td><td style=\"text-align: center\">.</td><td style=\"text-align: center\">0</td><td style=\"text-align: center\">1</td><td style=\"text-align: center\">.</td><td style=\"text-align: center\">.</td><td style=\"text-align: center\">0</td><td style=\"text-align: center\">1</td><td style=\"text-align: center\">.</td><td style=\"text-align: center\">.</td><td style=\"text-align: center\">0</td><td style=\"text-align: center\">1</td><td style=\"text-align: center\">.</td><td style=\"text-align: center\">.</td><td style=\"text-align: center\">0</td><td style=\"text-align: center\">1</td><td style=\"text-align: center\">.</td><td style=\"text-align: center\">.</td><td style=\"text-align: center\">0</td><td style=\"text-align: center\">1</td><td style=\"text-align: center\">.</td><td style=\"text-align: center\">.</td><td style=\"text-align: center\">0</td><td style=\"text-align: center\">1</td><td style=\"text-align: center\">.</td><td style=\"text-align: center\">.</td></tr><tr><th style=\"text-align: center\">15</th><td style=\"text-align: center\">0</td><td style=\"text-align: center\">1</td><td style=\"text-align: center\">.</td><td style=\"text-align: center\">.</td><td style=\"text-align: center\">0</td><td style=\"text-align: center\">1</td><td style=\"text-align: center\">.</td><td style=\"text-align: center\">.</td><td style=\"text-align: center\">0</td><td style=\"text-align: center\">1</td><td style=\"text-align: center\">.</td><td style=\"text-align: center\">.</td><td style=\"text-align: center\">0</td><td style=\"text-align: center\">1</td><td style=\"text-align: center\">.</td><td style=\"text-align: center\">.</td><td style=\"text-align: center\">0</td><td style=\"text-align: center\">1</td><td style=\"text-align: center\">.</td><td style=\"text-align: center\">.</td><td style=\"text-align: center\">0</td><td style=\"text-align: center\">1</td><td style=\"text-align: center\">.</td><td style=\"text-align: center\">.</td><td style=\"text-align: center\">0</td><td style=\"text-align: center\">1</td><td style=\"text-align: center\">.</td><td style=\"text-align: center\">.</td><td style=\"text-align: center\">0</td><td style=\"text-align: center\">1</td><td style=\"text-align: center\">.</td><td style=\"text-align: center\">.</td><td style=\"text-align: center\">0</td><td style=\"text-align: center\">1</td><td style=\"text-align: center\">.</td><td style=\"text-align: center\">.</td><td style=\"text-align: center\">0</td><td style=\"text-align: center\">1</td><td style=\"text-align: center\">.</td><td style=\"text-align: center\">.</td><td style=\"text-align: center\">0</td><td style=\"text-align: center\">1</td><td style=\"text-align: center\">.</td><td style=\"text-align: center\">.</td><td style=\"text-align: center\">0</td><td style=\"text-align: center\">1</td><td style=\"text-align: center\">.</td><td style=\"text-align: center\">.</td><td style=\"text-align: center\">0</td><td style=\"text-align: center\">1</td><td style=\"text-align: center\">.</td><td style=\"text-align: center\">.</td><td style=\"text-align: center\">0</td><td style=\"text-align: center\">1</td><td style=\"text-align: center\">.</td><td style=\"text-align: center\">.</td><td style=\"text-align: center\">0</td><td style=\"text-align: center\">1</td><td style=\"text-align: center\">.</td><td style=\"text-align: center\">.</td><td style=\"text-align: center\">0</td><td style=\"text-align: center\">1</td><td style=\"text-align: center\">.</td><td style=\"text-align: center\">.</td><td style=\"text-align: center\">0</td><td style=\"text-align: center\">1</td><td style=\"text-align: center\">.</td><td style=\"text-align: center\">.</td><td style=\"text-align: center\">0</td><td style=\"text-align: center\">1</td><td style=\"text-align: center\">.</td><td style=\"text-align: center\">.</td><td style=\"text-align: center\">0</td><td style=\"text-align: center\">1</td><td style=\"text-align: center\">.</td><td style=\"text-align: center\">.</td><td style=\"text-align: center\">0</td><td style=\"text-align: center\">1</td><td style=\"text-align: center\">.</td><td style=\"text-align: center\">.</td></tr><tr><th style=\"text-align: center\">16</th><td style=\"text-align: center\">0</td><td style=\"text-align: center\">1</td><td style=\"text-align: center\">.</td><td style=\"text-align: center\">.</td><td style=\"text-align: center\">0</td><td style=\"text-align: center\">1</td><td style=\"text-align: center\">.</td><td style=\"text-align: center\">.</td><td style=\"text-align: center\">0</td><td style=\"text-align: center\">1</td><td style=\"text-align: center\">.</td><td style=\"text-align: center\">.</td><td style=\"text-align: center\">0</td><td style=\"text-align: center\">1</td><td style=\"text-align: center\">.</td><td style=\"text-align: center\">.</td><td style=\"text-align: center\">0</td><td style=\"text-align: center\">1</td><td style=\"text-align: center\">.</td><td style=\"text-align: center\">.</td><td style=\"text-align: center\">0</td><td style=\"text-align: center\">1</td><td style=\"text-align: center\">.</td><td style=\"text-align: center\">.</td><td style=\"text-align: center\">0</td><td style=\"text-align: center\">1</td><td style=\"text-align: center\">.</td><td style=\"text-align: center\">.</td><td style=\"text-align: center\">0</td><td style=\"text-align: center\">1</td><td style=\"text-align: center\">.</td><td style=\"text-align: center\">.</td><td style=\"text-align: center\">0</td><td style=\"text-align: center\">1</td><td style=\"text-align: center\">.</td><td style=\"text-align: center\">.</td><td style=\"text-align: center\">0</td><td style=\"text-align: center\">1</td><td style=\"text-align: center\">.</td><td style=\"text-align: center\">.</td><td style=\"text-align: center\">0</td><td style=\"text-align: center\">1</td><td style=\"text-align: center\">.</td><td style=\"text-align: center\">.</td><td style=\"text-align: center\">0</td><td style=\"text-align: center\">1</td><td style=\"text-align: center\">.</td><td style=\"text-align: center\">.</td><td style=\"text-align: center\">0</td><td style=\"text-align: center\">1</td><td style=\"text-align: center\">.</td><td style=\"text-align: center\">.</td><td style=\"text-align: center\">0</td><td style=\"text-align: center\">1</td><td style=\"text-align: center\">.</td><td style=\"text-align: center\">.</td><td style=\"text-align: center\">0</td><td style=\"text-align: center\">1</td><td style=\"text-align: center\">.</td><td style=\"text-align: center\">.</td><td style=\"text-align: center\">0</td><td style=\"text-align: center\">1</td><td style=\"text-align: center\">.</td><td style=\"text-align: center\">.</td><td style=\"text-align: center\">0</td><td style=\"text-align: center\">1</td><td style=\"text-align: center\">.</td><td style=\"text-align: center\">.</td><td style=\"text-align: center\">0</td><td style=\"text-align: center\">1</td><td style=\"text-align: center\">.</td><td style=\"text-align: center\">.</td><td style=\"text-align: center\">0</td><td style=\"text-align: center\">1</td><td style=\"text-align: center\">.</td><td style=\"text-align: center\">.</td><td style=\"text-align: center\">0</td><td style=\"text-align: center\">1</td><td style=\"text-align: center\">.</td><td style=\"text-align: center\">.</td></tr><tr><th style=\"text-align: center\">17</th><td style=\"text-align: center\">0</td><td style=\"text-align: center\">1</td><td style=\"text-align: center\">.</td><td style=\"text-align: center\">.</td><td style=\"text-align: center\">0</td><td style=\"text-align: center\">1</td><td style=\"text-align: center\">.</td><td style=\"text-align: center\">.</td><td style=\"text-align: center\">0</td><td style=\"text-align: center\">1</td><td style=\"text-align: center\">.</td><td style=\"text-align: center\">.</td><td style=\"text-align: center\">0</td><td style=\"text-align: center\">1</td><td style=\"text-align: center\">.</td><td style=\"text-align: center\">.</td><td style=\"text-align: center\">0</td><td style=\"text-align: center\">1</td><td style=\"text-align: center\">.</td><td style=\"text-align: center\">.</td><td style=\"text-align: center\">0</td><td style=\"text-align: center\">1</td><td style=\"text-align: center\">.</td><td style=\"text-align: center\">.</td><td style=\"text-align: center\">0</td><td style=\"text-align: center\">1</td><td style=\"text-align: center\">.</td><td style=\"text-align: center\">.</td><td style=\"text-align: center\">0</td><td style=\"text-align: center\">1</td><td style=\"text-align: center\">.</td><td style=\"text-align: center\">.</td><td style=\"text-align: center\">0</td><td style=\"text-align: center\">1</td><td style=\"text-align: center\">.</td><td style=\"text-align: center\">.</td><td style=\"text-align: center\">0</td><td style=\"text-align: center\">1</td><td style=\"text-align: center\">.</td><td style=\"text-align: center\">.</td><td style=\"text-align: center\">0</td><td style=\"text-align: center\">1</td><td style=\"text-align: center\">.</td><td style=\"text-align: center\">.</td><td style=\"text-align: center\">0</td><td style=\"text-align: center\">1</td><td style=\"text-align: center\">.</td><td style=\"text-align: center\">.</td><td style=\"text-align: center\">0</td><td style=\"text-align: center\">1</td><td style=\"text-align: center\">.</td><td style=\"text-align: center\">.</td><td style=\"text-align: center\">0</td><td style=\"text-align: center\">1</td><td style=\"text-align: center\">.</td><td style=\"text-align: center\">.</td><td style=\"text-align: center\">0</td><td style=\"text-align: center\">1</td><td style=\"text-align: center\">.</td><td style=\"text-align: center\">.</td><td style=\"text-align: center\">0</td><td style=\"text-align: center\">1</td><td style=\"text-align: center\">.</td><td style=\"text-align: center\">.</td><td style=\"text-align: center\">0</td><td style=\"text-align: center\">1</td><td style=\"text-align: center\">.</td><td style=\"text-align: center\">.</td><td style=\"text-align: center\">0</td><td style=\"text-align: center\">1</td><td style=\"text-align: center\">.</td><td style=\"text-align: center\">.</td><td style=\"text-align: center\">0</td><td style=\"text-align: center\">1</td><td style=\"text-align: center\">.</td><td style=\"text-align: center\">.</td><td style=\"text-align: center\">0</td><td style=\"text-align: center\">1</td><td style=\"text-align: center\">.</td><td style=\"text-align: center\">.</td></tr><tr><th style=\"text-align: center\">18</th><td style=\"text-align: center\">0</td><td style=\"text-align: center\">1</td><td style=\"text-align: center\">.</td><td style=\"text-align: center\">.</td><td style=\"text-align: center\">0</td><td style=\"text-align: center\">1</td><td style=\"text-align: center\">.</td><td style=\"text-align: center\">.</td><td style=\"text-align: center\">0</td><td style=\"text-align: center\">1</td><td style=\"text-align: center\">.</td><td style=\"text-align: center\">.</td><td style=\"text-align: center\">0</td><td style=\"text-align: center\">1</td><td style=\"text-align: center\">.</td><td style=\"text-align: center\">.</td><td style=\"text-align: center\">0</td><td style=\"text-align: center\">1</td><td style=\"text-align: center\">.</td><td style=\"text-align: center\">.</td><td style=\"text-align: center\">0</td><td style=\"text-align: center\">1</td><td style=\"text-align: center\">.</td><td style=\"text-align: center\">.</td><td style=\"text-align: center\">0</td><td style=\"text-align: center\">1</td><td style=\"text-align: center\">.</td><td style=\"text-align: center\">.</td><td style=\"text-align: center\">0</td><td style=\"text-align: center\">1</td><td style=\"text-align: center\">.</td><td style=\"text-align: center\">.</td><td style=\"text-align: center\">0</td><td style=\"text-align: center\">1</td><td style=\"text-align: center\">.</td><td style=\"text-align: center\">.</td><td style=\"text-align: center\">0</td><td style=\"text-align: center\">1</td><td style=\"text-align: center\">.</td><td style=\"text-align: center\">.</td><td style=\"text-align: center\">0</td><td style=\"text-align: center\">1</td><td style=\"text-align: center\">.</td><td style=\"text-align: center\">.</td><td style=\"text-align: center\">0</td><td style=\"text-align: center\">1</td><td style=\"text-align: center\">.</td><td style=\"text-align: center\">.</td><td style=\"text-align: center\">0</td><td style=\"text-align: center\">1</td><td style=\"text-align: center\">.</td><td style=\"text-align: center\">.</td><td style=\"text-align: center\">0</td><td style=\"text-align: center\">1</td><td style=\"text-align: center\">.</td><td style=\"text-align: center\">.</td><td style=\"text-align: center\">0</td><td style=\"text-align: center\">1</td><td style=\"text-align: center\">.</td><td style=\"text-align: center\">.</td><td style=\"text-align: center\">0</td><td style=\"text-align: center\">1</td><td style=\"text-align: center\">.</td><td style=\"text-align: center\">.</td><td style=\"text-align: center\">0</td><td style=\"text-align: center\">1</td><td style=\"text-align: center\">.</td><td style=\"text-align: center\">.</td><td style=\"text-align: center\">0</td><td style=\"text-align: center\">1</td><td style=\"text-align: center\">.</td><td style=\"text-align: center\">.</td><td style=\"text-align: center\">0</td><td style=\"text-align: center\">1</td><td style=\"text-align: center\">.</td><td style=\"text-align: center\">.</td><td style=\"text-align: center\">0</td><td style=\"text-align: center\">1</td><td style=\"text-align: center\">.</td><td style=\"text-align: center\">.</td></tr><tr><th style=\"text-align: center\">19</th><td style=\"text-align: center\">0</td><td style=\"text-align: center\">1</td><td style=\"text-align: center\">.</td><td style=\"text-align: center\">.</td><td style=\"text-align: center\">0</td><td style=\"text-align: center\">1</td><td style=\"text-align: center\">.</td><td style=\"text-align: center\">.</td><td style=\"text-align: center\">0</td><td style=\"text-align: center\">1</td><td style=\"text-align: center\">.</td><td style=\"text-align: center\">.</td><td style=\"text-align: center\">0</td><td style=\"text-align: center\">1</td><td style=\"text-align: center\">.</td><td style=\"text-align: center\">.</td><td style=\"text-align: center\">0</td><td style=\"text-align: center\">1</td><td style=\"text-align: center\">.</td><td style=\"text-align: center\">.</td><td style=\"text-align: center\">0</td><td style=\"text-align: center\">1</td><td style=\"text-align: center\">.</td><td style=\"text-align: center\">.</td><td style=\"text-align: center\">0</td><td style=\"text-align: center\">1</td><td style=\"text-align: center\">.</td><td style=\"text-align: center\">.</td><td style=\"text-align: center\">0</td><td style=\"text-align: center\">1</td><td style=\"text-align: center\">.</td><td style=\"text-align: center\">.</td><td style=\"text-align: center\">0</td><td style=\"text-align: center\">1</td><td style=\"text-align: center\">.</td><td style=\"text-align: center\">.</td><td style=\"text-align: center\">0</td><td style=\"text-align: center\">1</td><td style=\"text-align: center\">.</td><td style=\"text-align: center\">.</td><td style=\"text-align: center\">0</td><td style=\"text-align: center\">1</td><td style=\"text-align: center\">.</td><td style=\"text-align: center\">.</td><td style=\"text-align: center\">0</td><td style=\"text-align: center\">1</td><td style=\"text-align: center\">.</td><td style=\"text-align: center\">.</td><td style=\"text-align: center\">0</td><td style=\"text-align: center\">1</td><td style=\"text-align: center\">.</td><td style=\"text-align: center\">.</td><td style=\"text-align: center\">0</td><td style=\"text-align: center\">1</td><td style=\"text-align: center\">.</td><td style=\"text-align: center\">.</td><td style=\"text-align: center\">0</td><td style=\"text-align: center\">1</td><td style=\"text-align: center\">.</td><td style=\"text-align: center\">.</td><td style=\"text-align: center\">0</td><td style=\"text-align: center\">1</td><td style=\"text-align: center\">.</td><td style=\"text-align: center\">.</td><td style=\"text-align: center\">0</td><td style=\"text-align: center\">1</td><td style=\"text-align: center\">.</td><td style=\"text-align: center\">.</td><td style=\"text-align: center\">0</td><td style=\"text-align: center\">1</td><td style=\"text-align: center\">.</td><td style=\"text-align: center\">.</td><td style=\"text-align: center\">0</td><td style=\"text-align: center\">1</td><td style=\"text-align: center\">.</td><td style=\"text-align: center\">.</td><td style=\"text-align: center\">0</td><td style=\"text-align: center\">1</td><td style=\"text-align: center\">.</td><td style=\"text-align: center\">.</td></tr></table>"
      ]
     },
     "metadata": {},
     "output_type": "display_data"
    }
   ],
   "source": [
    "h.displayall()"
   ]
  },
  {
   "cell_type": "code",
   "execution_count": 29,
   "metadata": {
    "collapsed": false
   },
   "outputs": [
    {
     "data": {
      "text/html": [
       "&lt;HaplotypeArray shape=(40, 80) dtype=int64><table><tr><th></th><th style=\"text-align: center\">0</th><th style=\"text-align: center\">1</th><th style=\"text-align: center\">2</th><th style=\"text-align: center\">3</th><th style=\"text-align: center\">4</th><th style=\"text-align: center\"> ... </th><th style=\"text-align: center\">75</th><th style=\"text-align: center\">76</th><th style=\"text-align: center\">77</th><th style=\"text-align: center\">78</th><th style=\"text-align: center\">79</th></tr><tr><th style=\"text-align: center\">0</th><td style=\"text-align: center\">0</td><td style=\"text-align: center\">1</td><td style=\"text-align: center\">.</td><td style=\"text-align: center\">.</td><td style=\"text-align: center\">0</td><td style=\"text-align: center\"> ... </td><td style=\"text-align: center\">.</td><td style=\"text-align: center\">0</td><td style=\"text-align: center\">1</td><td style=\"text-align: center\">.</td><td style=\"text-align: center\">.</td></tr><tr><th style=\"text-align: center\">1</th><td style=\"text-align: center\">0</td><td style=\"text-align: center\">1</td><td style=\"text-align: center\">.</td><td style=\"text-align: center\">.</td><td style=\"text-align: center\">0</td><td style=\"text-align: center\"> ... </td><td style=\"text-align: center\">.</td><td style=\"text-align: center\">0</td><td style=\"text-align: center\">1</td><td style=\"text-align: center\">.</td><td style=\"text-align: center\">.</td></tr><tr><th style=\"text-align: center\">2</th><td style=\"text-align: center\">0</td><td style=\"text-align: center\">1</td><td style=\"text-align: center\">.</td><td style=\"text-align: center\">.</td><td style=\"text-align: center\">0</td><td style=\"text-align: center\"> ... </td><td style=\"text-align: center\">.</td><td style=\"text-align: center\">0</td><td style=\"text-align: center\">1</td><td style=\"text-align: center\">.</td><td style=\"text-align: center\">.</td></tr><tr><th style=\"text-align: center\">...</th><td style=\"text-align: center\" colspan=12>...</td></tr><tr><th style=\"text-align: center\">37</th><td style=\"text-align: center\">0</td><td style=\"text-align: center\">1</td><td style=\"text-align: center\">.</td><td style=\"text-align: center\">.</td><td style=\"text-align: center\">0</td><td style=\"text-align: center\"> ... </td><td style=\"text-align: center\">.</td><td style=\"text-align: center\">0</td><td style=\"text-align: center\">1</td><td style=\"text-align: center\">.</td><td style=\"text-align: center\">.</td></tr><tr><th style=\"text-align: center\">38</th><td style=\"text-align: center\">0</td><td style=\"text-align: center\">1</td><td style=\"text-align: center\">.</td><td style=\"text-align: center\">.</td><td style=\"text-align: center\">0</td><td style=\"text-align: center\"> ... </td><td style=\"text-align: center\">.</td><td style=\"text-align: center\">0</td><td style=\"text-align: center\">1</td><td style=\"text-align: center\">.</td><td style=\"text-align: center\">.</td></tr><tr><th style=\"text-align: center\">39</th><td style=\"text-align: center\">0</td><td style=\"text-align: center\">1</td><td style=\"text-align: center\">.</td><td style=\"text-align: center\">.</td><td style=\"text-align: center\">0</td><td style=\"text-align: center\"> ... </td><td style=\"text-align: center\">.</td><td style=\"text-align: center\">0</td><td style=\"text-align: center\">1</td><td style=\"text-align: center\">.</td><td style=\"text-align: center\">.</td></tr></table>"
      ],
      "text/plain": [
       "<HaplotypeArray shape=(40, 80) dtype=int64>\n",
       "0 1 . . 0  ...  . 0 1 . .\n",
       "0 1 . . 0  ...  . 0 1 . .\n",
       "0 1 . . 0  ...  . 0 1 . .\n",
       " ... \n",
       "0 1 . . 0  ...  . 0 1 . .\n",
       "0 1 . . 0  ...  . 0 1 . .\n",
       "0 1 . . 0  ...  . 0 1 . ."
      ]
     },
     "execution_count": 29,
     "metadata": {},
     "output_type": "execute_result"
    }
   ],
   "source": [
    "h.concatenate(h)"
   ]
  },
  {
   "cell_type": "code",
   "execution_count": 30,
   "metadata": {
    "collapsed": false
   },
   "outputs": [
    {
     "data": {
      "text/html": [
       "&lt;HaplotypeArray shape=(20, 160) dtype=int64><table><tr><th></th><th style=\"text-align: center\">0</th><th style=\"text-align: center\">1</th><th style=\"text-align: center\">2</th><th style=\"text-align: center\">3</th><th style=\"text-align: center\">4</th><th style=\"text-align: center\"> ... </th><th style=\"text-align: center\">155</th><th style=\"text-align: center\">156</th><th style=\"text-align: center\">157</th><th style=\"text-align: center\">158</th><th style=\"text-align: center\">159</th></tr><tr><th style=\"text-align: center\">0</th><td style=\"text-align: center\">0</td><td style=\"text-align: center\">1</td><td style=\"text-align: center\">.</td><td style=\"text-align: center\">.</td><td style=\"text-align: center\">0</td><td style=\"text-align: center\"> ... </td><td style=\"text-align: center\">.</td><td style=\"text-align: center\">0</td><td style=\"text-align: center\">1</td><td style=\"text-align: center\">.</td><td style=\"text-align: center\">.</td></tr><tr><th style=\"text-align: center\">1</th><td style=\"text-align: center\">0</td><td style=\"text-align: center\">1</td><td style=\"text-align: center\">.</td><td style=\"text-align: center\">.</td><td style=\"text-align: center\">0</td><td style=\"text-align: center\"> ... </td><td style=\"text-align: center\">.</td><td style=\"text-align: center\">0</td><td style=\"text-align: center\">1</td><td style=\"text-align: center\">.</td><td style=\"text-align: center\">.</td></tr><tr><th style=\"text-align: center\">2</th><td style=\"text-align: center\">0</td><td style=\"text-align: center\">1</td><td style=\"text-align: center\">.</td><td style=\"text-align: center\">.</td><td style=\"text-align: center\">0</td><td style=\"text-align: center\"> ... </td><td style=\"text-align: center\">.</td><td style=\"text-align: center\">0</td><td style=\"text-align: center\">1</td><td style=\"text-align: center\">.</td><td style=\"text-align: center\">.</td></tr><tr><th style=\"text-align: center\">...</th><td style=\"text-align: center\" colspan=12>...</td></tr><tr><th style=\"text-align: center\">17</th><td style=\"text-align: center\">0</td><td style=\"text-align: center\">1</td><td style=\"text-align: center\">.</td><td style=\"text-align: center\">.</td><td style=\"text-align: center\">0</td><td style=\"text-align: center\"> ... </td><td style=\"text-align: center\">.</td><td style=\"text-align: center\">0</td><td style=\"text-align: center\">1</td><td style=\"text-align: center\">.</td><td style=\"text-align: center\">.</td></tr><tr><th style=\"text-align: center\">18</th><td style=\"text-align: center\">0</td><td style=\"text-align: center\">1</td><td style=\"text-align: center\">.</td><td style=\"text-align: center\">.</td><td style=\"text-align: center\">0</td><td style=\"text-align: center\"> ... </td><td style=\"text-align: center\">.</td><td style=\"text-align: center\">0</td><td style=\"text-align: center\">1</td><td style=\"text-align: center\">.</td><td style=\"text-align: center\">.</td></tr><tr><th style=\"text-align: center\">19</th><td style=\"text-align: center\">0</td><td style=\"text-align: center\">1</td><td style=\"text-align: center\">.</td><td style=\"text-align: center\">.</td><td style=\"text-align: center\">0</td><td style=\"text-align: center\"> ... </td><td style=\"text-align: center\">.</td><td style=\"text-align: center\">0</td><td style=\"text-align: center\">1</td><td style=\"text-align: center\">.</td><td style=\"text-align: center\">.</td></tr></table>"
      ],
      "text/plain": [
       "<HaplotypeArray shape=(20, 160) dtype=int64>\n",
       "0 1 . . 0  ...  . 0 1 . .\n",
       "0 1 . . 0  ...  . 0 1 . .\n",
       "0 1 . . 0  ...  . 0 1 . .\n",
       " ... \n",
       "0 1 . . 0  ...  . 0 1 . .\n",
       "0 1 . . 0  ...  . 0 1 . .\n",
       "0 1 . . 0  ...  . 0 1 . ."
      ]
     },
     "execution_count": 30,
     "metadata": {},
     "output_type": "execute_result"
    }
   ],
   "source": [
    "h.concatenate(h, axis=1)"
   ]
  },
  {
   "cell_type": "markdown",
   "metadata": {},
   "source": [
    "## AlleleCountsArray"
   ]
  },
  {
   "cell_type": "code",
   "execution_count": 31,
   "metadata": {
    "collapsed": false
   },
   "outputs": [
    {
     "data": {
      "text/html": [
       "&lt;AlleleCountsArray shape=(20, 2) dtype=int32><table><tr><th></th><th style=\"text-align: center\">0</th><th style=\"text-align: center\">1</th></tr><tr><th style=\"text-align: center\">0</th><td style=\"text-align: center\">20</td><td style=\"text-align: center\">20</td></tr><tr><th style=\"text-align: center\">1</th><td style=\"text-align: center\">20</td><td style=\"text-align: center\">20</td></tr><tr><th style=\"text-align: center\">2</th><td style=\"text-align: center\">20</td><td style=\"text-align: center\">20</td></tr><tr><th style=\"text-align: center\">...</th><td style=\"text-align: center\" colspan=3>...</td></tr><tr><th style=\"text-align: center\">17</th><td style=\"text-align: center\">20</td><td style=\"text-align: center\">20</td></tr><tr><th style=\"text-align: center\">18</th><td style=\"text-align: center\">20</td><td style=\"text-align: center\">20</td></tr><tr><th style=\"text-align: center\">19</th><td style=\"text-align: center\">20</td><td style=\"text-align: center\">20</td></tr></table>"
      ],
      "text/plain": [
       "<AlleleCountsArray shape=(20, 2) dtype=int32>\n",
       "20 20\n",
       "20 20\n",
       "20 20\n",
       " ... \n",
       "20 20\n",
       "20 20\n",
       "20 20"
      ]
     },
     "execution_count": 31,
     "metadata": {},
     "output_type": "execute_result"
    }
   ],
   "source": [
    "ac = g.count_alleles()\n",
    "ac"
   ]
  },
  {
   "cell_type": "code",
   "execution_count": 32,
   "metadata": {
    "collapsed": false
   },
   "outputs": [
    {
     "data": {
      "text/html": [
       "&lt;AlleleCountsArray shape=(20, 2) dtype=int32><table><tr><th></th><th style=\"text-align: center\">0</th><th style=\"text-align: center\">1</th></tr><tr><th style=\"text-align: center\">0</th><td style=\"text-align: center\">20</td><td style=\"text-align: center\">20</td></tr><tr><th style=\"text-align: center\">1</th><td style=\"text-align: center\">20</td><td style=\"text-align: center\">20</td></tr><tr><th style=\"text-align: center\">2</th><td style=\"text-align: center\">20</td><td style=\"text-align: center\">20</td></tr><tr><th style=\"text-align: center\">3</th><td style=\"text-align: center\">20</td><td style=\"text-align: center\">20</td></tr><tr><th style=\"text-align: center\">4</th><td style=\"text-align: center\">20</td><td style=\"text-align: center\">20</td></tr><tr><th style=\"text-align: center\">5</th><td style=\"text-align: center\">20</td><td style=\"text-align: center\">20</td></tr><tr><th style=\"text-align: center\">6</th><td style=\"text-align: center\">20</td><td style=\"text-align: center\">20</td></tr><tr><th style=\"text-align: center\">7</th><td style=\"text-align: center\">20</td><td style=\"text-align: center\">20</td></tr><tr><th style=\"text-align: center\">8</th><td style=\"text-align: center\">20</td><td style=\"text-align: center\">20</td></tr><tr><th style=\"text-align: center\">9</th><td style=\"text-align: center\">20</td><td style=\"text-align: center\">20</td></tr><tr><th style=\"text-align: center\">10</th><td style=\"text-align: center\">20</td><td style=\"text-align: center\">20</td></tr><tr><th style=\"text-align: center\">11</th><td style=\"text-align: center\">20</td><td style=\"text-align: center\">20</td></tr><tr><th style=\"text-align: center\">12</th><td style=\"text-align: center\">20</td><td style=\"text-align: center\">20</td></tr><tr><th style=\"text-align: center\">13</th><td style=\"text-align: center\">20</td><td style=\"text-align: center\">20</td></tr><tr><th style=\"text-align: center\">14</th><td style=\"text-align: center\">20</td><td style=\"text-align: center\">20</td></tr><tr><th style=\"text-align: center\">15</th><td style=\"text-align: center\">20</td><td style=\"text-align: center\">20</td></tr><tr><th style=\"text-align: center\">16</th><td style=\"text-align: center\">20</td><td style=\"text-align: center\">20</td></tr><tr><th style=\"text-align: center\">17</th><td style=\"text-align: center\">20</td><td style=\"text-align: center\">20</td></tr><tr><th style=\"text-align: center\">18</th><td style=\"text-align: center\">20</td><td style=\"text-align: center\">20</td></tr><tr><th style=\"text-align: center\">19</th><td style=\"text-align: center\">20</td><td style=\"text-align: center\">20</td></tr></table>"
      ]
     },
     "metadata": {},
     "output_type": "display_data"
    }
   ],
   "source": [
    "ac.displayall()"
   ]
  },
  {
   "cell_type": "code",
   "execution_count": 33,
   "metadata": {
    "collapsed": false
   },
   "outputs": [
    {
     "name": "stdout",
     "output_type": "stream",
     "text": [
      "20 20\n",
      "20 20\n",
      "20 20\n",
      " ... \n",
      "20 20\n",
      "20 20\n",
      "20 20\n",
      "\n"
     ]
    }
   ],
   "source": [
    "print(ac)"
   ]
  },
  {
   "cell_type": "code",
   "execution_count": 34,
   "metadata": {
    "collapsed": false
   },
   "outputs": [
    {
     "name": "stdout",
     "output_type": "stream",
     "text": [
      "<AlleleCountsArray shape=(20, 2) dtype=int32>\n",
      "20 20\n",
      "20 20\n",
      "20 20\n",
      " ... \n",
      "20 20\n",
      "20 20\n",
      "20 20\n",
      "\n"
     ]
    }
   ],
   "source": [
    "print(repr(ac))"
   ]
  },
  {
   "cell_type": "code",
   "execution_count": 35,
   "metadata": {
    "collapsed": false
   },
   "outputs": [
    {
     "data": {
      "text/html": [
       "&lt;AlleleCountsArray shape=(20, 2) dtype=int32><table><tr><th></th><th style=\"text-align: center\">0</th><th style=\"text-align: center\">1</th></tr><tr><th style=\"text-align: center\">0</th><td style=\"text-align: center\">25</td><td style=\"text-align: center\">25</td></tr><tr><th style=\"text-align: center\">1</th><td style=\"text-align: center\">25</td><td style=\"text-align: center\">25</td></tr><tr><th style=\"text-align: center\">2</th><td style=\"text-align: center\">25</td><td style=\"text-align: center\">25</td></tr><tr><th style=\"text-align: center\">...</th><td style=\"text-align: center\" colspan=3>...</td></tr><tr><th style=\"text-align: center\">17</th><td style=\"text-align: center\">25</td><td style=\"text-align: center\">25</td></tr><tr><th style=\"text-align: center\">18</th><td style=\"text-align: center\">25</td><td style=\"text-align: center\">25</td></tr><tr><th style=\"text-align: center\">19</th><td style=\"text-align: center\">25</td><td style=\"text-align: center\">25</td></tr></table>"
      ],
      "text/plain": [
       "<AlleleCountsArray shape=(20, 2) dtype=int32>\n",
       "25 25\n",
       "25 25\n",
       "25 25\n",
       " ... \n",
       "25 25\n",
       "25 25\n",
       "25 25"
      ]
     },
     "execution_count": 35,
     "metadata": {},
     "output_type": "execute_result"
    }
   ],
   "source": [
    "ac + 5"
   ]
  },
  {
   "cell_type": "code",
   "execution_count": 36,
   "metadata": {
    "collapsed": false
   },
   "outputs": [
    {
     "data": {
      "text/html": [
       "&lt;AlleleCountsArray shape=(20, 2) dtype=int32><table><tr><th></th><th style=\"text-align: center\">0</th><th style=\"text-align: center\">1</th></tr><tr><th style=\"text-align: center\">0</th><td style=\"text-align: center\">40</td><td style=\"text-align: center\">40</td></tr><tr><th style=\"text-align: center\">1</th><td style=\"text-align: center\">40</td><td style=\"text-align: center\">40</td></tr><tr><th style=\"text-align: center\">2</th><td style=\"text-align: center\">40</td><td style=\"text-align: center\">40</td></tr><tr><th style=\"text-align: center\">...</th><td style=\"text-align: center\" colspan=3>...</td></tr><tr><th style=\"text-align: center\">17</th><td style=\"text-align: center\">40</td><td style=\"text-align: center\">40</td></tr><tr><th style=\"text-align: center\">18</th><td style=\"text-align: center\">40</td><td style=\"text-align: center\">40</td></tr><tr><th style=\"text-align: center\">19</th><td style=\"text-align: center\">40</td><td style=\"text-align: center\">40</td></tr></table>"
      ],
      "text/plain": [
       "<AlleleCountsArray shape=(20, 2) dtype=int32>\n",
       "40 40\n",
       "40 40\n",
       "40 40\n",
       " ... \n",
       "40 40\n",
       "40 40\n",
       "40 40"
      ]
     },
     "execution_count": 36,
     "metadata": {},
     "output_type": "execute_result"
    }
   ],
   "source": [
    "ac + ac"
   ]
  },
  {
   "cell_type": "code",
   "execution_count": 37,
   "metadata": {
    "collapsed": false
   },
   "outputs": [
    {
     "data": {
      "text/html": [
       "&lt;AlleleCountsArray shape=(40, 2) dtype=int32><table><tr><th></th><th style=\"text-align: center\">0</th><th style=\"text-align: center\">1</th></tr><tr><th style=\"text-align: center\">0</th><td style=\"text-align: center\">20</td><td style=\"text-align: center\">20</td></tr><tr><th style=\"text-align: center\">1</th><td style=\"text-align: center\">20</td><td style=\"text-align: center\">20</td></tr><tr><th style=\"text-align: center\">2</th><td style=\"text-align: center\">20</td><td style=\"text-align: center\">20</td></tr><tr><th style=\"text-align: center\">...</th><td style=\"text-align: center\" colspan=3>...</td></tr><tr><th style=\"text-align: center\">37</th><td style=\"text-align: center\">20</td><td style=\"text-align: center\">20</td></tr><tr><th style=\"text-align: center\">38</th><td style=\"text-align: center\">20</td><td style=\"text-align: center\">20</td></tr><tr><th style=\"text-align: center\">39</th><td style=\"text-align: center\">20</td><td style=\"text-align: center\">20</td></tr></table>"
      ],
      "text/plain": [
       "<AlleleCountsArray shape=(40, 2) dtype=int32>\n",
       "20 20\n",
       "20 20\n",
       "20 20\n",
       " ... \n",
       "20 20\n",
       "20 20\n",
       "20 20"
      ]
     },
     "execution_count": 37,
     "metadata": {},
     "output_type": "execute_result"
    }
   ],
   "source": [
    "ac.concatenate(ac)"
   ]
  },
  {
   "cell_type": "code",
   "execution_count": 38,
   "metadata": {
    "collapsed": false
   },
   "outputs": [
    {
     "data": {
      "text/plain": [
       "array([[20, 20, 20, 20],\n",
       "       [20, 20, 20, 20],\n",
       "       [20, 20, 20, 20],\n",
       "       [20, 20, 20, 20],\n",
       "       [20, 20, 20, 20],\n",
       "       [20, 20, 20, 20],\n",
       "       [20, 20, 20, 20],\n",
       "       [20, 20, 20, 20],\n",
       "       [20, 20, 20, 20],\n",
       "       [20, 20, 20, 20],\n",
       "       [20, 20, 20, 20],\n",
       "       [20, 20, 20, 20],\n",
       "       [20, 20, 20, 20],\n",
       "       [20, 20, 20, 20],\n",
       "       [20, 20, 20, 20],\n",
       "       [20, 20, 20, 20],\n",
       "       [20, 20, 20, 20],\n",
       "       [20, 20, 20, 20],\n",
       "       [20, 20, 20, 20],\n",
       "       [20, 20, 20, 20]], dtype=int32)"
      ]
     },
     "execution_count": 38,
     "metadata": {},
     "output_type": "execute_result"
    }
   ],
   "source": [
    "ac.concatenate(ac, axis=1)"
   ]
  },
  {
   "cell_type": "markdown",
   "metadata": {},
   "source": [
    "## VariantTable"
   ]
  },
  {
   "cell_type": "code",
   "execution_count": 39,
   "metadata": {
    "collapsed": false
   },
   "outputs": [
    {
     "data": {
      "text/html": [
       "&lt;VariantTable shape=(48790,) dtype=(numpy.record, [('POS', '&lt;i8'), ('REF', 'S1'), ('ALT', 'S1')])><table><tr><th></th><th style=\"text-align: center\">POS</th><th style=\"text-align: center\">REF</th><th style=\"text-align: center\">ALT</th></tr><tr><th style=\"text-align: center\">0</th><td style=\"text-align: center\">36</td><td style=\"text-align: center\">b'C'</td><td style=\"text-align: center\">b'G'</td></tr><tr><th style=\"text-align: center\">1</th><td style=\"text-align: center\">40</td><td style=\"text-align: center\">b'C'</td><td style=\"text-align: center\">b'A'</td></tr><tr><th style=\"text-align: center\">2</th><td style=\"text-align: center\">94</td><td style=\"text-align: center\">b'T'</td><td style=\"text-align: center\">b'T'</td></tr><tr><th style=\"text-align: center\">...</th><td style=\"text-align: center\" colspan=4>...</td></tr><tr><th style=\"text-align: center\">48787</th><td style=\"text-align: center\">999947</td><td style=\"text-align: center\">b'A'</td><td style=\"text-align: center\">b'C'</td></tr><tr><th style=\"text-align: center\">48788</th><td style=\"text-align: center\">999963</td><td style=\"text-align: center\">b'A'</td><td style=\"text-align: center\">b'G'</td></tr><tr><th style=\"text-align: center\">48789</th><td style=\"text-align: center\">999966</td><td style=\"text-align: center\">b'A'</td><td style=\"text-align: center\">b'C'</td></tr></table>"
      ],
      "text/plain": [
       "<VariantTable shape=(48790,) dtype=(numpy.record, [('POS', '<i8'), ('REF', 'S1'), ('ALT', 'S1')])>\n",
       "[(36, b'C', b'G') (40, b'C', b'A') (94, b'T', b'T') ...,\n",
       " (999947, b'A', b'C') (999963, b'A', b'G') (999966, b'A', b'C')]"
      ]
     },
     "execution_count": 39,
     "metadata": {},
     "output_type": "execute_result"
    }
   ],
   "source": [
    "pos = np.unique(np.random.randint(0, 1000000, size=50000))\n",
    "ref = np.random.choice([b'A', b'C', b'T', b'G'], size=pos.shape[0])\n",
    "alt = np.random.choice([b'A', b'C', b'T', b'G'], size=pos.shape[0])\n",
    "ra = np.rec.fromarrays([pos, ref, alt], names=['POS', 'REF', 'ALT'])\n",
    "vtbl = allel.VariantTable(ra)\n",
    "vtbl"
   ]
  },
  {
   "cell_type": "code",
   "execution_count": 40,
   "metadata": {
    "collapsed": false
   },
   "outputs": [
    {
     "data": {
      "text/html": [
       "&lt;VariantTable shape=(5,) dtype=(numpy.record, [('POS', '&lt;i8'), ('REF', 'S1'), ('ALT', 'S1')])><table><tr><th></th><th style=\"text-align: center\">POS</th><th style=\"text-align: center\">REF</th><th style=\"text-align: center\">ALT</th></tr><tr><th style=\"text-align: center\">0</th><td style=\"text-align: center\">36</td><td style=\"text-align: center\">b'C'</td><td style=\"text-align: center\">b'G'</td></tr><tr><th style=\"text-align: center\">1</th><td style=\"text-align: center\">40</td><td style=\"text-align: center\">b'C'</td><td style=\"text-align: center\">b'A'</td></tr><tr><th style=\"text-align: center\">2</th><td style=\"text-align: center\">94</td><td style=\"text-align: center\">b'T'</td><td style=\"text-align: center\">b'T'</td></tr><tr><th style=\"text-align: center\">3</th><td style=\"text-align: center\">98</td><td style=\"text-align: center\">b'C'</td><td style=\"text-align: center\">b'G'</td></tr><tr><th style=\"text-align: center\">4</th><td style=\"text-align: center\">108</td><td style=\"text-align: center\">b'C'</td><td style=\"text-align: center\">b'G'</td></tr></table>"
      ],
      "text/plain": [
       "<VariantTable shape=(5,) dtype=(numpy.record, [('POS', '<i8'), ('REF', 'S1'), ('ALT', 'S1')])>\n",
       "[(36, b'C', b'G') (40, b'C', b'A') (94, b'T', b'T') (98, b'C', b'G')\n",
       " (108, b'C', b'G')]"
      ]
     },
     "execution_count": 40,
     "metadata": {},
     "output_type": "execute_result"
    }
   ],
   "source": [
    "vtbl[:5]"
   ]
  },
  {
   "cell_type": "code",
   "execution_count": 41,
   "metadata": {
    "collapsed": false
   },
   "outputs": [
    {
     "data": {
      "text/html": [
       "&lt;VariantTable shape=(20,) dtype=(numpy.record, [('POS', '&lt;i8'), ('REF', 'S1'), ('ALT', 'S1')])><table><tr><th></th><th style=\"text-align: center\">POS</th><th style=\"text-align: center\">REF</th><th style=\"text-align: center\">ALT</th></tr><tr><th style=\"text-align: center\">0</th><td style=\"text-align: center\">36</td><td style=\"text-align: center\">b'C'</td><td style=\"text-align: center\">b'G'</td></tr><tr><th style=\"text-align: center\">1</th><td style=\"text-align: center\">40</td><td style=\"text-align: center\">b'C'</td><td style=\"text-align: center\">b'A'</td></tr><tr><th style=\"text-align: center\">2</th><td style=\"text-align: center\">94</td><td style=\"text-align: center\">b'T'</td><td style=\"text-align: center\">b'T'</td></tr><tr><th style=\"text-align: center\">3</th><td style=\"text-align: center\">98</td><td style=\"text-align: center\">b'C'</td><td style=\"text-align: center\">b'G'</td></tr><tr><th style=\"text-align: center\">4</th><td style=\"text-align: center\">108</td><td style=\"text-align: center\">b'C'</td><td style=\"text-align: center\">b'G'</td></tr><tr><th style=\"text-align: center\">5</th><td style=\"text-align: center\">172</td><td style=\"text-align: center\">b'A'</td><td style=\"text-align: center\">b'C'</td></tr><tr><th style=\"text-align: center\">6</th><td style=\"text-align: center\">201</td><td style=\"text-align: center\">b'T'</td><td style=\"text-align: center\">b'C'</td></tr><tr><th style=\"text-align: center\">7</th><td style=\"text-align: center\">236</td><td style=\"text-align: center\">b'T'</td><td style=\"text-align: center\">b'G'</td></tr><tr><th style=\"text-align: center\">8</th><td style=\"text-align: center\">237</td><td style=\"text-align: center\">b'T'</td><td style=\"text-align: center\">b'G'</td></tr><tr><th style=\"text-align: center\">9</th><td style=\"text-align: center\">250</td><td style=\"text-align: center\">b'A'</td><td style=\"text-align: center\">b'C'</td></tr><tr><th style=\"text-align: center\">10</th><td style=\"text-align: center\">266</td><td style=\"text-align: center\">b'T'</td><td style=\"text-align: center\">b'T'</td></tr><tr><th style=\"text-align: center\">11</th><td style=\"text-align: center\">277</td><td style=\"text-align: center\">b'G'</td><td style=\"text-align: center\">b'C'</td></tr><tr><th style=\"text-align: center\">12</th><td style=\"text-align: center\">295</td><td style=\"text-align: center\">b'C'</td><td style=\"text-align: center\">b'A'</td></tr><tr><th style=\"text-align: center\">13</th><td style=\"text-align: center\">335</td><td style=\"text-align: center\">b'A'</td><td style=\"text-align: center\">b'G'</td></tr><tr><th style=\"text-align: center\">14</th><td style=\"text-align: center\">384</td><td style=\"text-align: center\">b'C'</td><td style=\"text-align: center\">b'C'</td></tr><tr><th style=\"text-align: center\">15</th><td style=\"text-align: center\">400</td><td style=\"text-align: center\">b'G'</td><td style=\"text-align: center\">b'A'</td></tr><tr><th style=\"text-align: center\">16</th><td style=\"text-align: center\">401</td><td style=\"text-align: center\">b'C'</td><td style=\"text-align: center\">b'G'</td></tr><tr><th style=\"text-align: center\">17</th><td style=\"text-align: center\">431</td><td style=\"text-align: center\">b'C'</td><td style=\"text-align: center\">b'C'</td></tr><tr><th style=\"text-align: center\">18</th><td style=\"text-align: center\">439</td><td style=\"text-align: center\">b'G'</td><td style=\"text-align: center\">b'T'</td></tr><tr><th style=\"text-align: center\">19</th><td style=\"text-align: center\">441</td><td style=\"text-align: center\">b'C'</td><td style=\"text-align: center\">b'A'</td></tr></table>"
      ]
     },
     "metadata": {},
     "output_type": "display_data"
    }
   ],
   "source": [
    "vtbl[:20].displayall()"
   ]
  },
  {
   "cell_type": "code",
   "execution_count": 42,
   "metadata": {
    "collapsed": false
   },
   "outputs": [
    {
     "data": {
      "text/html": [
       "&lt;VariantTable shape=(5,) dtype=(numpy.record, [('POS', '&lt;i8'), ('REF', 'S1'), ('ALT', 'S1')])><table><tr><th></th><th style=\"text-align: center\">POS</th><th style=\"text-align: center\">REF</th><th style=\"text-align: center\">ALT</th></tr><tr><th style=\"text-align: center\">0</th><td style=\"text-align: center\">36</td><td style=\"text-align: center\">b'C'</td><td style=\"text-align: center\">b'G'</td></tr><tr><th style=\"text-align: center\">1</th><td style=\"text-align: center\">40</td><td style=\"text-align: center\">b'C'</td><td style=\"text-align: center\">b'A'</td></tr><tr><th style=\"text-align: center\">2</th><td style=\"text-align: center\">94</td><td style=\"text-align: center\">b'T'</td><td style=\"text-align: center\">b'T'</td></tr><tr><th style=\"text-align: center\">3</th><td style=\"text-align: center\">98</td><td style=\"text-align: center\">b'C'</td><td style=\"text-align: center\">b'G'</td></tr><tr><th style=\"text-align: center\">4</th><td style=\"text-align: center\">108</td><td style=\"text-align: center\">b'C'</td><td style=\"text-align: center\">b'G'</td></tr></table>"
      ],
      "text/plain": [
       "<VariantTable shape=(5,) dtype=(numpy.record, [('POS', '<i8'), ('REF', 'S1'), ('ALT', 'S1')])>\n",
       "[(36, b'C', b'G') (40, b'C', b'A') (94, b'T', b'T') (98, b'C', b'G')\n",
       " (108, b'C', b'G')]"
      ]
     },
     "execution_count": 42,
     "metadata": {},
     "output_type": "execute_result"
    }
   ],
   "source": [
    "vtbl.take(list(range(5)))"
   ]
  },
  {
   "cell_type": "code",
   "execution_count": 43,
   "metadata": {
    "collapsed": false
   },
   "outputs": [
    {
     "data": {
      "text/html": [
       "&lt;VariantTable shape=(24408,) dtype=(numpy.record, [('POS', '&lt;i8'), ('REF', 'S1'), ('ALT', 'S1')])><table><tr><th></th><th style=\"text-align: center\">POS</th><th style=\"text-align: center\">REF</th><th style=\"text-align: center\">ALT</th></tr><tr><th style=\"text-align: center\">0</th><td style=\"text-align: center\">36</td><td style=\"text-align: center\">b'C'</td><td style=\"text-align: center\">b'G'</td></tr><tr><th style=\"text-align: center\">1</th><td style=\"text-align: center\">40</td><td style=\"text-align: center\">b'C'</td><td style=\"text-align: center\">b'A'</td></tr><tr><th style=\"text-align: center\">2</th><td style=\"text-align: center\">94</td><td style=\"text-align: center\">b'T'</td><td style=\"text-align: center\">b'T'</td></tr><tr><th style=\"text-align: center\">...</th><td style=\"text-align: center\" colspan=4>...</td></tr><tr><th style=\"text-align: center\">24405</th><td style=\"text-align: center\">999906</td><td style=\"text-align: center\">b'G'</td><td style=\"text-align: center\">b'C'</td></tr><tr><th style=\"text-align: center\">24406</th><td style=\"text-align: center\">999924</td><td style=\"text-align: center\">b'T'</td><td style=\"text-align: center\">b'A'</td></tr><tr><th style=\"text-align: center\">24407</th><td style=\"text-align: center\">999947</td><td style=\"text-align: center\">b'A'</td><td style=\"text-align: center\">b'C'</td></tr></table>"
      ],
      "text/plain": [
       "<VariantTable shape=(24408,) dtype=(numpy.record, [('POS', '<i8'), ('REF', 'S1'), ('ALT', 'S1')])>\n",
       "[(36, b'C', b'G') (40, b'C', b'A') (94, b'T', b'T') ...,\n",
       " (999906, b'G', b'C') (999924, b'T', b'A') (999947, b'A', b'C')]"
      ]
     },
     "execution_count": 43,
     "metadata": {},
     "output_type": "execute_result"
    }
   ],
   "source": [
    "vtbl.compress(np.random.randint(0, 2, size=vtbl.shape[0]).astype(bool))"
   ]
  },
  {
   "cell_type": "code",
   "execution_count": 44,
   "metadata": {
    "collapsed": false
   },
   "outputs": [
    {
     "data": {
      "text/html": [
       "&lt;VariantTable shape=(97580,) dtype=(numpy.record, [('POS', '&lt;i8'), ('REF', 'S1'), ('ALT', 'S1')])><table><tr><th></th><th style=\"text-align: center\">POS</th><th style=\"text-align: center\">REF</th><th style=\"text-align: center\">ALT</th></tr><tr><th style=\"text-align: center\">0</th><td style=\"text-align: center\">36</td><td style=\"text-align: center\">b'C'</td><td style=\"text-align: center\">b'G'</td></tr><tr><th style=\"text-align: center\">1</th><td style=\"text-align: center\">40</td><td style=\"text-align: center\">b'C'</td><td style=\"text-align: center\">b'A'</td></tr><tr><th style=\"text-align: center\">2</th><td style=\"text-align: center\">94</td><td style=\"text-align: center\">b'T'</td><td style=\"text-align: center\">b'T'</td></tr><tr><th style=\"text-align: center\">...</th><td style=\"text-align: center\" colspan=4>...</td></tr><tr><th style=\"text-align: center\">97577</th><td style=\"text-align: center\">999947</td><td style=\"text-align: center\">b'A'</td><td style=\"text-align: center\">b'C'</td></tr><tr><th style=\"text-align: center\">97578</th><td style=\"text-align: center\">999963</td><td style=\"text-align: center\">b'A'</td><td style=\"text-align: center\">b'G'</td></tr><tr><th style=\"text-align: center\">97579</th><td style=\"text-align: center\">999966</td><td style=\"text-align: center\">b'A'</td><td style=\"text-align: center\">b'C'</td></tr></table>"
      ],
      "text/plain": [
       "<VariantTable shape=(97580,) dtype=(numpy.record, [('POS', '<i8'), ('REF', 'S1'), ('ALT', 'S1')])>\n",
       "[(36, b'C', b'G') (40, b'C', b'A') (94, b'T', b'T') ...,\n",
       " (999947, b'A', b'C') (999963, b'A', b'G') (999966, b'A', b'C')]"
      ]
     },
     "execution_count": 44,
     "metadata": {},
     "output_type": "execute_result"
    }
   ],
   "source": [
    "vtbl.concatenate(vtbl)"
   ]
  },
  {
   "cell_type": "code",
   "execution_count": 45,
   "metadata": {
    "collapsed": false
   },
   "outputs": [
    {
     "data": {
      "text/html": [
       "&lt;VariantTable shape=(48790,) dtype=(numpy.record, [('POS', '&lt;i8'), ('ALT', 'S1')])><table><tr><th></th><th style=\"text-align: center\">POS</th><th style=\"text-align: center\">ALT</th></tr><tr><th style=\"text-align: center\">0</th><td style=\"text-align: center\">36</td><td style=\"text-align: center\">b'G'</td></tr><tr><th style=\"text-align: center\">1</th><td style=\"text-align: center\">40</td><td style=\"text-align: center\">b'A'</td></tr><tr><th style=\"text-align: center\">2</th><td style=\"text-align: center\">94</td><td style=\"text-align: center\">b'T'</td></tr><tr><th style=\"text-align: center\">...</th><td style=\"text-align: center\" colspan=3>...</td></tr><tr><th style=\"text-align: center\">48787</th><td style=\"text-align: center\">999947</td><td style=\"text-align: center\">b'C'</td></tr><tr><th style=\"text-align: center\">48788</th><td style=\"text-align: center\">999963</td><td style=\"text-align: center\">b'G'</td></tr><tr><th style=\"text-align: center\">48789</th><td style=\"text-align: center\">999966</td><td style=\"text-align: center\">b'C'</td></tr></table>"
      ],
      "text/plain": [
       "<VariantTable shape=(48790,) dtype=(numpy.record, [('POS', '<i8'), ('ALT', 'S1')])>\n",
       "[(36, b'G') (40, b'A') (94, b'T') ..., (999947, b'C') (999963, b'G')\n",
       " (999966, b'C')]"
      ]
     },
     "execution_count": 45,
     "metadata": {},
     "output_type": "execute_result"
    }
   ],
   "source": [
    "vtbl[['POS', 'ALT']]"
   ]
  },
  {
   "cell_type": "code",
   "execution_count": 46,
   "metadata": {
    "collapsed": false
   },
   "outputs": [
    {
     "name": "stdout",
     "output_type": "stream",
     "text": [
      "[(36, b'C', b'G') (40, b'C', b'A') (94, b'T', b'T') ...,\n",
      " (999947, b'A', b'C') (999963, b'A', b'G') (999966, b'A', b'C')]\n"
     ]
    }
   ],
   "source": [
    "print(vtbl)"
   ]
  },
  {
   "cell_type": "code",
   "execution_count": 47,
   "metadata": {
    "collapsed": false
   },
   "outputs": [
    {
     "name": "stdout",
     "output_type": "stream",
     "text": [
      "<VariantTable shape=(48790,) dtype=(numpy.record, [('POS', '<i8'), ('REF', 'S1'), ('ALT', 'S1')])>\n",
      "[(36, b'C', b'G') (40, b'C', b'A') (94, b'T', b'T') ...,\n",
      " (999947, b'A', b'C') (999963, b'A', b'G') (999966, b'A', b'C')]\n"
     ]
    }
   ],
   "source": [
    "print(repr(vtbl))"
   ]
  },
  {
   "cell_type": "markdown",
   "metadata": {},
   "source": [
    "## Chunked stuff"
   ]
  },
  {
   "cell_type": "code",
   "execution_count": 48,
   "metadata": {
    "collapsed": false
   },
   "outputs": [
    {
     "data": {
      "text/html": [
       "&lt;GenotypeChunkedArray shape=(20, 40, 2) dtype=int64 chunks=(204, 40, 2)\n",
       "   nbytes=12.5K cbytes=127.5K cratio=0.1\n",
       "   compression=blosc compression_opts=cparams(clevel=5, shuffle=1, cname='lz4', quantize=0)\n",
       "   values=bcolz.carray_ext.carray><table><tr><th></th><th style=\"text-align: center\">0</th><th style=\"text-align: center\">1</th><th style=\"text-align: center\">2</th><th style=\"text-align: center\">3</th><th style=\"text-align: center\">4</th><th style=\"text-align: center\"> ... </th><th style=\"text-align: center\">35</th><th style=\"text-align: center\">36</th><th style=\"text-align: center\">37</th><th style=\"text-align: center\">38</th><th style=\"text-align: center\">39</th></tr><tr><th style=\"text-align: center\">0</th><td style=\"text-align: center\">0/1</td><td style=\"text-align: center\">./.</td><td style=\"text-align: center\">0/1</td><td style=\"text-align: center\">./.</td><td style=\"text-align: center\">0/1</td><td style=\"text-align: center\"> ... </td><td style=\"text-align: center\">./.</td><td style=\"text-align: center\">0/1</td><td style=\"text-align: center\">./.</td><td style=\"text-align: center\">0/1</td><td style=\"text-align: center\">./.</td></tr><tr><th style=\"text-align: center\">1</th><td style=\"text-align: center\">0/1</td><td style=\"text-align: center\">./.</td><td style=\"text-align: center\">0/1</td><td style=\"text-align: center\">./.</td><td style=\"text-align: center\">0/1</td><td style=\"text-align: center\"> ... </td><td style=\"text-align: center\">./.</td><td style=\"text-align: center\">0/1</td><td style=\"text-align: center\">./.</td><td style=\"text-align: center\">0/1</td><td style=\"text-align: center\">./.</td></tr><tr><th style=\"text-align: center\">2</th><td style=\"text-align: center\">0/1</td><td style=\"text-align: center\">./.</td><td style=\"text-align: center\">0/1</td><td style=\"text-align: center\">./.</td><td style=\"text-align: center\">0/1</td><td style=\"text-align: center\"> ... </td><td style=\"text-align: center\">./.</td><td style=\"text-align: center\">0/1</td><td style=\"text-align: center\">./.</td><td style=\"text-align: center\">0/1</td><td style=\"text-align: center\">./.</td></tr><tr><th style=\"text-align: center\">...</th><td style=\"text-align: center\" colspan=12>...</td></tr><tr><th style=\"text-align: center\">17</th><td style=\"text-align: center\">0/1</td><td style=\"text-align: center\">./.</td><td style=\"text-align: center\">0/1</td><td style=\"text-align: center\">./.</td><td style=\"text-align: center\">0/1</td><td style=\"text-align: center\"> ... </td><td style=\"text-align: center\">./.</td><td style=\"text-align: center\">0/1</td><td style=\"text-align: center\">./.</td><td style=\"text-align: center\">0/1</td><td style=\"text-align: center\">./.</td></tr><tr><th style=\"text-align: center\">18</th><td style=\"text-align: center\">0/1</td><td style=\"text-align: center\">./.</td><td style=\"text-align: center\">0/1</td><td style=\"text-align: center\">./.</td><td style=\"text-align: center\">0/1</td><td style=\"text-align: center\"> ... </td><td style=\"text-align: center\">./.</td><td style=\"text-align: center\">0/1</td><td style=\"text-align: center\">./.</td><td style=\"text-align: center\">0/1</td><td style=\"text-align: center\">./.</td></tr><tr><th style=\"text-align: center\">19</th><td style=\"text-align: center\">0/1</td><td style=\"text-align: center\">./.</td><td style=\"text-align: center\">0/1</td><td style=\"text-align: center\">./.</td><td style=\"text-align: center\">0/1</td><td style=\"text-align: center\"> ... </td><td style=\"text-align: center\">./.</td><td style=\"text-align: center\">0/1</td><td style=\"text-align: center\">./.</td><td style=\"text-align: center\">0/1</td><td style=\"text-align: center\">./.</td></tr></table>"
      ],
      "text/plain": [
       "<GenotypeChunkedArray shape=(20, 40, 2) dtype=int64 chunks=(204, 40, 2)\n",
       "   nbytes=12.5K cbytes=127.5K cratio=0.1\n",
       "   compression=blosc compression_opts=cparams(clevel=5, shuffle=1, cname='lz4', quantize=0)\n",
       "   values=bcolz.carray_ext.carray>"
      ]
     },
     "execution_count": 48,
     "metadata": {},
     "output_type": "execute_result"
    }
   ],
   "source": [
    "gc = allel.GenotypeChunkedArray(g).copy()\n",
    "gc"
   ]
  },
  {
   "cell_type": "code",
   "execution_count": 49,
   "metadata": {
    "collapsed": false
   },
   "outputs": [
    {
     "name": "stdout",
     "output_type": "stream",
     "text": [
      "0/1 ./. 0/1 ./. 0/1  ...  ./. 0/1 ./. 0/1 ./.\n",
      "0/1 ./. 0/1 ./. 0/1  ...  ./. 0/1 ./. 0/1 ./.\n",
      "0/1 ./. 0/1 ./. 0/1  ...  ./. 0/1 ./. 0/1 ./.\n",
      " ... \n",
      "0/1 ./. 0/1 ./. 0/1  ...  ./. 0/1 ./. 0/1 ./.\n",
      "0/1 ./. 0/1 ./. 0/1  ...  ./. 0/1 ./. 0/1 ./.\n",
      "0/1 ./. 0/1 ./. 0/1  ...  ./. 0/1 ./. 0/1 ./.\n",
      "\n"
     ]
    }
   ],
   "source": [
    "print(gc)"
   ]
  },
  {
   "cell_type": "code",
   "execution_count": 50,
   "metadata": {
    "collapsed": false
   },
   "outputs": [
    {
     "name": "stdout",
     "output_type": "stream",
     "text": [
      "<GenotypeChunkedArray shape=(20, 40, 2) dtype=int64 chunks=(204, 40, 2)\n",
      "   nbytes=12.5K cbytes=127.5K cratio=0.1\n",
      "   compression=blosc compression_opts=cparams(clevel=5, shuffle=1, cname='lz4', quantize=0)\n",
      "   values=bcolz.carray_ext.carray>\n"
     ]
    }
   ],
   "source": [
    "print(repr(gc))"
   ]
  },
  {
   "cell_type": "code",
   "execution_count": 51,
   "metadata": {
    "collapsed": false
   },
   "outputs": [
    {
     "data": {
      "text/html": [
       "&lt;GenotypeArray shape=(5, 40, 2) dtype=int64><table><tr><th></th><th style=\"text-align: center\">0</th><th style=\"text-align: center\">1</th><th style=\"text-align: center\">2</th><th style=\"text-align: center\">3</th><th style=\"text-align: center\">4</th><th style=\"text-align: center\"> ... </th><th style=\"text-align: center\">35</th><th style=\"text-align: center\">36</th><th style=\"text-align: center\">37</th><th style=\"text-align: center\">38</th><th style=\"text-align: center\">39</th></tr><tr><th style=\"text-align: center\">0</th><td style=\"text-align: center\">0/1</td><td style=\"text-align: center\">./.</td><td style=\"text-align: center\">0/1</td><td style=\"text-align: center\">./.</td><td style=\"text-align: center\">0/1</td><td style=\"text-align: center\"> ... </td><td style=\"text-align: center\">./.</td><td style=\"text-align: center\">0/1</td><td style=\"text-align: center\">./.</td><td style=\"text-align: center\">0/1</td><td style=\"text-align: center\">./.</td></tr><tr><th style=\"text-align: center\">1</th><td style=\"text-align: center\">0/1</td><td style=\"text-align: center\">./.</td><td style=\"text-align: center\">0/1</td><td style=\"text-align: center\">./.</td><td style=\"text-align: center\">0/1</td><td style=\"text-align: center\"> ... </td><td style=\"text-align: center\">./.</td><td style=\"text-align: center\">0/1</td><td style=\"text-align: center\">./.</td><td style=\"text-align: center\">0/1</td><td style=\"text-align: center\">./.</td></tr><tr><th style=\"text-align: center\">2</th><td style=\"text-align: center\">0/1</td><td style=\"text-align: center\">./.</td><td style=\"text-align: center\">0/1</td><td style=\"text-align: center\">./.</td><td style=\"text-align: center\">0/1</td><td style=\"text-align: center\"> ... </td><td style=\"text-align: center\">./.</td><td style=\"text-align: center\">0/1</td><td style=\"text-align: center\">./.</td><td style=\"text-align: center\">0/1</td><td style=\"text-align: center\">./.</td></tr><tr><th style=\"text-align: center\">3</th><td style=\"text-align: center\">0/1</td><td style=\"text-align: center\">./.</td><td style=\"text-align: center\">0/1</td><td style=\"text-align: center\">./.</td><td style=\"text-align: center\">0/1</td><td style=\"text-align: center\"> ... </td><td style=\"text-align: center\">./.</td><td style=\"text-align: center\">0/1</td><td style=\"text-align: center\">./.</td><td style=\"text-align: center\">0/1</td><td style=\"text-align: center\">./.</td></tr><tr><th style=\"text-align: center\">4</th><td style=\"text-align: center\">0/1</td><td style=\"text-align: center\">./.</td><td style=\"text-align: center\">0/1</td><td style=\"text-align: center\">./.</td><td style=\"text-align: center\">0/1</td><td style=\"text-align: center\"> ... </td><td style=\"text-align: center\">./.</td><td style=\"text-align: center\">0/1</td><td style=\"text-align: center\">./.</td><td style=\"text-align: center\">0/1</td><td style=\"text-align: center\">./.</td></tr></table>"
      ],
      "text/plain": [
       "<GenotypeArray shape=(5, 40, 2) dtype=int64>\n",
       "0/1 ./. 0/1 ./. 0/1  ...  ./. 0/1 ./. 0/1 ./.\n",
       "0/1 ./. 0/1 ./. 0/1  ...  ./. 0/1 ./. 0/1 ./.\n",
       "0/1 ./. 0/1 ./. 0/1  ...  ./. 0/1 ./. 0/1 ./.\n",
       "0/1 ./. 0/1 ./. 0/1  ...  ./. 0/1 ./. 0/1 ./.\n",
       "0/1 ./. 0/1 ./. 0/1  ...  ./. 0/1 ./. 0/1 ./."
      ]
     },
     "execution_count": 51,
     "metadata": {},
     "output_type": "execute_result"
    }
   ],
   "source": [
    "gc[:5]"
   ]
  },
  {
   "cell_type": "code",
   "execution_count": 52,
   "metadata": {
    "collapsed": false
   },
   "outputs": [
    {
     "data": {
      "text/html": [
       "&lt;GenotypeArray shape=(20, 5, 2) dtype=int64><table><tr><th></th><th style=\"text-align: center\">0</th><th style=\"text-align: center\">1</th><th style=\"text-align: center\">2</th><th style=\"text-align: center\">3</th><th style=\"text-align: center\">4</th></tr><tr><th style=\"text-align: center\">0</th><td style=\"text-align: center\">0/1</td><td style=\"text-align: center\">./.</td><td style=\"text-align: center\">0/1</td><td style=\"text-align: center\">./.</td><td style=\"text-align: center\">0/1</td></tr><tr><th style=\"text-align: center\">1</th><td style=\"text-align: center\">0/1</td><td style=\"text-align: center\">./.</td><td style=\"text-align: center\">0/1</td><td style=\"text-align: center\">./.</td><td style=\"text-align: center\">0/1</td></tr><tr><th style=\"text-align: center\">2</th><td style=\"text-align: center\">0/1</td><td style=\"text-align: center\">./.</td><td style=\"text-align: center\">0/1</td><td style=\"text-align: center\">./.</td><td style=\"text-align: center\">0/1</td></tr><tr><th style=\"text-align: center\">...</th><td style=\"text-align: center\" colspan=6>...</td></tr><tr><th style=\"text-align: center\">17</th><td style=\"text-align: center\">0/1</td><td style=\"text-align: center\">./.</td><td style=\"text-align: center\">0/1</td><td style=\"text-align: center\">./.</td><td style=\"text-align: center\">0/1</td></tr><tr><th style=\"text-align: center\">18</th><td style=\"text-align: center\">0/1</td><td style=\"text-align: center\">./.</td><td style=\"text-align: center\">0/1</td><td style=\"text-align: center\">./.</td><td style=\"text-align: center\">0/1</td></tr><tr><th style=\"text-align: center\">19</th><td style=\"text-align: center\">0/1</td><td style=\"text-align: center\">./.</td><td style=\"text-align: center\">0/1</td><td style=\"text-align: center\">./.</td><td style=\"text-align: center\">0/1</td></tr></table>"
      ],
      "text/plain": [
       "<GenotypeArray shape=(20, 5, 2) dtype=int64>\n",
       "0/1 ./. 0/1 ./. 0/1\n",
       "0/1 ./. 0/1 ./. 0/1\n",
       "0/1 ./. 0/1 ./. 0/1\n",
       " ... \n",
       "0/1 ./. 0/1 ./. 0/1\n",
       "0/1 ./. 0/1 ./. 0/1\n",
       "0/1 ./. 0/1 ./. 0/1"
      ]
     },
     "execution_count": 52,
     "metadata": {},
     "output_type": "execute_result"
    }
   ],
   "source": [
    "gc[:, :5]"
   ]
  },
  {
   "cell_type": "code",
   "execution_count": 53,
   "metadata": {
    "collapsed": false
   },
   "outputs": [
    {
     "data": {
      "text/html": [
       "&lt;GenotypeVector shape=(40, 2) dtype=int64><table><tr><th style=\"text-align: center\">0</th><th style=\"text-align: center\">1</th><th style=\"text-align: center\">2</th><th style=\"text-align: center\">3</th><th style=\"text-align: center\">4</th><th style=\"text-align: center\"> ... </th><th style=\"text-align: center\">35</th><th style=\"text-align: center\">36</th><th style=\"text-align: center\">37</th><th style=\"text-align: center\">38</th><th style=\"text-align: center\">39</th></tr><tr><td style=\"text-align: center\">0/1</td><td style=\"text-align: center\">./.</td><td style=\"text-align: center\">0/1</td><td style=\"text-align: center\">./.</td><td style=\"text-align: center\">0/1</td><td style=\"text-align: center\"> ... </td><td style=\"text-align: center\">./.</td><td style=\"text-align: center\">0/1</td><td style=\"text-align: center\">./.</td><td style=\"text-align: center\">0/1</td><td style=\"text-align: center\">./.</td></tr></table>"
      ],
      "text/plain": [
       "<GenotypeVector shape=(40, 2) dtype=int64>\n",
       "0/1 ./. 0/1 ./. 0/1  ...  ./. 0/1 ./. 0/1 ./."
      ]
     },
     "execution_count": 53,
     "metadata": {},
     "output_type": "execute_result"
    }
   ],
   "source": [
    "gc[5]"
   ]
  },
  {
   "cell_type": "code",
   "execution_count": 54,
   "metadata": {
    "collapsed": false
   },
   "outputs": [
    {
     "data": {
      "text/html": [
       "&lt;GenotypeVector shape=(20, 2) dtype=int64><table><tr><th style=\"text-align: center\">0</th><th style=\"text-align: center\">1</th><th style=\"text-align: center\">2</th><th style=\"text-align: center\">3</th><th style=\"text-align: center\">4</th><th style=\"text-align: center\"> ... </th><th style=\"text-align: center\">15</th><th style=\"text-align: center\">16</th><th style=\"text-align: center\">17</th><th style=\"text-align: center\">18</th><th style=\"text-align: center\">19</th></tr><tr><td style=\"text-align: center\">./.</td><td style=\"text-align: center\">./.</td><td style=\"text-align: center\">./.</td><td style=\"text-align: center\">./.</td><td style=\"text-align: center\">./.</td><td style=\"text-align: center\"> ... </td><td style=\"text-align: center\">./.</td><td style=\"text-align: center\">./.</td><td style=\"text-align: center\">./.</td><td style=\"text-align: center\">./.</td><td style=\"text-align: center\">./.</td></tr></table>"
      ],
      "text/plain": [
       "<GenotypeVector shape=(20, 2) dtype=int64>\n",
       "./. ./. ./. ./. ./.  ...  ./. ./. ./. ./. ./."
      ]
     },
     "execution_count": 54,
     "metadata": {},
     "output_type": "execute_result"
    }
   ],
   "source": [
    "gc[:, 5]"
   ]
  },
  {
   "cell_type": "code",
   "execution_count": 55,
   "metadata": {
    "collapsed": false
   },
   "outputs": [
    {
     "data": {
      "text/html": [
       "&lt;GenotypeChunkedArray shape=(3, 40, 2) dtype=int64 chunks=(102, 40, 2)\n",
       "   nbytes=1.9K cbytes=63.8K cratio=0.0\n",
       "   compression=blosc compression_opts=cparams(clevel=5, shuffle=1, cname='lz4', quantize=0)\n",
       "   values=bcolz.carray_ext.carray><table><tr><th></th><th style=\"text-align: center\">0</th><th style=\"text-align: center\">1</th><th style=\"text-align: center\">2</th><th style=\"text-align: center\">3</th><th style=\"text-align: center\">4</th><th style=\"text-align: center\"> ... </th><th style=\"text-align: center\">35</th><th style=\"text-align: center\">36</th><th style=\"text-align: center\">37</th><th style=\"text-align: center\">38</th><th style=\"text-align: center\">39</th></tr><tr><th style=\"text-align: center\">0</th><td style=\"text-align: center\">0/1</td><td style=\"text-align: center\">./.</td><td style=\"text-align: center\">0/1</td><td style=\"text-align: center\">./.</td><td style=\"text-align: center\">0/1</td><td style=\"text-align: center\"> ... </td><td style=\"text-align: center\">./.</td><td style=\"text-align: center\">0/1</td><td style=\"text-align: center\">./.</td><td style=\"text-align: center\">0/1</td><td style=\"text-align: center\">./.</td></tr><tr><th style=\"text-align: center\">1</th><td style=\"text-align: center\">0/1</td><td style=\"text-align: center\">./.</td><td style=\"text-align: center\">0/1</td><td style=\"text-align: center\">./.</td><td style=\"text-align: center\">0/1</td><td style=\"text-align: center\"> ... </td><td style=\"text-align: center\">./.</td><td style=\"text-align: center\">0/1</td><td style=\"text-align: center\">./.</td><td style=\"text-align: center\">0/1</td><td style=\"text-align: center\">./.</td></tr><tr><th style=\"text-align: center\">2</th><td style=\"text-align: center\">0/1</td><td style=\"text-align: center\">./.</td><td style=\"text-align: center\">0/1</td><td style=\"text-align: center\">./.</td><td style=\"text-align: center\">0/1</td><td style=\"text-align: center\"> ... </td><td style=\"text-align: center\">./.</td><td style=\"text-align: center\">0/1</td><td style=\"text-align: center\">./.</td><td style=\"text-align: center\">0/1</td><td style=\"text-align: center\">./.</td></tr></table>"
      ],
      "text/plain": [
       "<GenotypeChunkedArray shape=(3, 40, 2) dtype=int64 chunks=(102, 40, 2)\n",
       "   nbytes=1.9K cbytes=63.8K cratio=0.0\n",
       "   compression=blosc compression_opts=cparams(clevel=5, shuffle=1, cname='lz4', quantize=0)\n",
       "   values=bcolz.carray_ext.carray>"
      ]
     },
     "execution_count": 55,
     "metadata": {},
     "output_type": "execute_result"
    }
   ],
   "source": [
    "x = gc.take([0, 2, 4], axis=0)\n",
    "x"
   ]
  },
  {
   "cell_type": "code",
   "execution_count": 56,
   "metadata": {
    "collapsed": false
   },
   "outputs": [
    {
     "data": {
      "text/html": [
       "&lt;GenotypeChunkedArray shape=(20, 3, 2) dtype=int64 chunks=(682, 3, 2)\n",
       "   nbytes=960 cbytes=32.0K cratio=0.0\n",
       "   compression=blosc compression_opts=cparams(clevel=5, shuffle=1, cname='lz4', quantize=0)\n",
       "   values=bcolz.carray_ext.carray><table><tr><th></th><th style=\"text-align: center\">0</th><th style=\"text-align: center\">1</th><th style=\"text-align: center\">2</th></tr><tr><th style=\"text-align: center\">0</th><td style=\"text-align: center\">0/1</td><td style=\"text-align: center\">./.</td><td style=\"text-align: center\">0/1</td></tr><tr><th style=\"text-align: center\">1</th><td style=\"text-align: center\">0/1</td><td style=\"text-align: center\">./.</td><td style=\"text-align: center\">0/1</td></tr><tr><th style=\"text-align: center\">2</th><td style=\"text-align: center\">0/1</td><td style=\"text-align: center\">./.</td><td style=\"text-align: center\">0/1</td></tr><tr><th style=\"text-align: center\">...</th><td style=\"text-align: center\" colspan=4>...</td></tr><tr><th style=\"text-align: center\">17</th><td style=\"text-align: center\">0/1</td><td style=\"text-align: center\">./.</td><td style=\"text-align: center\">0/1</td></tr><tr><th style=\"text-align: center\">18</th><td style=\"text-align: center\">0/1</td><td style=\"text-align: center\">./.</td><td style=\"text-align: center\">0/1</td></tr><tr><th style=\"text-align: center\">19</th><td style=\"text-align: center\">0/1</td><td style=\"text-align: center\">./.</td><td style=\"text-align: center\">0/1</td></tr></table>"
      ],
      "text/plain": [
       "<GenotypeChunkedArray shape=(20, 3, 2) dtype=int64 chunks=(682, 3, 2)\n",
       "   nbytes=960 cbytes=32.0K cratio=0.0\n",
       "   compression=blosc compression_opts=cparams(clevel=5, shuffle=1, cname='lz4', quantize=0)\n",
       "   values=bcolz.carray_ext.carray>"
      ]
     },
     "execution_count": 56,
     "metadata": {},
     "output_type": "execute_result"
    }
   ],
   "source": [
    "gc.take([0, 1, 2], axis=1)"
   ]
  },
  {
   "cell_type": "code",
   "execution_count": 57,
   "metadata": {
    "collapsed": false
   },
   "outputs": [
    {
     "data": {
      "text/html": [
       "&lt;HaplotypeChunkedArray shape=(20, 80) dtype=int64 chunks=(204, 80)\n",
       "   nbytes=12.5K cbytes=127.5K cratio=0.1\n",
       "   compression=blosc compression_opts=cparams(clevel=5, shuffle=1, cname='lz4', quantize=0)\n",
       "   values=bcolz.carray_ext.carray><table><tr><th></th><th style=\"text-align: center\">0</th><th style=\"text-align: center\">1</th><th style=\"text-align: center\">2</th><th style=\"text-align: center\">3</th><th style=\"text-align: center\">4</th><th style=\"text-align: center\"> ... </th><th style=\"text-align: center\">75</th><th style=\"text-align: center\">76</th><th style=\"text-align: center\">77</th><th style=\"text-align: center\">78</th><th style=\"text-align: center\">79</th></tr><tr><th style=\"text-align: center\">0</th><td style=\"text-align: center\">0</td><td style=\"text-align: center\">1</td><td style=\"text-align: center\">.</td><td style=\"text-align: center\">.</td><td style=\"text-align: center\">0</td><td style=\"text-align: center\"> ... </td><td style=\"text-align: center\">.</td><td style=\"text-align: center\">0</td><td style=\"text-align: center\">1</td><td style=\"text-align: center\">.</td><td style=\"text-align: center\">.</td></tr><tr><th style=\"text-align: center\">1</th><td style=\"text-align: center\">0</td><td style=\"text-align: center\">1</td><td style=\"text-align: center\">.</td><td style=\"text-align: center\">.</td><td style=\"text-align: center\">0</td><td style=\"text-align: center\"> ... </td><td style=\"text-align: center\">.</td><td style=\"text-align: center\">0</td><td style=\"text-align: center\">1</td><td style=\"text-align: center\">.</td><td style=\"text-align: center\">.</td></tr><tr><th style=\"text-align: center\">2</th><td style=\"text-align: center\">0</td><td style=\"text-align: center\">1</td><td style=\"text-align: center\">.</td><td style=\"text-align: center\">.</td><td style=\"text-align: center\">0</td><td style=\"text-align: center\"> ... </td><td style=\"text-align: center\">.</td><td style=\"text-align: center\">0</td><td style=\"text-align: center\">1</td><td style=\"text-align: center\">.</td><td style=\"text-align: center\">.</td></tr><tr><th style=\"text-align: center\">...</th><td style=\"text-align: center\" colspan=12>...</td></tr><tr><th style=\"text-align: center\">17</th><td style=\"text-align: center\">0</td><td style=\"text-align: center\">1</td><td style=\"text-align: center\">.</td><td style=\"text-align: center\">.</td><td style=\"text-align: center\">0</td><td style=\"text-align: center\"> ... </td><td style=\"text-align: center\">.</td><td style=\"text-align: center\">0</td><td style=\"text-align: center\">1</td><td style=\"text-align: center\">.</td><td style=\"text-align: center\">.</td></tr><tr><th style=\"text-align: center\">18</th><td style=\"text-align: center\">0</td><td style=\"text-align: center\">1</td><td style=\"text-align: center\">.</td><td style=\"text-align: center\">.</td><td style=\"text-align: center\">0</td><td style=\"text-align: center\"> ... </td><td style=\"text-align: center\">.</td><td style=\"text-align: center\">0</td><td style=\"text-align: center\">1</td><td style=\"text-align: center\">.</td><td style=\"text-align: center\">.</td></tr><tr><th style=\"text-align: center\">19</th><td style=\"text-align: center\">0</td><td style=\"text-align: center\">1</td><td style=\"text-align: center\">.</td><td style=\"text-align: center\">.</td><td style=\"text-align: center\">0</td><td style=\"text-align: center\"> ... </td><td style=\"text-align: center\">.</td><td style=\"text-align: center\">0</td><td style=\"text-align: center\">1</td><td style=\"text-align: center\">.</td><td style=\"text-align: center\">.</td></tr></table>"
      ],
      "text/plain": [
       "<HaplotypeChunkedArray shape=(20, 80) dtype=int64 chunks=(204, 80)\n",
       "   nbytes=12.5K cbytes=127.5K cratio=0.1\n",
       "   compression=blosc compression_opts=cparams(clevel=5, shuffle=1, cname='lz4', quantize=0)\n",
       "   values=bcolz.carray_ext.carray>"
      ]
     },
     "execution_count": 57,
     "metadata": {},
     "output_type": "execute_result"
    }
   ],
   "source": [
    "hc = gc.to_haplotypes()\n",
    "hc"
   ]
  },
  {
   "cell_type": "code",
   "execution_count": 58,
   "metadata": {
    "collapsed": false
   },
   "outputs": [
    {
     "data": {
      "text/html": [
       "&lt;HaplotypeChunkedArray shape=(20, 3) dtype=int64 chunks=(1365, 3)\n",
       "   nbytes=480 cbytes=32.0K cratio=0.0\n",
       "   compression=blosc compression_opts=cparams(clevel=5, shuffle=1, cname='lz4', quantize=0)\n",
       "   values=bcolz.carray_ext.carray><table><tr><th></th><th style=\"text-align: center\">0</th><th style=\"text-align: center\">1</th><th style=\"text-align: center\">2</th></tr><tr><th style=\"text-align: center\">0</th><td style=\"text-align: center\">0</td><td style=\"text-align: center\">1</td><td style=\"text-align: center\">.</td></tr><tr><th style=\"text-align: center\">1</th><td style=\"text-align: center\">0</td><td style=\"text-align: center\">1</td><td style=\"text-align: center\">.</td></tr><tr><th style=\"text-align: center\">2</th><td style=\"text-align: center\">0</td><td style=\"text-align: center\">1</td><td style=\"text-align: center\">.</td></tr><tr><th style=\"text-align: center\">...</th><td style=\"text-align: center\" colspan=4>...</td></tr><tr><th style=\"text-align: center\">17</th><td style=\"text-align: center\">0</td><td style=\"text-align: center\">1</td><td style=\"text-align: center\">.</td></tr><tr><th style=\"text-align: center\">18</th><td style=\"text-align: center\">0</td><td style=\"text-align: center\">1</td><td style=\"text-align: center\">.</td></tr><tr><th style=\"text-align: center\">19</th><td style=\"text-align: center\">0</td><td style=\"text-align: center\">1</td><td style=\"text-align: center\">.</td></tr></table>"
      ],
      "text/plain": [
       "<HaplotypeChunkedArray shape=(20, 3) dtype=int64 chunks=(1365, 3)\n",
       "   nbytes=480 cbytes=32.0K cratio=0.0\n",
       "   compression=blosc compression_opts=cparams(clevel=5, shuffle=1, cname='lz4', quantize=0)\n",
       "   values=bcolz.carray_ext.carray>"
      ]
     },
     "execution_count": 58,
     "metadata": {},
     "output_type": "execute_result"
    }
   ],
   "source": [
    "hc.take([0, 1, 2], axis=1)"
   ]
  },
  {
   "cell_type": "code",
   "execution_count": 59,
   "metadata": {
    "collapsed": false
   },
   "outputs": [
    {
     "data": {
      "text/html": [
       "&lt;AlleleCountsArray shape=(20, 2) dtype=int32><table><tr><th></th><th style=\"text-align: center\">0</th><th style=\"text-align: center\">1</th></tr><tr><th style=\"text-align: center\">0</th><td style=\"text-align: center\">20</td><td style=\"text-align: center\">20</td></tr><tr><th style=\"text-align: center\">1</th><td style=\"text-align: center\">20</td><td style=\"text-align: center\">20</td></tr><tr><th style=\"text-align: center\">2</th><td style=\"text-align: center\">20</td><td style=\"text-align: center\">20</td></tr><tr><th style=\"text-align: center\">...</th><td style=\"text-align: center\" colspan=3>...</td></tr><tr><th style=\"text-align: center\">17</th><td style=\"text-align: center\">20</td><td style=\"text-align: center\">20</td></tr><tr><th style=\"text-align: center\">18</th><td style=\"text-align: center\">20</td><td style=\"text-align: center\">20</td></tr><tr><th style=\"text-align: center\">19</th><td style=\"text-align: center\">20</td><td style=\"text-align: center\">20</td></tr></table>"
      ],
      "text/plain": [
       "<AlleleCountsArray shape=(20, 2) dtype=int32>\n",
       "20 20\n",
       "20 20\n",
       "20 20\n",
       " ... \n",
       "20 20\n",
       "20 20\n",
       "20 20"
      ]
     },
     "execution_count": 59,
     "metadata": {},
     "output_type": "execute_result"
    }
   ],
   "source": [
    "ac = g.count_alleles()\n",
    "ac"
   ]
  },
  {
   "cell_type": "code",
   "execution_count": 60,
   "metadata": {
    "collapsed": false
   },
   "outputs": [
    {
     "data": {
      "text/html": [
       "&lt;AlleleCountsChunkedArray shape=(20, 2) dtype=int32 chunks=(4096, 2)\n",
       "   nbytes=160 cbytes=32.0K cratio=0.0\n",
       "   compression=blosc compression_opts=cparams(clevel=5, shuffle=1, cname='lz4', quantize=0)\n",
       "   values=bcolz.carray_ext.carray><table><tr><th></th><th style=\"text-align: center\">0</th><th style=\"text-align: center\">1</th></tr><tr><th style=\"text-align: center\">0</th><td style=\"text-align: center\">20</td><td style=\"text-align: center\">20</td></tr><tr><th style=\"text-align: center\">1</th><td style=\"text-align: center\">20</td><td style=\"text-align: center\">20</td></tr><tr><th style=\"text-align: center\">2</th><td style=\"text-align: center\">20</td><td style=\"text-align: center\">20</td></tr><tr><th style=\"text-align: center\">...</th><td style=\"text-align: center\" colspan=3>...</td></tr><tr><th style=\"text-align: center\">17</th><td style=\"text-align: center\">20</td><td style=\"text-align: center\">20</td></tr><tr><th style=\"text-align: center\">18</th><td style=\"text-align: center\">20</td><td style=\"text-align: center\">20</td></tr><tr><th style=\"text-align: center\">19</th><td style=\"text-align: center\">20</td><td style=\"text-align: center\">20</td></tr></table>"
      ],
      "text/plain": [
       "<AlleleCountsChunkedArray shape=(20, 2) dtype=int32 chunks=(4096, 2)\n",
       "   nbytes=160 cbytes=32.0K cratio=0.0\n",
       "   compression=blosc compression_opts=cparams(clevel=5, shuffle=1, cname='lz4', quantize=0)\n",
       "   values=bcolz.carray_ext.carray>"
      ]
     },
     "execution_count": 60,
     "metadata": {},
     "output_type": "execute_result"
    }
   ],
   "source": [
    "acc = gc.count_alleles()\n",
    "acc"
   ]
  },
  {
   "cell_type": "code",
   "execution_count": 61,
   "metadata": {
    "collapsed": false
   },
   "outputs": [
    {
     "data": {
      "text/plain": [
       "carray((20, 40), bool)\n",
       "  nbytes := 800; cbytes := 31.99 KB; ratio: 0.02\n",
       "  cparams := cparams(clevel=5, shuffle=1, cname='lz4', quantize=0)\n",
       "  chunklen := 819; chunksize: 32760; blocksize: 0\n",
       "[[ True False  True False  True False  True False  True False  True False\n",
       "   True False  True False  True False  True False  True False  True False\n",
       "   True False  True False  True False  True False  True False  True False\n",
       "   True False  True False]\n",
       " [ True False  True False  True False  True False  True False  True False\n",
       "   True False  True False  True False  True False  True False  True False\n",
       "   True False  True False  True False  True False  True False  True False\n",
       "   True False  True False]\n",
       " [ True False  True False  True False  True False  True False  True False\n",
       "   True False  True False  True False  True False  True False  True False\n",
       "   True False  True False  True False  True False  True False  True False\n",
       "   True False  True False]\n",
       " [ True False  True False  True False  True False  True False  True False\n",
       "   True False  True False  True False  True False  True False  True False\n",
       "   True False  True False  True False  True False  True False  True False\n",
       "   True False  True False]\n",
       " [ True False  True False  True False  True False  True False  True False\n",
       "   True False  True False  True False  True False  True False  True False\n",
       "   True False  True False  True False  True False  True False  True False\n",
       "   True False  True False]\n",
       " [ True False  True False  True False  True False  True False  True False\n",
       "   True False  True False  True False  True False  True False  True False\n",
       "   True False  True False  True False  True False  True False  True False\n",
       "   True False  True False]\n",
       " [ True False  True False  True False  True False  True False  True False\n",
       "   True False  True False  True False  True False  True False  True False\n",
       "   True False  True False  True False  True False  True False  True False\n",
       "   True False  True False]\n",
       " [ True False  True False  True False  True False  True False  True False\n",
       "   True False  True False  True False  True False  True False  True False\n",
       "   True False  True False  True False  True False  True False  True False\n",
       "   True False  True False]\n",
       " [ True False  True False  True False  True False  True False  True False\n",
       "   True False  True False  True False  True False  True False  True False\n",
       "   True False  True False  True False  True False  True False  True False\n",
       "   True False  True False]\n",
       " [ True False  True False  True False  True False  True False  True False\n",
       "   True False  True False  True False  True False  True False  True False\n",
       "   True False  True False  True False  True False  True False  True False\n",
       "   True False  True False]\n",
       " [ True False  True False  True False  True False  True False  True False\n",
       "   True False  True False  True False  True False  True False  True False\n",
       "   True False  True False  True False  True False  True False  True False\n",
       "   True False  True False]\n",
       " [ True False  True False  True False  True False  True False  True False\n",
       "   True False  True False  True False  True False  True False  True False\n",
       "   True False  True False  True False  True False  True False  True False\n",
       "   True False  True False]\n",
       " [ True False  True False  True False  True False  True False  True False\n",
       "   True False  True False  True False  True False  True False  True False\n",
       "   True False  True False  True False  True False  True False  True False\n",
       "   True False  True False]\n",
       " [ True False  True False  True False  True False  True False  True False\n",
       "   True False  True False  True False  True False  True False  True False\n",
       "   True False  True False  True False  True False  True False  True False\n",
       "   True False  True False]\n",
       " [ True False  True False  True False  True False  True False  True False\n",
       "   True False  True False  True False  True False  True False  True False\n",
       "   True False  True False  True False  True False  True False  True False\n",
       "   True False  True False]\n",
       " [ True False  True False  True False  True False  True False  True False\n",
       "   True False  True False  True False  True False  True False  True False\n",
       "   True False  True False  True False  True False  True False  True False\n",
       "   True False  True False]\n",
       " [ True False  True False  True False  True False  True False  True False\n",
       "   True False  True False  True False  True False  True False  True False\n",
       "   True False  True False  True False  True False  True False  True False\n",
       "   True False  True False]\n",
       " [ True False  True False  True False  True False  True False  True False\n",
       "   True False  True False  True False  True False  True False  True False\n",
       "   True False  True False  True False  True False  True False  True False\n",
       "   True False  True False]\n",
       " [ True False  True False  True False  True False  True False  True False\n",
       "   True False  True False  True False  True False  True False  True False\n",
       "   True False  True False  True False  True False  True False  True False\n",
       "   True False  True False]\n",
       " [ True False  True False  True False  True False  True False  True False\n",
       "   True False  True False  True False  True False  True False  True False\n",
       "   True False  True False  True False  True False  True False  True False\n",
       "   True False  True False]]"
      ]
     },
     "execution_count": 61,
     "metadata": {},
     "output_type": "execute_result"
    }
   ],
   "source": [
    "gc.is_called()"
   ]
  },
  {
   "cell_type": "code",
   "execution_count": 62,
   "metadata": {
    "collapsed": false
   },
   "outputs": [
    {
     "data": {
      "text/plain": [
       "carray((20, 40), int8)\n",
       "  nbytes := 800; cbytes := 31.99 KB; ratio: 0.02\n",
       "  cparams := cparams(clevel=5, shuffle=1, cname='lz4', quantize=0)\n",
       "  chunklen := 819; chunksize: 32760; blocksize: 0\n",
       "[[1 0 1 0 1 0 1 0 1 0 1 0 1 0 1 0 1 0 1 0 1 0 1 0 1 0 1 0 1 0 1 0 1 0 1 0 1\n",
       "  0 1 0]\n",
       " [1 0 1 0 1 0 1 0 1 0 1 0 1 0 1 0 1 0 1 0 1 0 1 0 1 0 1 0 1 0 1 0 1 0 1 0 1\n",
       "  0 1 0]\n",
       " [1 0 1 0 1 0 1 0 1 0 1 0 1 0 1 0 1 0 1 0 1 0 1 0 1 0 1 0 1 0 1 0 1 0 1 0 1\n",
       "  0 1 0]\n",
       " [1 0 1 0 1 0 1 0 1 0 1 0 1 0 1 0 1 0 1 0 1 0 1 0 1 0 1 0 1 0 1 0 1 0 1 0 1\n",
       "  0 1 0]\n",
       " [1 0 1 0 1 0 1 0 1 0 1 0 1 0 1 0 1 0 1 0 1 0 1 0 1 0 1 0 1 0 1 0 1 0 1 0 1\n",
       "  0 1 0]\n",
       " [1 0 1 0 1 0 1 0 1 0 1 0 1 0 1 0 1 0 1 0 1 0 1 0 1 0 1 0 1 0 1 0 1 0 1 0 1\n",
       "  0 1 0]\n",
       " [1 0 1 0 1 0 1 0 1 0 1 0 1 0 1 0 1 0 1 0 1 0 1 0 1 0 1 0 1 0 1 0 1 0 1 0 1\n",
       "  0 1 0]\n",
       " [1 0 1 0 1 0 1 0 1 0 1 0 1 0 1 0 1 0 1 0 1 0 1 0 1 0 1 0 1 0 1 0 1 0 1 0 1\n",
       "  0 1 0]\n",
       " [1 0 1 0 1 0 1 0 1 0 1 0 1 0 1 0 1 0 1 0 1 0 1 0 1 0 1 0 1 0 1 0 1 0 1 0 1\n",
       "  0 1 0]\n",
       " [1 0 1 0 1 0 1 0 1 0 1 0 1 0 1 0 1 0 1 0 1 0 1 0 1 0 1 0 1 0 1 0 1 0 1 0 1\n",
       "  0 1 0]\n",
       " [1 0 1 0 1 0 1 0 1 0 1 0 1 0 1 0 1 0 1 0 1 0 1 0 1 0 1 0 1 0 1 0 1 0 1 0 1\n",
       "  0 1 0]\n",
       " [1 0 1 0 1 0 1 0 1 0 1 0 1 0 1 0 1 0 1 0 1 0 1 0 1 0 1 0 1 0 1 0 1 0 1 0 1\n",
       "  0 1 0]\n",
       " [1 0 1 0 1 0 1 0 1 0 1 0 1 0 1 0 1 0 1 0 1 0 1 0 1 0 1 0 1 0 1 0 1 0 1 0 1\n",
       "  0 1 0]\n",
       " [1 0 1 0 1 0 1 0 1 0 1 0 1 0 1 0 1 0 1 0 1 0 1 0 1 0 1 0 1 0 1 0 1 0 1 0 1\n",
       "  0 1 0]\n",
       " [1 0 1 0 1 0 1 0 1 0 1 0 1 0 1 0 1 0 1 0 1 0 1 0 1 0 1 0 1 0 1 0 1 0 1 0 1\n",
       "  0 1 0]\n",
       " [1 0 1 0 1 0 1 0 1 0 1 0 1 0 1 0 1 0 1 0 1 0 1 0 1 0 1 0 1 0 1 0 1 0 1 0 1\n",
       "  0 1 0]\n",
       " [1 0 1 0 1 0 1 0 1 0 1 0 1 0 1 0 1 0 1 0 1 0 1 0 1 0 1 0 1 0 1 0 1 0 1 0 1\n",
       "  0 1 0]\n",
       " [1 0 1 0 1 0 1 0 1 0 1 0 1 0 1 0 1 0 1 0 1 0 1 0 1 0 1 0 1 0 1 0 1 0 1 0 1\n",
       "  0 1 0]\n",
       " [1 0 1 0 1 0 1 0 1 0 1 0 1 0 1 0 1 0 1 0 1 0 1 0 1 0 1 0 1 0 1 0 1 0 1 0 1\n",
       "  0 1 0]\n",
       " [1 0 1 0 1 0 1 0 1 0 1 0 1 0 1 0 1 0 1 0 1 0 1 0 1 0 1 0 1 0 1 0 1 0 1 0 1\n",
       "  0 1 0]]"
      ]
     },
     "execution_count": 62,
     "metadata": {},
     "output_type": "execute_result"
    }
   ],
   "source": [
    "gc.to_n_alt()"
   ]
  },
  {
   "cell_type": "code",
   "execution_count": 63,
   "metadata": {
    "collapsed": false
   },
   "outputs": [
    {
     "data": {
      "text/html": [
       "&lt;VariantChunkedTable shape=(48790,) dtype=[('POS', '&lt;i8'), ('REF', 'S1'), ('ALT', 'S1')]\n",
       "   nbytes=476.5K cbytes=555.9K cratio=0.9\n",
       "   values=bcolz.ctable.ctable><table><tr><th></th><th style=\"text-align: center\">POS</th><th style=\"text-align: center\">REF</th><th style=\"text-align: center\">ALT</th></tr><tr><th style=\"text-align: center\">0</th><td style=\"text-align: center\">36</td><td style=\"text-align: center\">b'C'</td><td style=\"text-align: center\">b'G'</td></tr><tr><th style=\"text-align: center\">1</th><td style=\"text-align: center\">40</td><td style=\"text-align: center\">b'C'</td><td style=\"text-align: center\">b'A'</td></tr><tr><th style=\"text-align: center\">2</th><td style=\"text-align: center\">94</td><td style=\"text-align: center\">b'T'</td><td style=\"text-align: center\">b'T'</td></tr><tr><th style=\"text-align: center\">...</th><td style=\"text-align: center\" colspan=4>...</td></tr><tr><th style=\"text-align: center\">48787</th><td style=\"text-align: center\">999947</td><td style=\"text-align: center\">b'A'</td><td style=\"text-align: center\">b'C'</td></tr><tr><th style=\"text-align: center\">48788</th><td style=\"text-align: center\">999963</td><td style=\"text-align: center\">b'A'</td><td style=\"text-align: center\">b'G'</td></tr><tr><th style=\"text-align: center\">48789</th><td style=\"text-align: center\">999966</td><td style=\"text-align: center\">b'A'</td><td style=\"text-align: center\">b'C'</td></tr></table>"
      ],
      "text/plain": [
       "<VariantChunkedTable shape=(48790,) dtype=[('POS', '<i8'), ('REF', 'S1'), ('ALT', 'S1')]\n",
       "   nbytes=476.5K cbytes=555.9K cratio=0.9\n",
       "   values=bcolz.ctable.ctable>"
      ]
     },
     "execution_count": 63,
     "metadata": {},
     "output_type": "execute_result"
    }
   ],
   "source": [
    "vctbl = allel.VariantChunkedTable(vtbl).copy()\n",
    "vctbl"
   ]
  },
  {
   "cell_type": "code",
   "execution_count": 64,
   "metadata": {
    "collapsed": false
   },
   "outputs": [
    {
     "data": {
      "text/html": [
       "&lt;VariantTable shape=(48790,) dtype=(numpy.record, [('POS', '&lt;i8'), ('REF', 'S1'), ('ALT', 'S1')])><table><tr><th></th><th style=\"text-align: center\">POS</th><th style=\"text-align: center\">REF</th><th style=\"text-align: center\">ALT</th></tr><tr><th style=\"text-align: center\">0</th><td style=\"text-align: center\">36</td><td style=\"text-align: center\">b'C'</td><td style=\"text-align: center\">b'G'</td></tr><tr><th style=\"text-align: center\">1</th><td style=\"text-align: center\">40</td><td style=\"text-align: center\">b'C'</td><td style=\"text-align: center\">b'A'</td></tr><tr><th style=\"text-align: center\">2</th><td style=\"text-align: center\">94</td><td style=\"text-align: center\">b'T'</td><td style=\"text-align: center\">b'T'</td></tr><tr><th style=\"text-align: center\">...</th><td style=\"text-align: center\" colspan=4>...</td></tr><tr><th style=\"text-align: center\">48787</th><td style=\"text-align: center\">999947</td><td style=\"text-align: center\">b'A'</td><td style=\"text-align: center\">b'C'</td></tr><tr><th style=\"text-align: center\">48788</th><td style=\"text-align: center\">999963</td><td style=\"text-align: center\">b'A'</td><td style=\"text-align: center\">b'G'</td></tr><tr><th style=\"text-align: center\">48789</th><td style=\"text-align: center\">999966</td><td style=\"text-align: center\">b'A'</td><td style=\"text-align: center\">b'C'</td></tr></table>"
      ],
      "text/plain": [
       "<VariantTable shape=(48790,) dtype=(numpy.record, [('POS', '<i8'), ('REF', 'S1'), ('ALT', 'S1')])>\n",
       "[(36, b'C', b'G') (40, b'C', b'A') (94, b'T', b'T') ...,\n",
       " (999947, b'A', b'C') (999963, b'A', b'G') (999966, b'A', b'C')]"
      ]
     },
     "execution_count": 64,
     "metadata": {},
     "output_type": "execute_result"
    }
   ],
   "source": [
    "vctbl[:]"
   ]
  },
  {
   "cell_type": "markdown",
   "metadata": {},
   "source": [
    "## Dask arrays"
   ]
  },
  {
   "cell_type": "code",
   "execution_count": 65,
   "metadata": {
    "collapsed": false
   },
   "outputs": [
    {
     "data": {
      "text/html": [
       "&lt;GenotypeArray shape=(20, 40, 2) dtype=int64><table><tr><th></th><th style=\"text-align: center\">0</th><th style=\"text-align: center\">1</th><th style=\"text-align: center\">2</th><th style=\"text-align: center\">3</th><th style=\"text-align: center\">4</th><th style=\"text-align: center\"> ... </th><th style=\"text-align: center\">35</th><th style=\"text-align: center\">36</th><th style=\"text-align: center\">37</th><th style=\"text-align: center\">38</th><th style=\"text-align: center\">39</th></tr><tr><th style=\"text-align: center\">0</th><td style=\"text-align: center\">0|1</td><td style=\"text-align: center\">./.</td><td style=\"text-align: center\">0/1</td><td style=\"text-align: center\">./.</td><td style=\"text-align: center\">0|1</td><td style=\"text-align: center\"> ... </td><td style=\"text-align: center\">./.</td><td style=\"text-align: center\">0|1</td><td style=\"text-align: center\">./.</td><td style=\"text-align: center\">0/1</td><td style=\"text-align: center\">./.</td></tr><tr><th style=\"text-align: center\">1</th><td style=\"text-align: center\">0|1</td><td style=\"text-align: center\">./.</td><td style=\"text-align: center\">0/1</td><td style=\"text-align: center\">./.</td><td style=\"text-align: center\">0|1</td><td style=\"text-align: center\"> ... </td><td style=\"text-align: center\">./.</td><td style=\"text-align: center\">0|1</td><td style=\"text-align: center\">./.</td><td style=\"text-align: center\">0/1</td><td style=\"text-align: center\">./.</td></tr><tr><th style=\"text-align: center\">2</th><td style=\"text-align: center\">0|1</td><td style=\"text-align: center\">./.</td><td style=\"text-align: center\">0/1</td><td style=\"text-align: center\">./.</td><td style=\"text-align: center\">0|1</td><td style=\"text-align: center\"> ... </td><td style=\"text-align: center\">./.</td><td style=\"text-align: center\">0|1</td><td style=\"text-align: center\">./.</td><td style=\"text-align: center\">0/1</td><td style=\"text-align: center\">./.</td></tr><tr><th style=\"text-align: center\">...</th><td style=\"text-align: center\" colspan=12>...</td></tr><tr><th style=\"text-align: center\">17</th><td style=\"text-align: center\">0|1</td><td style=\"text-align: center\">./.</td><td style=\"text-align: center\">0/1</td><td style=\"text-align: center\">./.</td><td style=\"text-align: center\">0|1</td><td style=\"text-align: center\"> ... </td><td style=\"text-align: center\">./.</td><td style=\"text-align: center\">0|1</td><td style=\"text-align: center\">./.</td><td style=\"text-align: center\">0/1</td><td style=\"text-align: center\">./.</td></tr><tr><th style=\"text-align: center\">18</th><td style=\"text-align: center\">0|1</td><td style=\"text-align: center\">./.</td><td style=\"text-align: center\">0/1</td><td style=\"text-align: center\">./.</td><td style=\"text-align: center\">0|1</td><td style=\"text-align: center\"> ... </td><td style=\"text-align: center\">./.</td><td style=\"text-align: center\">0|1</td><td style=\"text-align: center\">./.</td><td style=\"text-align: center\">0/1</td><td style=\"text-align: center\">./.</td></tr><tr><th style=\"text-align: center\">19</th><td style=\"text-align: center\">0|1</td><td style=\"text-align: center\">./.</td><td style=\"text-align: center\">0/1</td><td style=\"text-align: center\">./.</td><td style=\"text-align: center\">0|1</td><td style=\"text-align: center\"> ... </td><td style=\"text-align: center\">./.</td><td style=\"text-align: center\">0|1</td><td style=\"text-align: center\">./.</td><td style=\"text-align: center\">0/1</td><td style=\"text-align: center\">./.</td></tr></table>"
      ],
      "text/plain": [
       "<GenotypeArray shape=(20, 40, 2) dtype=int64>\n",
       "0|1 ./. 0/1 ./. 0|1  ...  ./. 0|1 ./. 0/1 ./.\n",
       "0|1 ./. 0/1 ./. 0|1  ...  ./. 0|1 ./. 0/1 ./.\n",
       "0|1 ./. 0/1 ./. 0|1  ...  ./. 0|1 ./. 0/1 ./.\n",
       " ... \n",
       "0|1 ./. 0/1 ./. 0|1  ...  ./. 0|1 ./. 0/1 ./.\n",
       "0|1 ./. 0/1 ./. 0|1  ...  ./. 0|1 ./. 0/1 ./.\n",
       "0|1 ./. 0/1 ./. 0|1  ...  ./. 0|1 ./. 0/1 ./."
      ]
     },
     "execution_count": 65,
     "metadata": {},
     "output_type": "execute_result"
    }
   ],
   "source": [
    "g"
   ]
  },
  {
   "cell_type": "code",
   "execution_count": 66,
   "metadata": {
    "collapsed": false
   },
   "outputs": [],
   "source": [
    "gd = allel.GenotypeDaskArray(g)"
   ]
  },
  {
   "cell_type": "code",
   "execution_count": 67,
   "metadata": {
    "collapsed": false
   },
   "outputs": [
    {
     "data": {
      "text/plain": [
       "True"
      ]
     },
     "execution_count": 67,
     "metadata": {},
     "output_type": "execute_result"
    }
   ],
   "source": [
    "gd.mask is None"
   ]
  },
  {
   "cell_type": "code",
   "execution_count": 68,
   "metadata": {
    "collapsed": false
   },
   "outputs": [
    {
     "data": {
      "text/plain": [
       "True"
      ]
     },
     "execution_count": 68,
     "metadata": {},
     "output_type": "execute_result"
    }
   ],
   "source": [
    "gd.is_phased is None"
   ]
  },
  {
   "cell_type": "code",
   "execution_count": 69,
   "metadata": {
    "collapsed": false
   },
   "outputs": [
    {
     "name": "stdout",
     "output_type": "stream",
     "text": [
      "<GenotypeDaskArray shape=(20, 40, 2) dtype=int64>\n"
     ]
    }
   ],
   "source": [
    "print(repr(gd))"
   ]
  },
  {
   "cell_type": "code",
   "execution_count": 70,
   "metadata": {
    "collapsed": false
   },
   "outputs": [
    {
     "name": "stdout",
     "output_type": "stream",
     "text": [
      "0/1 ./. 0/1 ./. 0/1  ...  ./. 0/1 ./. 0/1 ./.\n",
      "0/1 ./. 0/1 ./. 0/1  ...  ./. 0/1 ./. 0/1 ./.\n",
      "0/1 ./. 0/1 ./. 0/1  ...  ./. 0/1 ./. 0/1 ./.\n",
      " ... \n",
      "0/1 ./. 0/1 ./. 0/1  ...  ./. 0/1 ./. 0/1 ./.\n",
      "0/1 ./. 0/1 ./. 0/1  ...  ./. 0/1 ./. 0/1 ./.\n",
      "0/1 ./. 0/1 ./. 0/1  ...  ./. 0/1 ./. 0/1 ./.\n",
      "\n"
     ]
    }
   ],
   "source": [
    "print(gd)"
   ]
  },
  {
   "cell_type": "code",
   "execution_count": 71,
   "metadata": {
    "collapsed": false
   },
   "outputs": [
    {
     "data": {
      "text/html": [
       "&lt;GenotypeDaskArray shape=(20, 40, 2) dtype=int64><table><tr><th></th><th style=\"text-align: center\">0</th><th style=\"text-align: center\">1</th><th style=\"text-align: center\">2</th><th style=\"text-align: center\">3</th><th style=\"text-align: center\">4</th><th style=\"text-align: center\"> ... </th><th style=\"text-align: center\">35</th><th style=\"text-align: center\">36</th><th style=\"text-align: center\">37</th><th style=\"text-align: center\">38</th><th style=\"text-align: center\">39</th></tr><tr><th style=\"text-align: center\">0</th><td style=\"text-align: center\">0/1</td><td style=\"text-align: center\">./.</td><td style=\"text-align: center\">0/1</td><td style=\"text-align: center\">./.</td><td style=\"text-align: center\">0/1</td><td style=\"text-align: center\"> ... </td><td style=\"text-align: center\">./.</td><td style=\"text-align: center\">0/1</td><td style=\"text-align: center\">./.</td><td style=\"text-align: center\">0/1</td><td style=\"text-align: center\">./.</td></tr><tr><th style=\"text-align: center\">1</th><td style=\"text-align: center\">0/1</td><td style=\"text-align: center\">./.</td><td style=\"text-align: center\">0/1</td><td style=\"text-align: center\">./.</td><td style=\"text-align: center\">0/1</td><td style=\"text-align: center\"> ... </td><td style=\"text-align: center\">./.</td><td style=\"text-align: center\">0/1</td><td style=\"text-align: center\">./.</td><td style=\"text-align: center\">0/1</td><td style=\"text-align: center\">./.</td></tr><tr><th style=\"text-align: center\">2</th><td style=\"text-align: center\">0/1</td><td style=\"text-align: center\">./.</td><td style=\"text-align: center\">0/1</td><td style=\"text-align: center\">./.</td><td style=\"text-align: center\">0/1</td><td style=\"text-align: center\"> ... </td><td style=\"text-align: center\">./.</td><td style=\"text-align: center\">0/1</td><td style=\"text-align: center\">./.</td><td style=\"text-align: center\">0/1</td><td style=\"text-align: center\">./.</td></tr><tr><th style=\"text-align: center\">...</th><td style=\"text-align: center\" colspan=12>...</td></tr><tr><th style=\"text-align: center\">17</th><td style=\"text-align: center\">0/1</td><td style=\"text-align: center\">./.</td><td style=\"text-align: center\">0/1</td><td style=\"text-align: center\">./.</td><td style=\"text-align: center\">0/1</td><td style=\"text-align: center\"> ... </td><td style=\"text-align: center\">./.</td><td style=\"text-align: center\">0/1</td><td style=\"text-align: center\">./.</td><td style=\"text-align: center\">0/1</td><td style=\"text-align: center\">./.</td></tr><tr><th style=\"text-align: center\">18</th><td style=\"text-align: center\">0/1</td><td style=\"text-align: center\">./.</td><td style=\"text-align: center\">0/1</td><td style=\"text-align: center\">./.</td><td style=\"text-align: center\">0/1</td><td style=\"text-align: center\"> ... </td><td style=\"text-align: center\">./.</td><td style=\"text-align: center\">0/1</td><td style=\"text-align: center\">./.</td><td style=\"text-align: center\">0/1</td><td style=\"text-align: center\">./.</td></tr><tr><th style=\"text-align: center\">19</th><td style=\"text-align: center\">0/1</td><td style=\"text-align: center\">./.</td><td style=\"text-align: center\">0/1</td><td style=\"text-align: center\">./.</td><td style=\"text-align: center\">0/1</td><td style=\"text-align: center\"> ... </td><td style=\"text-align: center\">./.</td><td style=\"text-align: center\">0/1</td><td style=\"text-align: center\">./.</td><td style=\"text-align: center\">0/1</td><td style=\"text-align: center\">./.</td></tr></table>"
      ],
      "text/plain": [
       "<GenotypeDaskArray shape=(20, 40, 2) dtype=int64>"
      ]
     },
     "execution_count": 71,
     "metadata": {},
     "output_type": "execute_result"
    }
   ],
   "source": [
    "gd"
   ]
  },
  {
   "cell_type": "code",
   "execution_count": 72,
   "metadata": {
    "collapsed": false
   },
   "outputs": [
    {
     "data": {
      "text/plain": [
       "dask.array<array-4..., shape=(20, 40, 2), dtype=int64, chunksize=(20, 40, 2)>"
      ]
     },
     "execution_count": 72,
     "metadata": {},
     "output_type": "execute_result"
    }
   ],
   "source": [
    "gd.values"
   ]
  },
  {
   "cell_type": "code",
   "execution_count": 85,
   "metadata": {
    "collapsed": false
   },
   "outputs": [
    {
     "data": {
      "text/plain": [
       "'array-48e81df983e2db62760afc0f1a8de000'"
      ]
     },
     "execution_count": 85,
     "metadata": {},
     "output_type": "execute_result"
    }
   ],
   "source": [
    "gd.values.name"
   ]
  },
  {
   "cell_type": "code",
   "execution_count": 74,
   "metadata": {
    "collapsed": false
   },
   "outputs": [
    {
     "data": {
      "text/html": [
       "&lt;GenotypeDaskArray shape=(20, 40, 2) dtype=int64><table><tr><th></th><th style=\"text-align: center\">0</th><th style=\"text-align: center\">1</th><th style=\"text-align: center\">2</th><th style=\"text-align: center\">3</th><th style=\"text-align: center\">4</th><th style=\"text-align: center\"> ... </th><th style=\"text-align: center\">35</th><th style=\"text-align: center\">36</th><th style=\"text-align: center\">37</th><th style=\"text-align: center\">38</th><th style=\"text-align: center\">39</th></tr><tr><th style=\"text-align: center\">0</th><td style=\"text-align: center\">0/1</td><td style=\"text-align: center\">./.</td><td style=\"text-align: center\">0/1</td><td style=\"text-align: center\">./.</td><td style=\"text-align: center\">0/1</td><td style=\"text-align: center\"> ... </td><td style=\"text-align: center\">./.</td><td style=\"text-align: center\">0/1</td><td style=\"text-align: center\">./.</td><td style=\"text-align: center\">0/1</td><td style=\"text-align: center\">./.</td></tr><tr><th style=\"text-align: center\">1</th><td style=\"text-align: center\">0/1</td><td style=\"text-align: center\">./.</td><td style=\"text-align: center\">0/1</td><td style=\"text-align: center\">./.</td><td style=\"text-align: center\">0/1</td><td style=\"text-align: center\"> ... </td><td style=\"text-align: center\">./.</td><td style=\"text-align: center\">0/1</td><td style=\"text-align: center\">./.</td><td style=\"text-align: center\">0/1</td><td style=\"text-align: center\">./.</td></tr><tr><th style=\"text-align: center\">2</th><td style=\"text-align: center\">0/1</td><td style=\"text-align: center\">./.</td><td style=\"text-align: center\">0/1</td><td style=\"text-align: center\">./.</td><td style=\"text-align: center\">0/1</td><td style=\"text-align: center\"> ... </td><td style=\"text-align: center\">./.</td><td style=\"text-align: center\">0/1</td><td style=\"text-align: center\">./.</td><td style=\"text-align: center\">0/1</td><td style=\"text-align: center\">./.</td></tr><tr><th style=\"text-align: center\">...</th><td style=\"text-align: center\" colspan=12>...</td></tr><tr><th style=\"text-align: center\">17</th><td style=\"text-align: center\">0/1</td><td style=\"text-align: center\">./.</td><td style=\"text-align: center\">0/1</td><td style=\"text-align: center\">./.</td><td style=\"text-align: center\">0/1</td><td style=\"text-align: center\"> ... </td><td style=\"text-align: center\">./.</td><td style=\"text-align: center\">0/1</td><td style=\"text-align: center\">./.</td><td style=\"text-align: center\">0/1</td><td style=\"text-align: center\">./.</td></tr><tr><th style=\"text-align: center\">18</th><td style=\"text-align: center\">0/1</td><td style=\"text-align: center\">./.</td><td style=\"text-align: center\">0/1</td><td style=\"text-align: center\">./.</td><td style=\"text-align: center\">0/1</td><td style=\"text-align: center\"> ... </td><td style=\"text-align: center\">./.</td><td style=\"text-align: center\">0/1</td><td style=\"text-align: center\">./.</td><td style=\"text-align: center\">0/1</td><td style=\"text-align: center\">./.</td></tr><tr><th style=\"text-align: center\">19</th><td style=\"text-align: center\">0/1</td><td style=\"text-align: center\">./.</td><td style=\"text-align: center\">0/1</td><td style=\"text-align: center\">./.</td><td style=\"text-align: center\">0/1</td><td style=\"text-align: center\"> ... </td><td style=\"text-align: center\">./.</td><td style=\"text-align: center\">0/1</td><td style=\"text-align: center\">./.</td><td style=\"text-align: center\">0/1</td><td style=\"text-align: center\">./.</td></tr></table>"
      ],
      "text/plain": [
       "<GenotypeDaskArray shape=(20, 40, 2) dtype=int64>"
      ]
     },
     "execution_count": 74,
     "metadata": {},
     "output_type": "execute_result"
    }
   ],
   "source": [
    "gd[:]"
   ]
  },
  {
   "cell_type": "code",
   "execution_count": 75,
   "metadata": {
    "collapsed": false
   },
   "outputs": [
    {
     "data": {
      "text/html": [
       "&lt;GenotypeDaskArray shape=(5, 40, 2) dtype=int64><table><tr><th></th><th style=\"text-align: center\">0</th><th style=\"text-align: center\">1</th><th style=\"text-align: center\">2</th><th style=\"text-align: center\">3</th><th style=\"text-align: center\">4</th><th style=\"text-align: center\"> ... </th><th style=\"text-align: center\">35</th><th style=\"text-align: center\">36</th><th style=\"text-align: center\">37</th><th style=\"text-align: center\">38</th><th style=\"text-align: center\">39</th></tr><tr><th style=\"text-align: center\">0</th><td style=\"text-align: center\">0/1</td><td style=\"text-align: center\">./.</td><td style=\"text-align: center\">0/1</td><td style=\"text-align: center\">./.</td><td style=\"text-align: center\">0/1</td><td style=\"text-align: center\"> ... </td><td style=\"text-align: center\">./.</td><td style=\"text-align: center\">0/1</td><td style=\"text-align: center\">./.</td><td style=\"text-align: center\">0/1</td><td style=\"text-align: center\">./.</td></tr><tr><th style=\"text-align: center\">1</th><td style=\"text-align: center\">0/1</td><td style=\"text-align: center\">./.</td><td style=\"text-align: center\">0/1</td><td style=\"text-align: center\">./.</td><td style=\"text-align: center\">0/1</td><td style=\"text-align: center\"> ... </td><td style=\"text-align: center\">./.</td><td style=\"text-align: center\">0/1</td><td style=\"text-align: center\">./.</td><td style=\"text-align: center\">0/1</td><td style=\"text-align: center\">./.</td></tr><tr><th style=\"text-align: center\">2</th><td style=\"text-align: center\">0/1</td><td style=\"text-align: center\">./.</td><td style=\"text-align: center\">0/1</td><td style=\"text-align: center\">./.</td><td style=\"text-align: center\">0/1</td><td style=\"text-align: center\"> ... </td><td style=\"text-align: center\">./.</td><td style=\"text-align: center\">0/1</td><td style=\"text-align: center\">./.</td><td style=\"text-align: center\">0/1</td><td style=\"text-align: center\">./.</td></tr><tr><th style=\"text-align: center\">3</th><td style=\"text-align: center\">0/1</td><td style=\"text-align: center\">./.</td><td style=\"text-align: center\">0/1</td><td style=\"text-align: center\">./.</td><td style=\"text-align: center\">0/1</td><td style=\"text-align: center\"> ... </td><td style=\"text-align: center\">./.</td><td style=\"text-align: center\">0/1</td><td style=\"text-align: center\">./.</td><td style=\"text-align: center\">0/1</td><td style=\"text-align: center\">./.</td></tr><tr><th style=\"text-align: center\">4</th><td style=\"text-align: center\">0/1</td><td style=\"text-align: center\">./.</td><td style=\"text-align: center\">0/1</td><td style=\"text-align: center\">./.</td><td style=\"text-align: center\">0/1</td><td style=\"text-align: center\"> ... </td><td style=\"text-align: center\">./.</td><td style=\"text-align: center\">0/1</td><td style=\"text-align: center\">./.</td><td style=\"text-align: center\">0/1</td><td style=\"text-align: center\">./.</td></tr></table>"
      ],
      "text/plain": [
       "<GenotypeDaskArray shape=(5, 40, 2) dtype=int64>"
      ]
     },
     "execution_count": 75,
     "metadata": {},
     "output_type": "execute_result"
    }
   ],
   "source": [
    "gd[:5]"
   ]
  },
  {
   "cell_type": "code",
   "execution_count": 76,
   "metadata": {
    "collapsed": false
   },
   "outputs": [
    {
     "data": {
      "text/html": [
       "&lt;GenotypeArray shape=(20, 40, 2) dtype=int64><table><tr><th></th><th style=\"text-align: center\">0</th><th style=\"text-align: center\">1</th><th style=\"text-align: center\">2</th><th style=\"text-align: center\">3</th><th style=\"text-align: center\">4</th><th style=\"text-align: center\"> ... </th><th style=\"text-align: center\">35</th><th style=\"text-align: center\">36</th><th style=\"text-align: center\">37</th><th style=\"text-align: center\">38</th><th style=\"text-align: center\">39</th></tr><tr><th style=\"text-align: center\">0</th><td style=\"text-align: center\">0/1</td><td style=\"text-align: center\">./.</td><td style=\"text-align: center\">0/1</td><td style=\"text-align: center\">./.</td><td style=\"text-align: center\">0/1</td><td style=\"text-align: center\"> ... </td><td style=\"text-align: center\">./.</td><td style=\"text-align: center\">0/1</td><td style=\"text-align: center\">./.</td><td style=\"text-align: center\">0/1</td><td style=\"text-align: center\">./.</td></tr><tr><th style=\"text-align: center\">1</th><td style=\"text-align: center\">0/1</td><td style=\"text-align: center\">./.</td><td style=\"text-align: center\">0/1</td><td style=\"text-align: center\">./.</td><td style=\"text-align: center\">0/1</td><td style=\"text-align: center\"> ... </td><td style=\"text-align: center\">./.</td><td style=\"text-align: center\">0/1</td><td style=\"text-align: center\">./.</td><td style=\"text-align: center\">0/1</td><td style=\"text-align: center\">./.</td></tr><tr><th style=\"text-align: center\">2</th><td style=\"text-align: center\">0/1</td><td style=\"text-align: center\">./.</td><td style=\"text-align: center\">0/1</td><td style=\"text-align: center\">./.</td><td style=\"text-align: center\">0/1</td><td style=\"text-align: center\"> ... </td><td style=\"text-align: center\">./.</td><td style=\"text-align: center\">0/1</td><td style=\"text-align: center\">./.</td><td style=\"text-align: center\">0/1</td><td style=\"text-align: center\">./.</td></tr><tr><th style=\"text-align: center\">...</th><td style=\"text-align: center\" colspan=12>...</td></tr><tr><th style=\"text-align: center\">17</th><td style=\"text-align: center\">0/1</td><td style=\"text-align: center\">./.</td><td style=\"text-align: center\">0/1</td><td style=\"text-align: center\">./.</td><td style=\"text-align: center\">0/1</td><td style=\"text-align: center\"> ... </td><td style=\"text-align: center\">./.</td><td style=\"text-align: center\">0/1</td><td style=\"text-align: center\">./.</td><td style=\"text-align: center\">0/1</td><td style=\"text-align: center\">./.</td></tr><tr><th style=\"text-align: center\">18</th><td style=\"text-align: center\">0/1</td><td style=\"text-align: center\">./.</td><td style=\"text-align: center\">0/1</td><td style=\"text-align: center\">./.</td><td style=\"text-align: center\">0/1</td><td style=\"text-align: center\"> ... </td><td style=\"text-align: center\">./.</td><td style=\"text-align: center\">0/1</td><td style=\"text-align: center\">./.</td><td style=\"text-align: center\">0/1</td><td style=\"text-align: center\">./.</td></tr><tr><th style=\"text-align: center\">19</th><td style=\"text-align: center\">0/1</td><td style=\"text-align: center\">./.</td><td style=\"text-align: center\">0/1</td><td style=\"text-align: center\">./.</td><td style=\"text-align: center\">0/1</td><td style=\"text-align: center\"> ... </td><td style=\"text-align: center\">./.</td><td style=\"text-align: center\">0/1</td><td style=\"text-align: center\">./.</td><td style=\"text-align: center\">0/1</td><td style=\"text-align: center\">./.</td></tr></table>"
      ],
      "text/plain": [
       "<GenotypeArray shape=(20, 40, 2) dtype=int64>\n",
       "0/1 ./. 0/1 ./. 0/1  ...  ./. 0/1 ./. 0/1 ./.\n",
       "0/1 ./. 0/1 ./. 0/1  ...  ./. 0/1 ./. 0/1 ./.\n",
       "0/1 ./. 0/1 ./. 0/1  ...  ./. 0/1 ./. 0/1 ./.\n",
       " ... \n",
       "0/1 ./. 0/1 ./. 0/1  ...  ./. 0/1 ./. 0/1 ./.\n",
       "0/1 ./. 0/1 ./. 0/1  ...  ./. 0/1 ./. 0/1 ./.\n",
       "0/1 ./. 0/1 ./. 0/1  ...  ./. 0/1 ./. 0/1 ./."
      ]
     },
     "execution_count": 76,
     "metadata": {},
     "output_type": "execute_result"
    }
   ],
   "source": [
    "gd.compute()"
   ]
  },
  {
   "cell_type": "code",
   "execution_count": 79,
   "metadata": {
    "collapsed": false
   },
   "outputs": [
    {
     "data": {
      "text/html": [
       "&lt;GenotypeDaskArray shape=(40, 40, 2) dtype=int64><table><tr><th></th><th style=\"text-align: center\">0</th><th style=\"text-align: center\">1</th><th style=\"text-align: center\">2</th><th style=\"text-align: center\">3</th><th style=\"text-align: center\">4</th><th style=\"text-align: center\"> ... </th><th style=\"text-align: center\">35</th><th style=\"text-align: center\">36</th><th style=\"text-align: center\">37</th><th style=\"text-align: center\">38</th><th style=\"text-align: center\">39</th></tr><tr><th style=\"text-align: center\">0</th><td style=\"text-align: center\">0/1</td><td style=\"text-align: center\">./.</td><td style=\"text-align: center\">0/1</td><td style=\"text-align: center\">./.</td><td style=\"text-align: center\">0/1</td><td style=\"text-align: center\"> ... </td><td style=\"text-align: center\">./.</td><td style=\"text-align: center\">0/1</td><td style=\"text-align: center\">./.</td><td style=\"text-align: center\">0/1</td><td style=\"text-align: center\">./.</td></tr><tr><th style=\"text-align: center\">1</th><td style=\"text-align: center\">0/1</td><td style=\"text-align: center\">./.</td><td style=\"text-align: center\">0/1</td><td style=\"text-align: center\">./.</td><td style=\"text-align: center\">0/1</td><td style=\"text-align: center\"> ... </td><td style=\"text-align: center\">./.</td><td style=\"text-align: center\">0/1</td><td style=\"text-align: center\">./.</td><td style=\"text-align: center\">0/1</td><td style=\"text-align: center\">./.</td></tr><tr><th style=\"text-align: center\">2</th><td style=\"text-align: center\">0/1</td><td style=\"text-align: center\">./.</td><td style=\"text-align: center\">0/1</td><td style=\"text-align: center\">./.</td><td style=\"text-align: center\">0/1</td><td style=\"text-align: center\"> ... </td><td style=\"text-align: center\">./.</td><td style=\"text-align: center\">0/1</td><td style=\"text-align: center\">./.</td><td style=\"text-align: center\">0/1</td><td style=\"text-align: center\">./.</td></tr><tr><th style=\"text-align: center\">...</th><td style=\"text-align: center\" colspan=12>...</td></tr><tr><th style=\"text-align: center\">37</th><td style=\"text-align: center\">0/1</td><td style=\"text-align: center\">./.</td><td style=\"text-align: center\">0/1</td><td style=\"text-align: center\">./.</td><td style=\"text-align: center\">0/1</td><td style=\"text-align: center\"> ... </td><td style=\"text-align: center\">./.</td><td style=\"text-align: center\">0/1</td><td style=\"text-align: center\">./.</td><td style=\"text-align: center\">0/1</td><td style=\"text-align: center\">./.</td></tr><tr><th style=\"text-align: center\">38</th><td style=\"text-align: center\">0/1</td><td style=\"text-align: center\">./.</td><td style=\"text-align: center\">0/1</td><td style=\"text-align: center\">./.</td><td style=\"text-align: center\">0/1</td><td style=\"text-align: center\"> ... </td><td style=\"text-align: center\">./.</td><td style=\"text-align: center\">0/1</td><td style=\"text-align: center\">./.</td><td style=\"text-align: center\">0/1</td><td style=\"text-align: center\">./.</td></tr><tr><th style=\"text-align: center\">39</th><td style=\"text-align: center\">0/1</td><td style=\"text-align: center\">./.</td><td style=\"text-align: center\">0/1</td><td style=\"text-align: center\">./.</td><td style=\"text-align: center\">0/1</td><td style=\"text-align: center\"> ... </td><td style=\"text-align: center\">./.</td><td style=\"text-align: center\">0/1</td><td style=\"text-align: center\">./.</td><td style=\"text-align: center\">0/1</td><td style=\"text-align: center\">./.</td></tr></table>"
      ],
      "text/plain": [
       "<GenotypeDaskArray shape=(40, 40, 2) dtype=int64>"
      ]
     },
     "execution_count": 79,
     "metadata": {},
     "output_type": "execute_result"
    }
   ],
   "source": [
    "gd.concatenate(gd)"
   ]
  },
  {
   "cell_type": "code",
   "execution_count": 80,
   "metadata": {
    "collapsed": false
   },
   "outputs": [
    {
     "data": {
      "text/html": [
       "&lt;GenotypeDaskArray shape=(20, 80, 2) dtype=int64><table><tr><th></th><th style=\"text-align: center\">0</th><th style=\"text-align: center\">1</th><th style=\"text-align: center\">2</th><th style=\"text-align: center\">3</th><th style=\"text-align: center\">4</th><th style=\"text-align: center\"> ... </th><th style=\"text-align: center\">75</th><th style=\"text-align: center\">76</th><th style=\"text-align: center\">77</th><th style=\"text-align: center\">78</th><th style=\"text-align: center\">79</th></tr><tr><th style=\"text-align: center\">0</th><td style=\"text-align: center\">0/1</td><td style=\"text-align: center\">./.</td><td style=\"text-align: center\">0/1</td><td style=\"text-align: center\">./.</td><td style=\"text-align: center\">0/1</td><td style=\"text-align: center\"> ... </td><td style=\"text-align: center\">./.</td><td style=\"text-align: center\">0/1</td><td style=\"text-align: center\">./.</td><td style=\"text-align: center\">0/1</td><td style=\"text-align: center\">./.</td></tr><tr><th style=\"text-align: center\">1</th><td style=\"text-align: center\">0/1</td><td style=\"text-align: center\">./.</td><td style=\"text-align: center\">0/1</td><td style=\"text-align: center\">./.</td><td style=\"text-align: center\">0/1</td><td style=\"text-align: center\"> ... </td><td style=\"text-align: center\">./.</td><td style=\"text-align: center\">0/1</td><td style=\"text-align: center\">./.</td><td style=\"text-align: center\">0/1</td><td style=\"text-align: center\">./.</td></tr><tr><th style=\"text-align: center\">2</th><td style=\"text-align: center\">0/1</td><td style=\"text-align: center\">./.</td><td style=\"text-align: center\">0/1</td><td style=\"text-align: center\">./.</td><td style=\"text-align: center\">0/1</td><td style=\"text-align: center\"> ... </td><td style=\"text-align: center\">./.</td><td style=\"text-align: center\">0/1</td><td style=\"text-align: center\">./.</td><td style=\"text-align: center\">0/1</td><td style=\"text-align: center\">./.</td></tr><tr><th style=\"text-align: center\">...</th><td style=\"text-align: center\" colspan=12>...</td></tr><tr><th style=\"text-align: center\">17</th><td style=\"text-align: center\">0/1</td><td style=\"text-align: center\">./.</td><td style=\"text-align: center\">0/1</td><td style=\"text-align: center\">./.</td><td style=\"text-align: center\">0/1</td><td style=\"text-align: center\"> ... </td><td style=\"text-align: center\">./.</td><td style=\"text-align: center\">0/1</td><td style=\"text-align: center\">./.</td><td style=\"text-align: center\">0/1</td><td style=\"text-align: center\">./.</td></tr><tr><th style=\"text-align: center\">18</th><td style=\"text-align: center\">0/1</td><td style=\"text-align: center\">./.</td><td style=\"text-align: center\">0/1</td><td style=\"text-align: center\">./.</td><td style=\"text-align: center\">0/1</td><td style=\"text-align: center\"> ... </td><td style=\"text-align: center\">./.</td><td style=\"text-align: center\">0/1</td><td style=\"text-align: center\">./.</td><td style=\"text-align: center\">0/1</td><td style=\"text-align: center\">./.</td></tr><tr><th style=\"text-align: center\">19</th><td style=\"text-align: center\">0/1</td><td style=\"text-align: center\">./.</td><td style=\"text-align: center\">0/1</td><td style=\"text-align: center\">./.</td><td style=\"text-align: center\">0/1</td><td style=\"text-align: center\"> ... </td><td style=\"text-align: center\">./.</td><td style=\"text-align: center\">0/1</td><td style=\"text-align: center\">./.</td><td style=\"text-align: center\">0/1</td><td style=\"text-align: center\">./.</td></tr></table>"
      ],
      "text/plain": [
       "<GenotypeDaskArray shape=(20, 80, 2) dtype=int64>"
      ]
     },
     "execution_count": 80,
     "metadata": {},
     "output_type": "execute_result"
    }
   ],
   "source": [
    "gd.concatenate(gd, axis=1)"
   ]
  },
  {
   "cell_type": "code",
   "execution_count": 81,
   "metadata": {
    "collapsed": false
   },
   "outputs": [
    {
     "data": {
      "text/html": [
       "&lt;HaplotypeDaskArray shape=(20, 80) dtype=int64><table><tr><th></th><th style=\"text-align: center\">0</th><th style=\"text-align: center\">1</th><th style=\"text-align: center\">2</th><th style=\"text-align: center\">3</th><th style=\"text-align: center\">4</th><th style=\"text-align: center\"> ... </th><th style=\"text-align: center\">75</th><th style=\"text-align: center\">76</th><th style=\"text-align: center\">77</th><th style=\"text-align: center\">78</th><th style=\"text-align: center\">79</th></tr><tr><th style=\"text-align: center\">0</th><td style=\"text-align: center\">0</td><td style=\"text-align: center\">1</td><td style=\"text-align: center\">.</td><td style=\"text-align: center\">.</td><td style=\"text-align: center\">0</td><td style=\"text-align: center\"> ... </td><td style=\"text-align: center\">.</td><td style=\"text-align: center\">0</td><td style=\"text-align: center\">1</td><td style=\"text-align: center\">.</td><td style=\"text-align: center\">.</td></tr><tr><th style=\"text-align: center\">1</th><td style=\"text-align: center\">0</td><td style=\"text-align: center\">1</td><td style=\"text-align: center\">.</td><td style=\"text-align: center\">.</td><td style=\"text-align: center\">0</td><td style=\"text-align: center\"> ... </td><td style=\"text-align: center\">.</td><td style=\"text-align: center\">0</td><td style=\"text-align: center\">1</td><td style=\"text-align: center\">.</td><td style=\"text-align: center\">.</td></tr><tr><th style=\"text-align: center\">2</th><td style=\"text-align: center\">0</td><td style=\"text-align: center\">1</td><td style=\"text-align: center\">.</td><td style=\"text-align: center\">.</td><td style=\"text-align: center\">0</td><td style=\"text-align: center\"> ... </td><td style=\"text-align: center\">.</td><td style=\"text-align: center\">0</td><td style=\"text-align: center\">1</td><td style=\"text-align: center\">.</td><td style=\"text-align: center\">.</td></tr><tr><th style=\"text-align: center\">...</th><td style=\"text-align: center\" colspan=12>...</td></tr><tr><th style=\"text-align: center\">17</th><td style=\"text-align: center\">0</td><td style=\"text-align: center\">1</td><td style=\"text-align: center\">.</td><td style=\"text-align: center\">.</td><td style=\"text-align: center\">0</td><td style=\"text-align: center\"> ... </td><td style=\"text-align: center\">.</td><td style=\"text-align: center\">0</td><td style=\"text-align: center\">1</td><td style=\"text-align: center\">.</td><td style=\"text-align: center\">.</td></tr><tr><th style=\"text-align: center\">18</th><td style=\"text-align: center\">0</td><td style=\"text-align: center\">1</td><td style=\"text-align: center\">.</td><td style=\"text-align: center\">.</td><td style=\"text-align: center\">0</td><td style=\"text-align: center\"> ... </td><td style=\"text-align: center\">.</td><td style=\"text-align: center\">0</td><td style=\"text-align: center\">1</td><td style=\"text-align: center\">.</td><td style=\"text-align: center\">.</td></tr><tr><th style=\"text-align: center\">19</th><td style=\"text-align: center\">0</td><td style=\"text-align: center\">1</td><td style=\"text-align: center\">.</td><td style=\"text-align: center\">.</td><td style=\"text-align: center\">0</td><td style=\"text-align: center\"> ... </td><td style=\"text-align: center\">.</td><td style=\"text-align: center\">0</td><td style=\"text-align: center\">1</td><td style=\"text-align: center\">.</td><td style=\"text-align: center\">.</td></tr></table>"
      ],
      "text/plain": [
       "<HaplotypeDaskArray shape=(20, 80) dtype=int64>"
      ]
     },
     "execution_count": 81,
     "metadata": {},
     "output_type": "execute_result"
    }
   ],
   "source": [
    "hd = gd.to_haplotypes()\n",
    "hd"
   ]
  },
  {
   "cell_type": "code",
   "execution_count": 82,
   "metadata": {
    "collapsed": false
   },
   "outputs": [
    {
     "data": {
      "text/html": [
       "&lt;HaplotypeArray shape=(20, 80) dtype=int64><table><tr><th></th><th style=\"text-align: center\">0</th><th style=\"text-align: center\">1</th><th style=\"text-align: center\">2</th><th style=\"text-align: center\">3</th><th style=\"text-align: center\">4</th><th style=\"text-align: center\"> ... </th><th style=\"text-align: center\">75</th><th style=\"text-align: center\">76</th><th style=\"text-align: center\">77</th><th style=\"text-align: center\">78</th><th style=\"text-align: center\">79</th></tr><tr><th style=\"text-align: center\">0</th><td style=\"text-align: center\">0</td><td style=\"text-align: center\">1</td><td style=\"text-align: center\">.</td><td style=\"text-align: center\">.</td><td style=\"text-align: center\">0</td><td style=\"text-align: center\"> ... </td><td style=\"text-align: center\">.</td><td style=\"text-align: center\">0</td><td style=\"text-align: center\">1</td><td style=\"text-align: center\">.</td><td style=\"text-align: center\">.</td></tr><tr><th style=\"text-align: center\">1</th><td style=\"text-align: center\">0</td><td style=\"text-align: center\">1</td><td style=\"text-align: center\">.</td><td style=\"text-align: center\">.</td><td style=\"text-align: center\">0</td><td style=\"text-align: center\"> ... </td><td style=\"text-align: center\">.</td><td style=\"text-align: center\">0</td><td style=\"text-align: center\">1</td><td style=\"text-align: center\">.</td><td style=\"text-align: center\">.</td></tr><tr><th style=\"text-align: center\">2</th><td style=\"text-align: center\">0</td><td style=\"text-align: center\">1</td><td style=\"text-align: center\">.</td><td style=\"text-align: center\">.</td><td style=\"text-align: center\">0</td><td style=\"text-align: center\"> ... </td><td style=\"text-align: center\">.</td><td style=\"text-align: center\">0</td><td style=\"text-align: center\">1</td><td style=\"text-align: center\">.</td><td style=\"text-align: center\">.</td></tr><tr><th style=\"text-align: center\">...</th><td style=\"text-align: center\" colspan=12>...</td></tr><tr><th style=\"text-align: center\">17</th><td style=\"text-align: center\">0</td><td style=\"text-align: center\">1</td><td style=\"text-align: center\">.</td><td style=\"text-align: center\">.</td><td style=\"text-align: center\">0</td><td style=\"text-align: center\"> ... </td><td style=\"text-align: center\">.</td><td style=\"text-align: center\">0</td><td style=\"text-align: center\">1</td><td style=\"text-align: center\">.</td><td style=\"text-align: center\">.</td></tr><tr><th style=\"text-align: center\">18</th><td style=\"text-align: center\">0</td><td style=\"text-align: center\">1</td><td style=\"text-align: center\">.</td><td style=\"text-align: center\">.</td><td style=\"text-align: center\">0</td><td style=\"text-align: center\"> ... </td><td style=\"text-align: center\">.</td><td style=\"text-align: center\">0</td><td style=\"text-align: center\">1</td><td style=\"text-align: center\">.</td><td style=\"text-align: center\">.</td></tr><tr><th style=\"text-align: center\">19</th><td style=\"text-align: center\">0</td><td style=\"text-align: center\">1</td><td style=\"text-align: center\">.</td><td style=\"text-align: center\">.</td><td style=\"text-align: center\">0</td><td style=\"text-align: center\"> ... </td><td style=\"text-align: center\">.</td><td style=\"text-align: center\">0</td><td style=\"text-align: center\">1</td><td style=\"text-align: center\">.</td><td style=\"text-align: center\">.</td></tr></table>"
      ],
      "text/plain": [
       "<HaplotypeArray shape=(20, 80) dtype=int64>\n",
       "0 1 . . 0  ...  . 0 1 . .\n",
       "0 1 . . 0  ...  . 0 1 . .\n",
       "0 1 . . 0  ...  . 0 1 . .\n",
       " ... \n",
       "0 1 . . 0  ...  . 0 1 . .\n",
       "0 1 . . 0  ...  . 0 1 . .\n",
       "0 1 . . 0  ...  . 0 1 . ."
      ]
     },
     "execution_count": 82,
     "metadata": {},
     "output_type": "execute_result"
    }
   ],
   "source": [
    "hd.compute()"
   ]
  },
  {
   "cell_type": "code",
   "execution_count": 83,
   "metadata": {
    "collapsed": false
   },
   "outputs": [
    {
     "data": {
      "text/html": [
       "&lt;AlleleCountsDaskArray shape=(20, 2) dtype=int64><table><tr><th></th><th style=\"text-align: center\">0</th><th style=\"text-align: center\">1</th></tr><tr><th style=\"text-align: center\">0</th><td style=\"text-align: center\">20</td><td style=\"text-align: center\">20</td></tr><tr><th style=\"text-align: center\">1</th><td style=\"text-align: center\">20</td><td style=\"text-align: center\">20</td></tr><tr><th style=\"text-align: center\">2</th><td style=\"text-align: center\">20</td><td style=\"text-align: center\">20</td></tr><tr><th style=\"text-align: center\">...</th><td style=\"text-align: center\" colspan=3>...</td></tr><tr><th style=\"text-align: center\">17</th><td style=\"text-align: center\">20</td><td style=\"text-align: center\">20</td></tr><tr><th style=\"text-align: center\">18</th><td style=\"text-align: center\">20</td><td style=\"text-align: center\">20</td></tr><tr><th style=\"text-align: center\">19</th><td style=\"text-align: center\">20</td><td style=\"text-align: center\">20</td></tr></table>"
      ],
      "text/plain": [
       "<AlleleCountsDaskArray shape=(20, 2) dtype=int64>"
      ]
     },
     "execution_count": 83,
     "metadata": {},
     "output_type": "execute_result"
    }
   ],
   "source": [
    "acd = gd.count_alleles()\n",
    "acd"
   ]
  },
  {
   "cell_type": "code",
   "execution_count": 84,
   "metadata": {
    "collapsed": false
   },
   "outputs": [
    {
     "data": {
      "text/html": [
       "&lt;AlleleCountsArray shape=(20, 2) dtype=int64><table><tr><th></th><th style=\"text-align: center\">0</th><th style=\"text-align: center\">1</th></tr><tr><th style=\"text-align: center\">0</th><td style=\"text-align: center\">20</td><td style=\"text-align: center\">20</td></tr><tr><th style=\"text-align: center\">1</th><td style=\"text-align: center\">20</td><td style=\"text-align: center\">20</td></tr><tr><th style=\"text-align: center\">2</th><td style=\"text-align: center\">20</td><td style=\"text-align: center\">20</td></tr><tr><th style=\"text-align: center\">...</th><td style=\"text-align: center\" colspan=3>...</td></tr><tr><th style=\"text-align: center\">17</th><td style=\"text-align: center\">20</td><td style=\"text-align: center\">20</td></tr><tr><th style=\"text-align: center\">18</th><td style=\"text-align: center\">20</td><td style=\"text-align: center\">20</td></tr><tr><th style=\"text-align: center\">19</th><td style=\"text-align: center\">20</td><td style=\"text-align: center\">20</td></tr></table>"
      ],
      "text/plain": [
       "<AlleleCountsArray shape=(20, 2) dtype=int64>\n",
       "20 20\n",
       "20 20\n",
       "20 20\n",
       " ... \n",
       "20 20\n",
       "20 20\n",
       "20 20"
      ]
     },
     "execution_count": 84,
     "metadata": {},
     "output_type": "execute_result"
    }
   ],
   "source": [
    "acd.compute()"
   ]
  },
  {
   "cell_type": "code",
   "execution_count": 87,
   "metadata": {
    "collapsed": false
   },
   "outputs": [
    {
     "data": {
      "text/html": [
       "&lt;GenotypeDaskVector shape=(40, 2) dtype=int64><table><tr><th style=\"text-align: center\">0</th><th style=\"text-align: center\">1</th><th style=\"text-align: center\">2</th><th style=\"text-align: center\">3</th><th style=\"text-align: center\">4</th><th style=\"text-align: center\"> ... </th><th style=\"text-align: center\">35</th><th style=\"text-align: center\">36</th><th style=\"text-align: center\">37</th><th style=\"text-align: center\">38</th><th style=\"text-align: center\">39</th></tr><tr><td style=\"text-align: center\">0/1</td><td style=\"text-align: center\">./.</td><td style=\"text-align: center\">0/1</td><td style=\"text-align: center\">./.</td><td style=\"text-align: center\">0/1</td><td style=\"text-align: center\"> ... </td><td style=\"text-align: center\">./.</td><td style=\"text-align: center\">0/1</td><td style=\"text-align: center\">./.</td><td style=\"text-align: center\">0/1</td><td style=\"text-align: center\">./.</td></tr></table>"
      ],
      "text/plain": [
       "<GenotypeDaskVector shape=(40, 2) dtype=int64>"
      ]
     },
     "execution_count": 87,
     "metadata": {},
     "output_type": "execute_result"
    }
   ],
   "source": [
    "gd[4]"
   ]
  },
  {
   "cell_type": "code",
   "execution_count": 88,
   "metadata": {
    "collapsed": false
   },
   "outputs": [
    {
     "data": {
      "text/html": [
       "&lt;GenotypeVector shape=(40, 2) dtype=int64><table><tr><th style=\"text-align: center\">0</th><th style=\"text-align: center\">1</th><th style=\"text-align: center\">2</th><th style=\"text-align: center\">3</th><th style=\"text-align: center\">4</th><th style=\"text-align: center\"> ... </th><th style=\"text-align: center\">35</th><th style=\"text-align: center\">36</th><th style=\"text-align: center\">37</th><th style=\"text-align: center\">38</th><th style=\"text-align: center\">39</th></tr><tr><td style=\"text-align: center\">0/1</td><td style=\"text-align: center\">./.</td><td style=\"text-align: center\">0/1</td><td style=\"text-align: center\">./.</td><td style=\"text-align: center\">0/1</td><td style=\"text-align: center\"> ... </td><td style=\"text-align: center\">./.</td><td style=\"text-align: center\">0/1</td><td style=\"text-align: center\">./.</td><td style=\"text-align: center\">0/1</td><td style=\"text-align: center\">./.</td></tr></table>"
      ],
      "text/plain": [
       "<GenotypeVector shape=(40, 2) dtype=int64>\n",
       "0/1 ./. 0/1 ./. 0/1  ...  ./. 0/1 ./. 0/1 ./."
      ]
     },
     "execution_count": 88,
     "metadata": {},
     "output_type": "execute_result"
    }
   ],
   "source": [
    "gd[4].compute()"
   ]
  },
  {
   "cell_type": "code",
   "execution_count": 89,
   "metadata": {
    "collapsed": false
   },
   "outputs": [
    {
     "data": {
      "text/html": [
       "&lt;AlleleCountsDaskArray shape=(20, 2) dtype=int64><table><tr><th></th><th style=\"text-align: center\">0</th><th style=\"text-align: center\">1</th></tr><tr><th style=\"text-align: center\">0</th><td style=\"text-align: center\">40</td><td style=\"text-align: center\">40</td></tr><tr><th style=\"text-align: center\">1</th><td style=\"text-align: center\">40</td><td style=\"text-align: center\">40</td></tr><tr><th style=\"text-align: center\">2</th><td style=\"text-align: center\">40</td><td style=\"text-align: center\">40</td></tr><tr><th style=\"text-align: center\">...</th><td style=\"text-align: center\" colspan=3>...</td></tr><tr><th style=\"text-align: center\">17</th><td style=\"text-align: center\">40</td><td style=\"text-align: center\">40</td></tr><tr><th style=\"text-align: center\">18</th><td style=\"text-align: center\">40</td><td style=\"text-align: center\">40</td></tr><tr><th style=\"text-align: center\">19</th><td style=\"text-align: center\">40</td><td style=\"text-align: center\">40</td></tr></table>"
      ],
      "text/plain": [
       "<AlleleCountsDaskArray shape=(20, 2) dtype=int64>"
      ]
     },
     "execution_count": 89,
     "metadata": {},
     "output_type": "execute_result"
    }
   ],
   "source": [
    "acd + acd"
   ]
  },
  {
   "cell_type": "code",
   "execution_count": 90,
   "metadata": {
    "collapsed": false
   },
   "outputs": [
    {
     "data": {
      "text/html": [
       "&lt;AlleleCountsArray shape=(20, 2) dtype=int64><table><tr><th></th><th style=\"text-align: center\">0</th><th style=\"text-align: center\">1</th></tr><tr><th style=\"text-align: center\">0</th><td style=\"text-align: center\">40</td><td style=\"text-align: center\">40</td></tr><tr><th style=\"text-align: center\">1</th><td style=\"text-align: center\">40</td><td style=\"text-align: center\">40</td></tr><tr><th style=\"text-align: center\">2</th><td style=\"text-align: center\">40</td><td style=\"text-align: center\">40</td></tr><tr><th style=\"text-align: center\">...</th><td style=\"text-align: center\" colspan=3>...</td></tr><tr><th style=\"text-align: center\">17</th><td style=\"text-align: center\">40</td><td style=\"text-align: center\">40</td></tr><tr><th style=\"text-align: center\">18</th><td style=\"text-align: center\">40</td><td style=\"text-align: center\">40</td></tr><tr><th style=\"text-align: center\">19</th><td style=\"text-align: center\">40</td><td style=\"text-align: center\">40</td></tr></table>"
      ],
      "text/plain": [
       "<AlleleCountsArray shape=(20, 2) dtype=int64>\n",
       "40 40\n",
       "40 40\n",
       "40 40\n",
       " ... \n",
       "40 40\n",
       "40 40\n",
       "40 40"
      ]
     },
     "execution_count": 90,
     "metadata": {},
     "output_type": "execute_result"
    }
   ],
   "source": [
    "(acd + acd).compute()"
   ]
  },
  {
   "cell_type": "code",
   "execution_count": null,
   "metadata": {
    "collapsed": true
   },
   "outputs": [],
   "source": []
  }
 ],
 "metadata": {
  "kernelspec": {
   "display_name": "Python 3",
   "language": "python",
   "name": "python3"
  },
  "language_info": {
   "codemirror_mode": {
    "name": "ipython",
    "version": 3
   },
   "file_extension": ".py",
   "mimetype": "text/x-python",
   "name": "python",
   "nbconvert_exporter": "python",
   "pygments_lexer": "ipython3",
   "version": "3.5.2"
  }
 },
 "nbformat": 4,
 "nbformat_minor": 0
}
